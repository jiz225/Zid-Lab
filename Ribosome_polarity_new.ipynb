{
 "cells": [
  {
   "cell_type": "markdown",
   "metadata": {},
   "source": [
    "Schuller et al., eIF5A Functions Globally in Translation Elongation and Termination, Molecular Cell (2017), http:// dx.doi.org/10.1016/j.molcel.2017.03.003\n",
    "\n",
    "Polarity at position i in gene with length l is defined as:\n",
    "\n",
    "$w_i = {{2i-(l+1)}\\over{l - 1}}$\n",
    "\n",
    "$p_i = {{d_i w_i}\\over{\\sum_{i=1}^l d_i}}$"
   ]
  },
  {
   "cell_type": "code",
   "execution_count": 1,
   "metadata": {},
   "outputs": [],
   "source": [
    "import sys\n",
    "import xlrd\n",
    "import pandas as pd\n",
    "import numpy as np\n",
    "from numpy import median\n",
    "import os\n",
    "import fnmatch \n",
    "import plotly.graph_objects as go\n",
    "import matplotlib.pyplot as plt\n",
    "import plotly.express as px"
   ]
  },
  {
   "cell_type": "code",
   "execution_count": 2,
   "metadata": {},
   "outputs": [
    {
     "name": "stdout",
     "output_type": "stream",
     "text": [
      "/Users/jiz225/Desktop/ZidLab/polarity\n"
     ]
    }
   ],
   "source": [
    "d1 = 0\n",
    "d2 = 35000000\n",
    "num_c = 10\n",
    "m1 = 1200\n",
    "m2 = 1500\n",
    "viewer = 2000\n",
    "exclude = 0\n",
    "cwd = os.getcwd()\n",
    "print(cwd)\n",
    "# Ribosome counts directory\n",
    "Ribocsv_dir = cwd+'/output/Glu_readd/EY-Ribo/'\n",
    "#Ribocsv_dir = cwd+'/output/Anna/'\n",
    "#polcsv_dir = cwd+'/outputcsv/Anna/'\n",
    "polcsv_dir = cwd+'/outputcsv/Glu_readd/EY-Ribo/'\n",
    "# mRNA counts directory\n",
    "#RNAcsv_dir = cwd+'/output/Glu_readd/EY-RNA/'\n",
    "# Delta Dhh1 file\n",
    "dhh1file = cwd+'/Dhh1_Length_Short.xlsx'\n",
    "# Mitochondia genes\n",
    "mitofile = cwd+'/Williams_mito_Proxi_ribosom_Profiling.xls'\n",
    "#tag = 'longmers_deduplicated_sorted_aligned_coding_NI-'\n",
    "tag = 'Ribo'\n",
    "#names = ['811','813', '815','817']\n",
    "#labels = ['logphase', '-Glucose 1min','-Glucose 5min', '-Glucose 15min']\n",
    "#names = ['15','7516','1517', '15118','15529']\n",
    "names = ['15','7516','1517']\n",
    "labels = ['logphase','-Glucose 7.5min', '-Glucose 15min']\n",
    "\n",
    "# Range of genes: length in bp\n",
    "d1 = 0\n",
    "d2 = 7654321\n",
    "startbp = 45\n",
    "endbp = 2000\n",
    "# Dhh1 tag all, enriched, depleted\n",
    "dhh1_tag = 'all'"
   ]
  },
  {
   "cell_type": "code",
   "execution_count": 3,
   "metadata": {},
   "outputs": [],
   "source": [
    "codes = ['HSP30','PAB1','PGK1','HSP82','HXK1','GLC3']\n",
    "col = ['red','green','green','red','blue','blue']\n",
    "red = ['YCR021C','YER165W','YCR012W','YPL240C','YFR053C','YEL011W']"
   ]
  },
  {
   "cell_type": "code",
   "execution_count": 4,
   "metadata": {},
   "outputs": [
    {
     "name": "stdout",
     "output_type": "stream",
     "text": [
      "15\n",
      "7516\n",
      "1517\n",
      "all files to measure in /Users/jiz225/Desktop/ZidLab/polarity/output/Glu_readd/EY-Ribo/ is  3\n",
      "total number of genes:  4319\n",
      "0.25   -0.409515\n",
      "0.50    0.127641\n",
      "0.65    0.406414\n",
      "0.75    0.592998\n",
      "Name: Delta_Dhh1, dtype: float64\n",
      "dhh1 enriched genes(-G-+G)  2159\n",
      "dhh1 depleted genes(-G-+G)  2159\n",
      "dhh1 all genes(-G-+G)  4319\n",
      "all 4319\n"
     ]
    }
   ],
   "source": [
    "## Load data and find concensus genes in length range\n",
    "#red = ['YLL026W', 'YDR258C', 'YPL240C', 'YBR169C', 'YER103W', 'YGR142W', 'YDR171W', 'YCR021C', 'YBR072W', 'YFL014W', 'YLR327C']\n",
    "isred = []\n",
    "df_dhh1_all = pd.read_excel(dhh1file)\n",
    "df_dhh1_all = df_dhh1_all.set_index('Name')\n",
    "namelist = df_dhh1_all.index\n",
    "polcsv_list = []\n",
    "for root,dirs,files in os.walk(polcsv_dir):\n",
    "    for n in names:\n",
    "        for file in files: \n",
    "            time = ''\n",
    "            if file.split('.')[-1] == \"csv\" and tag in file:\n",
    "                time = ''.join(filter(lambda i: i.isdigit(), file.split('/')[-1].split(tag)[1].split('.csv')[0])) \n",
    "            if time == n:\n",
    "                print(time)\n",
    "                polcsv_list.append(polcsv_dir + file)\n",
    "                df = pd.read_csv(polcsv_dir + file)\n",
    "                #d2 = min(d2, max(df.Length))\n",
    "                df = df[(df.Length >= d1)&(df.Length <= d2)]\n",
    "                namelist = list(set(namelist) & set(df.Name))\n",
    "print('all files to measure in ' + Ribocsv_dir + ' is ',len(polcsv_list))\n",
    "df_dhh1 = df_dhh1_all[df_dhh1_all.index.isin(namelist)] \n",
    "print('total number of genes: ', len(df_dhh1))\n",
    "spread_dhh1 = df_dhh1.Delta_Dhh1.quantile([0.25,0.5,0.65,0.75])\n",
    "print(spread_dhh1)\n",
    "low = spread_dhh1.get(key=0.25)\n",
    "med = spread_dhh1.get(key=0.5)\n",
    "high = spread_dhh1.get(key=0.75)\n",
    "\n",
    "dhh1_enrich = df_dhh1[(df_dhh1.Delta_Dhh1 > med)]\n",
    "dhh1_deplet = df_dhh1[(df_dhh1.Delta_Dhh1 < med)]\n",
    "#dhh1_all = df_dhh1[(df_dhh1.Delta_Dhh1 > low)&(df_dhh1.Delta_Dhh1 < high)]\n",
    "dhh1_all = df_dhh1\n",
    "print('dhh1 enriched genes(-G-+G) ',len(dhh1_enrich))\n",
    "print('dhh1 depleted genes(-G-+G) ',len(dhh1_deplet))\n",
    "print('dhh1 all genes(-G-+G) ',len(dhh1_all))\n",
    "\n",
    "if dhh1_tag == 'enriched':\n",
    "    namelist = dhh1_enrich.index.tolist()\n",
    "if dhh1_tag == 'depleted':\n",
    "    namelist = dhh1_deplet.index.tolist()\n",
    "if dhh1_tag == 'all':\n",
    "    namelist = df_dhh1.index.tolist()\n",
    "\n",
    "print(dhh1_tag, len(namelist))"
   ]
  },
  {
   "cell_type": "code",
   "execution_count": null,
   "metadata": {},
   "outputs": [],
   "source": [
    "'''\n",
    "Description: Parse the input file to start at 15 bps upstream of each gene\n",
    "    Input: path for input file and path for new csv file generated\n",
    "'''\n",
    "def makecsv(inputpath, outputpath, ext):\n",
    "    inputf = open(inputpath,'r')\n",
    "    outputf = open(outputpath, 'w')\n",
    "    print(outputpath)\n",
    "    outputf.write('Name'+ ',' + 'Orient' + ',' + 'Start' + ',' + 'End' + ',' + 'Position' + ',' +'Length' + ',' + 'RelativePosition' + ',' + 'Counts' + '\\n')\n",
    "    rposit = -1000    \n",
    "    lines = inputf.readlines()\n",
    "    for line in lines:\n",
    "        string = line.rstrip() \n",
    "        cells = string.split('\\t')\n",
    "        name = cells[0][:7] \n",
    "        orient = cells[0][6:7]\n",
    "        start = cells[1]\n",
    "        end = cells[2]\n",
    "        length = abs(int(start) - int(end))\n",
    "        riboCount = cells[4]\n",
    "        posit = cells[3]\n",
    "        \n",
    "        if orient == 'W':\n",
    "            rposit = (int(cells[3])+1 - (int(start)))\n",
    "    \n",
    "        elif orient == \"C\":\n",
    "            rposit = ((int(start))-(int(cells[3])-1))\n",
    "            \n",
    "        #if rposit > 0 and rposit <(length-15):\n",
    "        if rposit <(length-15):\n",
    "            outputf.write(str(name) + ',' + str(orient) + ',' + str(start) + ',' + str(end) + ',' + str(posit) + ',' + str(length-15) + ',' + str(rposit) + ',' + str(riboCount) + '\\n')\n",
    "    inputf.close()\n",
    "    outputf.close()"
   ]
  },
  {
   "cell_type": "code",
   "execution_count": null,
   "metadata": {},
   "outputs": [],
   "source": [
    "def calculatePolarity(i, l, densityati, density):\n",
    "    normDist = (2*i - (l + 1))/(l - 1)   \n",
    "    polarity = densityati*normDist/density\n",
    "    \n",
    "    return polarity\n",
    "\n",
    "def PolarityPerGene(inputpath, destdir):\n",
    "    df = pd.read_csv(inputpath)\n",
    "    df = df[(df.RelativePosition > 0)]\n",
    "    names = inputpath.split('.')\n",
    "    names1 = names[0].split('/')\n",
    "    \n",
    "    #this is the final output file\n",
    "    nameofcsv = destdir + names1[len(names1) - 1] + str(\"_polarity&gene.csv\")\n",
    "    print(nameofcsv)\n",
    "    \n",
    "    len_dict = dict(zip(df['Name'],df['Length']))\n",
    "    den_dict = df.groupby('Name')['Counts'].agg('sum').to_dict()\n",
    "    \n",
    "    Polaritylist = []\n",
    "    for i in range (len(df)):\n",
    "        polarityofi = calculatePolarity(df.iloc[i,6], df.iloc[i,5], df.iloc[i,7], den_dict.get(df.iloc[i,0]))\n",
    "        Polaritylist.append(polarityofi)\n",
    "    df['Polarity'] = Polaritylist\n",
    "    \n",
    "    #calculate polarity per gene\n",
    "    pol_dict = df.groupby('Name')['Polarity'].agg('sum').to_dict()\n",
    "    #print(pol_dict)\n",
    "    Lengthlist = []\n",
    "    Totalcountlist = []\n",
    "    names = []\n",
    "    genepol = []\n",
    "    for name in pol_dict.keys():\n",
    "        if name in len_dict.keys() and name in den_dict.keys():\n",
    "            Lengthlist.append(len_dict.get(name))\n",
    "            Totalcountlist.append(den_dict.get(name))\n",
    "            names.append(name)\n",
    "            genepol.append(pol_dict.get(name))\n",
    "        \n",
    "    d = {'Name':names,'Length':Lengthlist,'Counts':Totalcountlist,'PolarityPerGene': genepol}\n",
    "    dfcsv = pd.DataFrame(data=d)\n",
    "    dfcsv = dfcsv.dropna(how='any',axis=0)\n",
    "    dfcsv.to_csv(nameofcsv)\n",
    "   "
   ]
  },
  {
   "cell_type": "code",
   "execution_count": null,
   "metadata": {},
   "outputs": [],
   "source": [
    "inputlist = []\n",
    "outputlist = []\n",
    "inputfolder = os.listdir(inpath)\n",
    "extension = \"*.xls\"\n",
    "for doc in inputfolder:\n",
    "    if fnmatch.fnmatch(doc, extension):\n",
    "        #change this input and ouput file path\n",
    "        inputpath = inpath + doc\n",
    "        namelist = doc.split('.')\n",
    "        name = namelist[0]\n",
    "        outputpath = Ribocsv_dir + name + str(\".csv\")\n",
    "        inputlist.append(inputpath)\n",
    "        outputlist.append(outputpath)\n",
    "print('\\n Number of possible input files: ' + str(len(inputlist)))\n",
    "print('\\n Number of possible output csv files: ' + str(len(outputlist)))\n",
    "    \n",
    "for i in range(0, len(inputlist)):\n",
    "    makecsv(inputlist[i], outputlist[i], extension)\n",
    "    PolarityPerGene(outputlist[i], pol_dir)\n",
    "    #break"
   ]
  },
  {
   "cell_type": "code",
   "execution_count": null,
   "metadata": {},
   "outputs": [],
   "source": [
    "polcsv_list = []\n",
    "tag = 'longmers_deduplicated_sorted_aligned_coding_NI-'\n",
    "for root,dirs,files in os.walk(pol_dir):\n",
    "    for file in files:\n",
    "        if file.split('.')[-1] == \"csv\" and tag in file:\n",
    "            polcsv_list.append(csv_dir + file)\n",
    "polcsv_list = sorted(polcsv_list)\n",
    "print(len(csv_list_s))\n",
    "print(csv_list_s)"
   ]
  },
  {
   "cell_type": "code",
   "execution_count": 6,
   "metadata": {},
   "outputs": [
    {
     "name": "stdout",
     "output_type": "stream",
     "text": [
      "logphase\n",
      "In sample  811  number of genes used  2624\n",
      "-Glucose 1min\n",
      "In sample  813  number of genes used  2624\n",
      "-Glucose 5min\n",
      "In sample  815  number of genes used  2624\n",
      "-Glucose 15min\n",
      "In sample  817  number of genes used  2624\n"
     ]
    }
   ],
   "source": [
    "keys = []\n",
    "values_list = []\n",
    "fit_list = []\n",
    "times = []\n",
    "llist = []\n",
    "df_samples = pd.DataFrame()\n",
    "num_c = 15\n",
    "for i in range(len(polcsv_list)):\n",
    "    file = polcsv_list[i]\n",
    "    time = ''.join(filter(lambda i: i.isdigit(), file.split('/')[-1].split('.csv')[0])) \n",
    "    label = labels[names.index(time)]\n",
    "    print(label)\n",
    "    times.append(label)\n",
    "    df = pd.read_csv(file)\n",
    "    df = df[(df.Name.isin(namelist))]\n",
    "    '''\n",
    "    df = df.set_index('Name')\n",
    "    df_l = df.loc[:,'Length']\n",
    "    df = df.rename(columns={\"PolarityPerGene\": label})  \n",
    "    df = df.loc[:,label]\n",
    "    if len(df_samples) == 0:\n",
    "        df_samples = df_l\n",
    "    \n",
    "    df_samples = pd.merge(df_samples,df,left_index=True, right_index=True)\n",
    "    \n",
    "    '''\n",
    "    rbf_dict = df.groupby(['Length']).agg({\"PolarityPerGene\": np.sum, \"Name\": pd.Series.nunique})\n",
    "    rbf_dict['AveragedPolarity'] = rbf_dict['PolarityPerGene']/rbf_dict['Name']\n",
    "    print('In sample ', time, ' number of genes used ', len(df))\n",
    "    rbf_dict = rbf_dict.sort_values(by=['Length'])\n",
    "    pol = 0\n",
    "    agg_dict = dict()\n",
    "    for c in rbf_dict.index:\n",
    "        left_c = max(1,c - int(num_c*3/2))\n",
    "        right_c = c + int(num_c*3/2) + 1\n",
    "        pol = rbf_dict.loc[left_c:right_c,'PolarityPerGene'].mean(axis=0) \n",
    "        agg_dict.update({c:pol})\n",
    "        pol = 0\n",
    "    \n",
    "    temp_df = pd.DataFrame.from_dict(data = {'Length': list(agg_dict.keys()), label: list(agg_dict.values())})\n",
    "    temp_df = temp_df.set_index('Length')\n",
    "    if len(df_samples) == 0: \n",
    "        df_samples = temp_df  \n",
    "    else:\n",
    "        #print(df_samples.columns)\n",
    "        df_samples = pd.merge(df_samples, temp_df, left_index=True, right_index=True)\n",
    "        \n",
    "    \n",
    "    \n",
    "#df_samples = df_samples.sort_values(by=['Length'])"
   ]
  },
  {
   "cell_type": "code",
   "execution_count": 13,
   "metadata": {},
   "outputs": [
    {
     "data": {
      "image/png": "[encoded data removed]",
      "text/plain": [
       "<Figure size 612x396 with 1 Axes>"
      ]
     },
     "metadata": {
      "needs_background": "light"
     },
     "output_type": "display_data"
    },
    {
     "data": {
      "image/png": "[encoded data removed]",
      "text/plain": [
       "<Figure size 612x396 with 1 Axes>"
      ]
     },
     "metadata": {
      "needs_background": "light"
     },
     "output_type": "display_data"
    }
   ],
   "source": [
    "colors = ['royalblue','orange','green','red','violet','purple']\n",
    "\n",
    "fig = plt.figure()\n",
    "ax1 = plt.axes()\n",
    "#for i in range(2,len(times)):\n",
    "for i in range(len(times)):\n",
    "    y = df_samples[times[i]]\n",
    "    #y = df_samples[times[i]]-df_samples[times[0]]\n",
    "    ax1.plot(df_samples.index, y,label=times[i],color=colors[i])\n",
    "plt.xlim(100,2500)\n",
    "plt.ylim(-0.5,1)\n",
    "fig.set_size_inches(8.5, 5.5, forward=True)\n",
    "#plt.title(\"Polarity of \" +dhh1_tag+ \" genes between \" + str(d1) + \"bp and \" + str(d2)+ \"bp\")\n",
    "plt.xlabel(\"Gene Length\")\n",
    "plt.ylabel(\"Polarity\")\n",
    "plt.legend()\n",
    "fig.savefig(cwd+'Polarity_length_readd_'+str(d1)+str(d2)+dhh1_tag+'.png', dpi =500)\n",
    "\n",
    "fig = plt.figure()\n",
    "ax1 = plt.axes()\n",
    "#for i in range(3,len(times)):\n",
    "for i in range(1,len(times)):\n",
    "    y = (df_samples[times[i]]-df_samples[times[0]])\n",
    "    ax1.plot(df_samples.index,y,label=times[i],color=colors[i])\n",
    "plt.xlim(100,2500)\n",
    "plt.ylim(-0.5,1)\n",
    "fig.set_size_inches(8.5, 5.5, forward=True)\n",
    "plt.title(\"Polarity shift of \" +dhh1_tag+ \" genes between \" + str(d1) + \"bp and \" + str(d2)+ \"bp\")\n",
    "plt.xlabel(\"Number of genes\")\n",
    "plt.ylabel(\"Delta Polarity\")\n",
    "plt.legend()\n",
    "fig.savefig(cwd+'Delta_Polarity_length_readd_'+str(d1)+str(d2)+dhh1_tag+'.png',dpi =500)\n"
   ]
  },
  {
   "cell_type": "code",
   "execution_count": 5,
   "metadata": {},
   "outputs": [
    {
     "name": "stdout",
     "output_type": "stream",
     "text": [
      "logphase\n",
      "Index(['Unnamed: 0', 'Length', 'Counts', 'PolarityPerGene'], dtype='object')\n",
      "-Glucose 7.5min\n",
      "Index(['Unnamed: 0', 'Length', 'Counts', 'PolarityPerGene'], dtype='object')\n",
      "-Glucose 15min\n",
      "Index(['Unnamed: 0', 'Length', 'Counts', 'PolarityPerGene'], dtype='object')\n"
     ]
    }
   ],
   "source": [
    "keys = []\n",
    "values_list = []\n",
    "fit_list = []\n",
    "times = []\n",
    "df_samples = pd.DataFrame()\n",
    "num_c = 15\n",
    "for i in range(len(polcsv_list)):\n",
    "    file = polcsv_list[i]\n",
    "    time = ''.join(filter(lambda i: i.isdigit(), file.split('/')[-1].split('.csv')[0])) \n",
    "    label = labels[names.index(time)]\n",
    "    print(label)\n",
    "    times.append(label)\n",
    "    df = pd.read_csv(file)\n",
    "    df = df[(df.Name.isin(namelist))]\n",
    "    df = df.set_index('Name')\n",
    "    print(df.columns)\n",
    "    if len(df_samples) == 0:\n",
    "        df_samples = df_dhh1_all[['Code','Delta_Dhh1']]\n",
    "    df_samples = pd.merge(df_samples, df[['PolarityPerGene']], left_index=True, right_index=True)\n",
    "    df_samples = df_samples.rename(columns={\"PolarityPerGene\": label})\n",
    "    \n",
    "    \n",
    "    "
   ]
  },
  {
   "cell_type": "code",
   "execution_count": 22,
   "metadata": {},
   "outputs": [],
   "source": [
    "df_samples['Delta_polarity_075'] = df_samples[times[1]] - df_samples[times[0]]\n",
    "df_samples['Delta_polarity_15'] = df_samples[times[2]] - df_samples[times[1]]"
   ]
  },
  {
   "cell_type": "code",
   "execution_count": 23,
   "metadata": {},
   "outputs": [],
   "source": [
    "df_samples = df_samples.sort_values(by=['Delta_Dhh1'])\n",
    "low = df_samples.index.tolist()[:200]\n",
    "mid = df_samples.index.tolist()[2000:2200]\n",
    "high = df_samples.index.tolist()[-200:]\n",
    "\n",
    "isred = []\n",
    "for i in df_samples.index:\n",
    "    if i in low:\n",
    "        isred.append('low Dhh1')\n",
    "    elif i in mid:\n",
    "        isred.append('mid Dhh1')\n",
    "    elif i in high:\n",
    "        isred.append('high Dhh1')\n",
    "    else:\n",
    "        isred.append('v')\n",
    "df_samples['Type'] = isred\n",
    "#df_samples = df_samples.sort_values(by=['Type'])"
   ]
  },
  {
   "cell_type": "code",
   "execution_count": 73,
   "metadata": {},
   "outputs": [
    {
     "data": {
      "application/vnd.plotly.v1+json": {
       "config": {
        "plotlyServerURL": "https://plot.ly"
       },
       "data": [
        {
         "box": {
          "visible": true
         },
         "line": {
          "color": "purple"
         },
         "meanline": {
          "visible": true
         },
         "name": "high Dhh1",
         "type": "violin",
         "x": [
          "high Dhh1",
          "high Dhh1",
          "high Dhh1",
          "high Dhh1",
          "high Dhh1",
          "high Dhh1",
          "high Dhh1",
          "high Dhh1",
          "high Dhh1",
          "high Dhh1",
          "high Dhh1",
          "high Dhh1",
          "high Dhh1",
          "high Dhh1",
          "high Dhh1",
          "high Dhh1",
          "high Dhh1",
          "high Dhh1",
          "high Dhh1",
          "high Dhh1",
          "high Dhh1",
          "high Dhh1",
          "high Dhh1",
          "high Dhh1",
          "high Dhh1",
          "high Dhh1",
          "high Dhh1",
          "high Dhh1",
          "high Dhh1",
          "high Dhh1",
          "high Dhh1",
          "high Dhh1",
          "high Dhh1",
          "high Dhh1",
          "high Dhh1",
          "high Dhh1",
          "high Dhh1",
          "high Dhh1",
          "high Dhh1",
          "high Dhh1",
          "high Dhh1",
          "high Dhh1",
          "high Dhh1",
          "high Dhh1",
          "high Dhh1",
          "high Dhh1",
          "high Dhh1",
          "high Dhh1",
          "high Dhh1",
          "high Dhh1",
          "high Dhh1",
          "high Dhh1",
          "high Dhh1",
          "high Dhh1",
          "high Dhh1",
          "high Dhh1",
          "high Dhh1",
          "high Dhh1",
          "high Dhh1",
          "high Dhh1",
          "high Dhh1",
          "high Dhh1",
          "high Dhh1",
          "high Dhh1",
          "high Dhh1",
          "high Dhh1",
          "high Dhh1",
          "high Dhh1",
          "high Dhh1",
          "high Dhh1",
          "high Dhh1",
          "high Dhh1",
          "high Dhh1",
          "high Dhh1",
          "high Dhh1",
          "high Dhh1",
          "high Dhh1",
          "high Dhh1",
          "high Dhh1",
          "high Dhh1",
          "high Dhh1",
          "high Dhh1",
          "high Dhh1",
          "high Dhh1",
          "high Dhh1",
          "high Dhh1",
          "high Dhh1",
          "high Dhh1",
          "high Dhh1",
          "high Dhh1",
          "high Dhh1",
          "high Dhh1",
          "high Dhh1",
          "high Dhh1",
          "high Dhh1",
          "high Dhh1",
          "high Dhh1",
          "high Dhh1",
          "high Dhh1",
          "high Dhh1",
          "high Dhh1",
          "high Dhh1",
          "high Dhh1",
          "high Dhh1",
          "high Dhh1",
          "high Dhh1",
          "high Dhh1",
          "high Dhh1",
          "high Dhh1",
          "high Dhh1",
          "high Dhh1",
          "high Dhh1",
          "high Dhh1",
          "high Dhh1",
          "high Dhh1",
          "high Dhh1",
          "high Dhh1",
          "high Dhh1",
          "high Dhh1",
          "high Dhh1",
          "high Dhh1",
          "high Dhh1",
          "high Dhh1",
          "high Dhh1",
          "high Dhh1",
          "high Dhh1",
          "high Dhh1",
          "high Dhh1",
          "high Dhh1",
          "high Dhh1",
          "high Dhh1",
          "high Dhh1",
          "high Dhh1",
          "high Dhh1",
          "high Dhh1",
          "high Dhh1",
          "high Dhh1",
          "high Dhh1",
          "high Dhh1",
          "high Dhh1",
          "high Dhh1",
          "high Dhh1",
          "high Dhh1",
          "high Dhh1",
          "high Dhh1",
          "high Dhh1",
          "high Dhh1",
          "high Dhh1",
          "high Dhh1",
          "high Dhh1",
          "high Dhh1",
          "high Dhh1",
          "high Dhh1",
          "high Dhh1",
          "high Dhh1",
          "high Dhh1",
          "high Dhh1",
          "high Dhh1",
          "high Dhh1",
          "high Dhh1",
          "high Dhh1",
          "high Dhh1",
          "high Dhh1",
          "high Dhh1",
          "high Dhh1",
          "high Dhh1",
          "high Dhh1",
          "high Dhh1",
          "high Dhh1",
          "high Dhh1",
          "high Dhh1",
          "high Dhh1",
          "high Dhh1",
          "high Dhh1",
          "high Dhh1",
          "high Dhh1",
          "high Dhh1",
          "high Dhh1",
          "high Dhh1",
          "high Dhh1",
          "high Dhh1",
          "high Dhh1",
          "high Dhh1",
          "high Dhh1",
          "high Dhh1",
          "high Dhh1",
          "high Dhh1",
          "high Dhh1",
          "high Dhh1",
          "high Dhh1",
          "high Dhh1",
          "high Dhh1",
          "high Dhh1",
          "high Dhh1",
          "high Dhh1",
          "high Dhh1",
          "high Dhh1",
          "high Dhh1",
          "high Dhh1",
          "high Dhh1"
         ],
         "y": [
          0.2768276050789513,
          0.012104630435683772,
          0.21520681401465805,
          0.3088167112428967,
          0.14954749337007284,
          0.20061109674081742,
          0.25414002527613366,
          0.3378905208436322,
          0.18519629836355816,
          0.21065475997402688,
          0.3182673794233369,
          0.34129795064556545,
          0.5152331011375006,
          0.2170737273664859,
          -0.22651515151515145,
          0.26289844936037954,
          0.36830865603644647,
          0.29003227140062826,
          -0.19076744497522213,
          0.08519430258252114,
          0.3739797698787355,
          0.31010425020048116,
          0.4865809018567637,
          0.1804935521877372,
          0.43869568594327213,
          0.43070190109828854,
          0.1584153862063449,
          0.25233779598439965,
          0.24154462061710694,
          0.4047389915712526,
          0.1372978749678297,
          0.2289043602956497,
          0.30949997068995827,
          0.4055413028036603,
          0.2747050147492625,
          0.04584499049354068,
          0.2090736743860468,
          -0.08959366450033335,
          0.41523361101050354,
          0.4108684693515383,
          0.5270700735489144,
          -0.027379862121204634,
          0.23420334182681998,
          0.4859583239095653,
          -0.38984255967496184,
          0.4789517660131061,
          0.11052278302200877,
          0.10003975399152533,
          0.5779993890715684,
          0.18912512399102224,
          0.10050618938736894,
          0.2983955829814876,
          0.2832644921184333,
          0.14875453405035344,
          0.4937872049247008,
          0.4501007284817071,
          0.16008217610651698,
          0.3334113053857527,
          0.4191788931788931,
          0.39861522053833226,
          0.13774365728174565,
          0.371045474622309,
          0.14126514792092945,
          0.4413388551031182,
          0.22867521399613552,
          0.2355516645699156,
          0.1374745811532956,
          0.5430996286129502,
          0.34697924640781763,
          0.4228022759601707,
          0.18285275582911747,
          0.29485065476670935,
          0.4034135967125658,
          0.22570602726830954,
          0.10728568829499513,
          0.26007297115896577,
          0.16164255716285572,
          0.2593369561150508,
          0.16718247158645036,
          0.32785992822416177,
          0.3729986432953471,
          0.2582726326742977,
          1.1476797261316092,
          -0.18180559786139164,
          0.21321005261052234,
          0.35525523165972606,
          -0.012519113149847078,
          0.1748635117189271,
          -0.06271533460755746,
          0.17723528477942607,
          0.20261098904910968,
          0.05703362703689316,
          0.23103359693871892,
          0.19142704061311228,
          0.2643790381331136,
          0.4401440733464308,
          0.23959570327419827,
          0.1220651776571374,
          0.23367375188409356,
          0.3776669901071815,
          0.32200466537357575,
          0.16640226226805468,
          0.35716854991751734,
          -0.0003403752471083932,
          0.3378997380588765,
          0.05955971375141392,
          0.21676168874421864,
          0.01265677440665966,
          0.35335660442639855,
          0.28227962043820876,
          0.3486286786377316,
          0.21125937495086505,
          0.3043247500438414,
          0.14407092142941208,
          0.25536252158125083,
          0.35077255660484696,
          0.20883086235670156,
          0.09074319576555726,
          0.42423772765901246,
          0.2923016486821591,
          0.32168525583542473,
          0.22120663630999593,
          0.348090366147477,
          0.2685894705405281,
          0.5824627256799726,
          0.05541839487702746,
          0.021627093089983562,
          0.35896098164489315,
          0.2690278699100401,
          0.15867030655284017,
          0.3361103335939217,
          0.0028151434371750817,
          0.2889695614765084,
          0.04936367142306214,
          0.4046862714097498,
          0.19922186751795695,
          0.46854092620774324,
          -0.17959874305051968,
          0.13948735202030538,
          0.18793972884017246,
          0.2863643887323688,
          0.17624877788571527,
          0.3388820609986644,
          0.27284655682849696,
          0.12377014926866675,
          0.7183383991894631,
          0.13446373828501362,
          0.29890921914231783,
          0.33842132382270773,
          0.23262387221499978,
          0.4195370334630198,
          0.3454095181013742,
          0.24126873240339963,
          0.28817903108298676,
          -0.14202551292545545,
          0.26415495136484857,
          -0.002349869451697087,
          0.4117955066403035,
          0.5241354561719198,
          -0.02601107748352971,
          0.11954177357178217,
          0.28935858432507744,
          0.286905999535327,
          0.1522262686208063,
          0.29298577645413115,
          0.0753590722167119,
          0.31884346959122634,
          0.19082776757101327,
          -0.058555223237140505,
          0.24584603564442603,
          0.10199465350606635,
          0.20982579459745287,
          0.7471106604675704,
          0.26746268656716415,
          0.07341634323858058,
          0.3977075515858889,
          0.30421634879769205,
          0.18591570393417792,
          -0.05477091889605279,
          0.528883445601143,
          0.33376055767498536,
          0.15399158538652466,
          0.1317877842436297,
          0.3853812243239465,
          0.37016619623940517,
          -0.5124653739612188,
          -0.2788284632034631,
          0.5667377529423909,
          -0.5807860262008734,
          0.39446344243608544,
          0.406498137693292,
          0.47296328050815434,
          0.3306388585691429,
          0.30741482965931866,
          -0.019852848786072297,
          -0.1818543753449695,
          -0.6305578011317705,
          -0.2981481481481481,
          -0.6267910246012438,
          -1.2397695375978728
         ]
        },
        {
         "box": {
          "visible": true
         },
         "line": {
          "color": "orange"
         },
         "meanline": {
          "visible": true
         },
         "name": "low Dhh1",
         "type": "violin",
         "x": [
          "low Dhh1",
          "low Dhh1",
          "low Dhh1",
          "low Dhh1",
          "low Dhh1",
          "low Dhh1",
          "low Dhh1",
          "low Dhh1",
          "low Dhh1",
          "low Dhh1",
          "low Dhh1",
          "low Dhh1",
          "low Dhh1",
          "low Dhh1",
          "low Dhh1",
          "low Dhh1",
          "low Dhh1",
          "low Dhh1",
          "low Dhh1",
          "low Dhh1",
          "low Dhh1",
          "low Dhh1",
          "low Dhh1",
          "low Dhh1",
          "low Dhh1",
          "low Dhh1",
          "low Dhh1",
          "low Dhh1",
          "low Dhh1",
          "low Dhh1",
          "low Dhh1",
          "low Dhh1",
          "low Dhh1",
          "low Dhh1",
          "low Dhh1",
          "low Dhh1",
          "low Dhh1",
          "low Dhh1",
          "low Dhh1",
          "low Dhh1",
          "low Dhh1",
          "low Dhh1",
          "low Dhh1",
          "low Dhh1",
          "low Dhh1",
          "low Dhh1",
          "low Dhh1",
          "low Dhh1",
          "low Dhh1",
          "low Dhh1",
          "low Dhh1",
          "low Dhh1",
          "low Dhh1",
          "low Dhh1",
          "low Dhh1",
          "low Dhh1",
          "low Dhh1",
          "low Dhh1",
          "low Dhh1",
          "low Dhh1",
          "low Dhh1",
          "low Dhh1",
          "low Dhh1",
          "low Dhh1",
          "low Dhh1",
          "low Dhh1",
          "low Dhh1",
          "low Dhh1",
          "low Dhh1",
          "low Dhh1",
          "low Dhh1",
          "low Dhh1",
          "low Dhh1",
          "low Dhh1",
          "low Dhh1",
          "low Dhh1",
          "low Dhh1",
          "low Dhh1",
          "low Dhh1",
          "low Dhh1",
          "low Dhh1",
          "low Dhh1",
          "low Dhh1",
          "low Dhh1",
          "low Dhh1",
          "low Dhh1",
          "low Dhh1",
          "low Dhh1",
          "low Dhh1",
          "low Dhh1",
          "low Dhh1",
          "low Dhh1",
          "low Dhh1",
          "low Dhh1",
          "low Dhh1",
          "low Dhh1",
          "low Dhh1",
          "low Dhh1",
          "low Dhh1",
          "low Dhh1",
          "low Dhh1",
          "low Dhh1",
          "low Dhh1",
          "low Dhh1",
          "low Dhh1",
          "low Dhh1",
          "low Dhh1",
          "low Dhh1",
          "low Dhh1",
          "low Dhh1",
          "low Dhh1",
          "low Dhh1",
          "low Dhh1",
          "low Dhh1",
          "low Dhh1",
          "low Dhh1",
          "low Dhh1",
          "low Dhh1",
          "low Dhh1",
          "low Dhh1",
          "low Dhh1",
          "low Dhh1",
          "low Dhh1",
          "low Dhh1",
          "low Dhh1",
          "low Dhh1",
          "low Dhh1",
          "low Dhh1",
          "low Dhh1",
          "low Dhh1",
          "low Dhh1",
          "low Dhh1",
          "low Dhh1",
          "low Dhh1",
          "low Dhh1",
          "low Dhh1",
          "low Dhh1",
          "low Dhh1",
          "low Dhh1",
          "low Dhh1",
          "low Dhh1",
          "low Dhh1",
          "low Dhh1",
          "low Dhh1",
          "low Dhh1",
          "low Dhh1",
          "low Dhh1",
          "low Dhh1",
          "low Dhh1",
          "low Dhh1",
          "low Dhh1",
          "low Dhh1",
          "low Dhh1",
          "low Dhh1",
          "low Dhh1",
          "low Dhh1",
          "low Dhh1",
          "low Dhh1",
          "low Dhh1",
          "low Dhh1",
          "low Dhh1",
          "low Dhh1",
          "low Dhh1",
          "low Dhh1",
          "low Dhh1",
          "low Dhh1",
          "low Dhh1",
          "low Dhh1",
          "low Dhh1",
          "low Dhh1",
          "low Dhh1",
          "low Dhh1",
          "low Dhh1",
          "low Dhh1",
          "low Dhh1",
          "low Dhh1",
          "low Dhh1",
          "low Dhh1",
          "low Dhh1",
          "low Dhh1",
          "low Dhh1",
          "low Dhh1",
          "low Dhh1",
          "low Dhh1",
          "low Dhh1",
          "low Dhh1",
          "low Dhh1",
          "low Dhh1",
          "low Dhh1",
          "low Dhh1",
          "low Dhh1",
          "low Dhh1",
          "low Dhh1",
          "low Dhh1",
          "low Dhh1",
          "low Dhh1",
          "low Dhh1",
          "low Dhh1",
          "low Dhh1",
          "low Dhh1"
         ],
         "y": [
          0.32048769867189203,
          0.2440882816605361,
          -0.13613252419222574,
          -0.2695331695331694,
          -0.3655000000000002,
          -0.09443004132954227,
          -0.11146311344198315,
          -0.1749734888653235,
          0.31539141624021144,
          0.1650732246476927,
          -0.15404328018223232,
          -0.25110132158590326,
          0.24695595003287313,
          -0.512640949554896,
          -0.09916916315453801,
          0.10052025269416565,
          -0.6034675460230368,
          0.4152509930585269,
          -0.033516117460154815,
          1.1095833333333331,
          -0.21053329632028614,
          0.6237875028197609,
          0.3776219659057458,
          0.3090931940825246,
          0.1414634146341464,
          -0.3921854497740196,
          -0.7002597772321271,
          0.04021693869331655,
          0.09684922476281205,
          0.011648351648351575,
          0.2526546901341465,
          -0.5569620253164558,
          0.09292125662994707,
          0.15608080808080788,
          0.20343667387647185,
          0.4941860465116279,
          -0.08244491826581382,
          0.06807627704772252,
          -0.07653061224489799,
          0.08990384615384601,
          -0.04121348754232912,
          0.448004563246199,
          0.017786116322701717,
          0.5085004775549189,
          -0.07274895646988666,
          0.18783763941240236,
          0.1079131342939651,
          0.18288090077563768,
          -0.2089525261111273,
          0.3506903353057199,
          0.1496741154562384,
          -0.6210772833723653,
          0.10884452418215818,
          0.11676319930362558,
          -0.06396258009161232,
          -0.5095381526104418,
          -0.2754237288135593,
          0.07196911196911177,
          0.15871357250667598,
          0.13764084284147857,
          0.32949870244952206,
          -0.10572842519151239,
          -0.37375496895797045,
          -0.13674656532534563,
          0.23947588514078627,
          -0.3063125614765955,
          0.837653217568948,
          -0.3326530612244898,
          0.2229096159771722,
          0.32399406821552146,
          0.1629491825849123,
          -0.20541975060880088,
          0.5310410697230182,
          0.3025227109339259,
          -0.050148221343873534,
          0.5964178249032812,
          -0.09251775414917414,
          0.3174143894166962,
          0.8563142857142857,
          0.4484750337381916,
          0.13772502007796122,
          -0.08112548777983158,
          -0.00934736948432735,
          0.06013484813380551,
          -0.33209148998622684,
          -0.15920286609941778,
          0.20789974264294503,
          0.24649007064586298,
          0.2598323662153449,
          0.03579873597036059,
          0.3563179228606037,
          0.09817314677201194,
          0.5907029478458049,
          0.12411360181355957,
          0.7071167883211679,
          0.3473954701028935,
          -0.7229521945764605,
          -0.27414627496421506,
          0.4125615763546798,
          0.24100314889788566,
          -0.24106491611962066,
          0.2902578616501088,
          -0.0420321989781162,
          0.5273069679849341,
          0.27728111159700014,
          0.3581460674157303,
          0.10105083088954053,
          0.06042193137197216,
          0.032648663288948,
          0.008230584810343278,
          -0.10973560104354807,
          -0.20937773882559155,
          0.11575795125981003,
          -0.31601848286484413,
          -0.07272666566501398,
          0.8221585482330467,
          0.053197093551317215,
          0.04123462744152401,
          -0.5749185667752441,
          -0.6005331743745135,
          -0.43349949020052125,
          -0.2378729664793235,
          -0.14345887016848374,
          -0.025792349726775944,
          0.016765918403572444,
          0.5547226386806596,
          -0.08769898697539796,
          -0.17229551451187325,
          0.21579918459661346,
          0.03986470009502108,
          0.15243874588104805,
          0.8701155751238304,
          -0.18059424326833795,
          1.223056653491436,
          0.0980036297640653,
          -0.19730322003577855,
          0.05380281690140848,
          0.3752650857914016,
          -0.41748953634849034,
          0.4037470725995316,
          0.2803216933747907,
          -0.07283585475631993,
          0.04272529793031421,
          0.23161075745654836,
          -0.07185767097966725,
          0.21288139920847698,
          0.18266070314125235,
          -0.8511887846926212,
          0.5737177150215412,
          0.2743460729943914,
          -0.2634764250527797,
          0.13836477987421372,
          0.5244620901639345,
          0.19109571050178495,
          -0.325437124690922,
          -0.04056639877535401,
          -0.35090909090909095,
          1.158371040723982,
          0.2043189368770765,
          0.1780174222568707,
          -0.24809759175517934,
          0.2586748844375964,
          0.3331788909600929,
          0.5620779469501102,
          0.10610020574987494,
          0.4646624472573839,
          -0.3348342866415155,
          -0.23483670295489878,
          0.027994979477602377,
          0.337261698440208,
          -0.10391782130912558,
          0.03981730042482212,
          0.2655136827870896,
          0.11492537313432843,
          0.15288514379923063,
          -0.13735292117254988,
          0.23986710963455143,
          -0.18127619047619048,
          0.24577776774052695,
          -0.09118001394965439,
          -0.206687898089172,
          0.34690401317759817,
          -0.08143355925241326,
          -0.0620689655172414,
          -0.0733182540126088,
          -0.08951021605240007,
          0.6536309213951067,
          0.24932109881942668,
          0.14151464686102264,
          0.021589310829817188,
          -0.18119617307212488,
          0.1499727817093086,
          -0.20680796403339763,
          -0.07929494787171519,
          0.8132502831257078,
          0.7603448275862069,
          -0.08512880562060893,
          0.2751523487092679,
          -0.42532762423770587,
          -0.6120772946859903
         ]
        },
        {
         "box": {
          "visible": true
         },
         "line": {
          "color": "grey"
         },
         "meanline": {
          "visible": true
         },
         "name": "mid Dhh1",
         "type": "violin",
         "x": [
          "mid Dhh1",
          "mid Dhh1",
          "mid Dhh1",
          "mid Dhh1",
          "mid Dhh1",
          "mid Dhh1",
          "mid Dhh1",
          "mid Dhh1",
          "mid Dhh1",
          "mid Dhh1",
          "mid Dhh1",
          "mid Dhh1",
          "mid Dhh1",
          "mid Dhh1",
          "mid Dhh1",
          "mid Dhh1",
          "mid Dhh1",
          "mid Dhh1",
          "mid Dhh1",
          "mid Dhh1",
          "mid Dhh1",
          "mid Dhh1",
          "mid Dhh1",
          "mid Dhh1",
          "mid Dhh1",
          "mid Dhh1",
          "mid Dhh1",
          "mid Dhh1",
          "mid Dhh1",
          "mid Dhh1",
          "mid Dhh1",
          "mid Dhh1",
          "mid Dhh1",
          "mid Dhh1",
          "mid Dhh1",
          "mid Dhh1",
          "mid Dhh1",
          "mid Dhh1",
          "mid Dhh1",
          "mid Dhh1",
          "mid Dhh1",
          "mid Dhh1",
          "mid Dhh1",
          "mid Dhh1",
          "mid Dhh1",
          "mid Dhh1",
          "mid Dhh1",
          "mid Dhh1",
          "mid Dhh1",
          "mid Dhh1",
          "mid Dhh1",
          "mid Dhh1",
          "mid Dhh1",
          "mid Dhh1",
          "mid Dhh1",
          "mid Dhh1",
          "mid Dhh1",
          "mid Dhh1",
          "mid Dhh1",
          "mid Dhh1",
          "mid Dhh1",
          "mid Dhh1",
          "mid Dhh1",
          "mid Dhh1",
          "mid Dhh1",
          "mid Dhh1",
          "mid Dhh1",
          "mid Dhh1",
          "mid Dhh1",
          "mid Dhh1",
          "mid Dhh1",
          "mid Dhh1",
          "mid Dhh1",
          "mid Dhh1",
          "mid Dhh1",
          "mid Dhh1",
          "mid Dhh1",
          "mid Dhh1",
          "mid Dhh1",
          "mid Dhh1",
          "mid Dhh1",
          "mid Dhh1",
          "mid Dhh1",
          "mid Dhh1",
          "mid Dhh1",
          "mid Dhh1",
          "mid Dhh1",
          "mid Dhh1",
          "mid Dhh1",
          "mid Dhh1",
          "mid Dhh1",
          "mid Dhh1",
          "mid Dhh1",
          "mid Dhh1",
          "mid Dhh1",
          "mid Dhh1",
          "mid Dhh1",
          "mid Dhh1",
          "mid Dhh1",
          "mid Dhh1",
          "mid Dhh1",
          "mid Dhh1",
          "mid Dhh1",
          "mid Dhh1",
          "mid Dhh1",
          "mid Dhh1",
          "mid Dhh1",
          "mid Dhh1",
          "mid Dhh1",
          "mid Dhh1",
          "mid Dhh1",
          "mid Dhh1",
          "mid Dhh1",
          "mid Dhh1",
          "mid Dhh1",
          "mid Dhh1",
          "mid Dhh1",
          "mid Dhh1",
          "mid Dhh1",
          "mid Dhh1",
          "mid Dhh1",
          "mid Dhh1",
          "mid Dhh1",
          "mid Dhh1",
          "mid Dhh1",
          "mid Dhh1",
          "mid Dhh1",
          "mid Dhh1",
          "mid Dhh1",
          "mid Dhh1",
          "mid Dhh1",
          "mid Dhh1",
          "mid Dhh1",
          "mid Dhh1",
          "mid Dhh1",
          "mid Dhh1",
          "mid Dhh1",
          "mid Dhh1",
          "mid Dhh1",
          "mid Dhh1",
          "mid Dhh1",
          "mid Dhh1",
          "mid Dhh1",
          "mid Dhh1",
          "mid Dhh1",
          "mid Dhh1",
          "mid Dhh1",
          "mid Dhh1",
          "mid Dhh1",
          "mid Dhh1",
          "mid Dhh1",
          "mid Dhh1",
          "mid Dhh1",
          "mid Dhh1",
          "mid Dhh1",
          "mid Dhh1",
          "mid Dhh1",
          "mid Dhh1",
          "mid Dhh1",
          "mid Dhh1",
          "mid Dhh1",
          "mid Dhh1",
          "mid Dhh1",
          "mid Dhh1",
          "mid Dhh1",
          "mid Dhh1",
          "mid Dhh1",
          "mid Dhh1",
          "mid Dhh1",
          "mid Dhh1",
          "mid Dhh1",
          "mid Dhh1",
          "mid Dhh1",
          "mid Dhh1",
          "mid Dhh1",
          "mid Dhh1",
          "mid Dhh1",
          "mid Dhh1",
          "mid Dhh1",
          "mid Dhh1",
          "mid Dhh1",
          "mid Dhh1",
          "mid Dhh1",
          "mid Dhh1",
          "mid Dhh1",
          "mid Dhh1",
          "mid Dhh1",
          "mid Dhh1",
          "mid Dhh1",
          "mid Dhh1",
          "mid Dhh1",
          "mid Dhh1",
          "mid Dhh1",
          "mid Dhh1",
          "mid Dhh1",
          "mid Dhh1",
          "mid Dhh1",
          "mid Dhh1",
          "mid Dhh1",
          "mid Dhh1"
         ],
         "y": [
          0.3724626163230804,
          0.3943121590834736,
          0.41644985645887034,
          0.09946809833199768,
          0.3871223213097297,
          0.4725972719141324,
          0.4309649659100582,
          0.33544810594394814,
          0.20813846718903048,
          -0.16611522504070164,
          0.259231842235573,
          -0.18510777494662897,
          0.137003483207107,
          0.5971356375697353,
          0.1579336897190064,
          -0.04082483976383178,
          0.11947179864604301,
          0.1458694646779973,
          0.4410054719562244,
          0.28355330333169454,
          0.5265616763786294,
          0.4270227111167551,
          0.3710933333333334,
          9.828009828002915e-06,
          0.6708133971291865,
          0.4314481559765323,
          -0.12959816425636383,
          0.13460095565296365,
          0.4716210780370073,
          -0.05702377569385242,
          -0.6011006930289442,
          0.13693641722701935,
          -0.25319885482719867,
          0.2928676625289291,
          0.4013990445549382,
          0.16876011526467455,
          0.15038391847113358,
          -0.05097438818865877,
          0.333914990726638,
          -0.5520874316939892,
          0.19221564428769367,
          0.17548820100243084,
          0.1561310317402104,
          0.15225895855170826,
          -0.004695259593679453,
          -0.3164323374340949,
          0.24630212806565513,
          0.7029311520109066,
          -0.06470118832599087,
          -0.25490432337837454,
          0.27553254978967534,
          0.3352937939282716,
          0.3400241284632665,
          0.8331577098700385,
          0.09610956538424627,
          -0.2407093595288408,
          0.29674988931163093,
          0.204192714845378,
          0.13911512216596966,
          0.4136855036855037,
          0.23596638392472943,
          0.24275648963492946,
          0.4565878305543126,
          0.08807557669868052,
          0.3931091898815242,
          0.04948703903832766,
          -0.10177949111708157,
          0.07169578871084625,
          0.14196201149843518,
          0.39558748690315815,
          0.24195171401098695,
          0.04668590814724796,
          0.0262804527143679,
          0.2433151777824934,
          -0.13825972211441437,
          0.5025182551715724,
          0.34072732576512627,
          0.3346809353943717,
          0.1392309452964065,
          -0.020442367147377932,
          -0.16764267990074444,
          0.3959033877968211,
          0.21294932201194583,
          0.366241072123425,
          0.47504172332226857,
          0.7835176408636124,
          0.15160670824459982,
          0.12341060903732815,
          -0.14654839953721532,
          0.19363510232396813,
          0.2551196644460893,
          0.016709268200321786,
          0.33850336242667045,
          0.196675411573991,
          0.8832760032760033,
          -0.007085561497326224,
          0.14768742056616763,
          -0.19810452705189543,
          0.06784146948378042,
          0.560999510044096,
          0.3334442655358224,
          -0.07631719264123688,
          0.3608041706670997,
          -0.06100313643687322,
          0.20924014892181614,
          -0.04501802197802207,
          0.026449428692340307,
          0.03556276672075032,
          0.19872875859385136,
          0.23475769680829595,
          0.44002340884247826,
          1.3166073768957123,
          -0.22171474358974352,
          0.48733896625462875,
          0.46618898343036275,
          0.300329365079365,
          0.6561475409836066,
          0.12456415620641564,
          0.23782420602753723,
          0.08429344281223147,
          0.1698909975086461,
          -0.47241075917546504,
          0.21802454176777572,
          0.39933400402414493,
          0.2919766987563599,
          0.14902514228168268,
          -0.008946214618885617,
          0.170068249660153,
          -0.652656794425087,
          0.13098323007848625,
          -0.4237418590882178,
          0.09806138933764136,
          -0.16814802844214605,
          0.36603711879650075,
          -0.049135588023290516,
          0.20957822370865847,
          -0.20123068866195337,
          0.4146572104018913,
          -0.22627324171382382,
          0.24171163036699822,
          0.25919358113404406,
          0.3127119325030131,
          0.2523063305884676,
          0.4283957125285539,
          0.1811939007245593,
          -0.11345176145715159,
          0.1760593652650623,
          0.44140353317568515,
          0.06623198352779687,
          0.09385304905426464,
          0.09290780141843977,
          0.051216940717437466,
          0.14275924264395093,
          0.1138715587245,
          0.30341113105924594,
          -0.0497492511767223,
          0.05561492178098665,
          -0.27103319413616245,
          -0.13137718793104142,
          0.008492475659821166,
          -0.06793810833251253,
          0.2633683158420789,
          0.8504450495389332,
          0.05912661558702913,
          0.5890339425587467,
          0.24986344011194173,
          0.031890579073939856,
          0.23119499352447945,
          -0.16529650729549755,
          0.3743305199052386,
          0.2045930428909153,
          0.3229005011315874,
          0.17677324799888997,
          -0.3329971628263223,
          0.2906836055656382,
          0.28117536705273455,
          -0.27400924240302466,
          0.28982701038124137,
          0.16671474125473243,
          0.03597601840279667,
          0.06039443695436185,
          0.6606642657062824,
          -0.15995827296435816,
          0.06495204882301646,
          -0.03804265483097602,
          0.26744771870202266,
          0.28930434782608694,
          0.07896705284764993,
          0.04898505038926298,
          -0.011088485560154515,
          0.4739586645469,
          0.015101162684244294,
          0.3076999175597691,
          -0.12129884424876172,
          -0.9688729874776387,
          0.019752808313810148,
          0.8333907887479315,
          0.029986592409241064,
          -0.19597602739726036,
          -0.5421100917431193
         ]
        }
       ],
       "layout": {
        "template": {
         "data": {
          "bar": [
           {
            "error_x": {
             "color": "rgb(36,36,36)"
            },
            "error_y": {
             "color": "rgb(36,36,36)"
            },
            "marker": {
             "line": {
              "color": "white",
              "width": 0.5
             }
            },
            "type": "bar"
           }
          ],
          "barpolar": [
           {
            "marker": {
             "line": {
              "color": "white",
              "width": 0.5
             }
            },
            "type": "barpolar"
           }
          ],
          "carpet": [
           {
            "aaxis": {
             "endlinecolor": "rgb(36,36,36)",
             "gridcolor": "white",
             "linecolor": "white",
             "minorgridcolor": "white",
             "startlinecolor": "rgb(36,36,36)"
            },
            "baxis": {
             "endlinecolor": "rgb(36,36,36)",
             "gridcolor": "white",
             "linecolor": "white",
             "minorgridcolor": "white",
             "startlinecolor": "rgb(36,36,36)"
            },
            "type": "carpet"
           }
          ],
          "choropleth": [
           {
            "colorbar": {
             "outlinewidth": 10,
             "tickcolor": "rgb(36,36,36)",
             "ticklen": 8,
             "ticks": "outside",
             "tickwidth": 2
            },
            "type": "choropleth"
           }
          ],
          "contour": [
           {
            "colorbar": {
             "outlinewidth": 10,
             "tickcolor": "rgb(36,36,36)",
             "ticklen": 8,
             "ticks": "outside",
             "tickwidth": 2
            },
            "colorscale": [
             [
              0,
              "#440154"
             ],
             [
              0.1111111111111111,
              "#482878"
             ],
             [
              0.2222222222222222,
              "#3e4989"
             ],
             [
              0.3333333333333333,
              "#31688e"
             ],
             [
              0.4444444444444444,
              "#26828e"
             ],
             [
              0.5555555555555556,
              "#1f9e89"
             ],
             [
              0.6666666666666666,
              "#35b779"
             ],
             [
              0.7777777777777778,
              "#6ece58"
             ],
             [
              0.8888888888888888,
              "#b5de2b"
             ],
             [
              1,
              "#fde725"
             ]
            ],
            "type": "contour"
           }
          ],
          "contourcarpet": [
           {
            "colorbar": {
             "outlinewidth": 10,
             "tickcolor": "rgb(36,36,36)",
             "ticklen": 8,
             "ticks": "outside",
             "tickwidth": 2
            },
            "type": "contourcarpet"
           }
          ],
          "heatmap": [
           {
            "colorbar": {
             "outlinewidth": 10,
             "tickcolor": "rgb(36,36,36)",
             "ticklen": 8,
             "ticks": "outside",
             "tickwidth": 2
            },
            "colorscale": [
             [
              0,
              "#440154"
             ],
             [
              0.1111111111111111,
              "#482878"
             ],
             [
              0.2222222222222222,
              "#3e4989"
             ],
             [
              0.3333333333333333,
              "#31688e"
             ],
             [
              0.4444444444444444,
              "#26828e"
             ],
             [
              0.5555555555555556,
              "#1f9e89"
             ],
             [
              0.6666666666666666,
              "#35b779"
             ],
             [
              0.7777777777777778,
              "#6ece58"
             ],
             [
              0.8888888888888888,
              "#b5de2b"
             ],
             [
              1,
              "#fde725"
             ]
            ],
            "type": "heatmap"
           }
          ],
          "heatmapgl": [
           {
            "colorbar": {
             "outlinewidth": 10,
             "tickcolor": "rgb(36,36,36)",
             "ticklen": 8,
             "ticks": "outside",
             "tickwidth": 2
            },
            "colorscale": [
             [
              0,
              "#440154"
             ],
             [
              0.1111111111111111,
              "#482878"
             ],
             [
              0.2222222222222222,
              "#3e4989"
             ],
             [
              0.3333333333333333,
              "#31688e"
             ],
             [
              0.4444444444444444,
              "#26828e"
             ],
             [
              0.5555555555555556,
              "#1f9e89"
             ],
             [
              0.6666666666666666,
              "#35b779"
             ],
             [
              0.7777777777777778,
              "#6ece58"
             ],
             [
              0.8888888888888888,
              "#b5de2b"
             ],
             [
              1,
              "#fde725"
             ]
            ],
            "type": "heatmapgl"
           }
          ],
          "histogram": [
           {
            "marker": {
             "line": {
              "color": "white",
              "width": 0.6
             }
            },
            "type": "histogram"
           }
          ],
          "histogram2d": [
           {
            "colorbar": {
             "outlinewidth": 10,
             "tickcolor": "rgb(36,36,36)",
             "ticklen": 8,
             "ticks": "outside",
             "tickwidth": 2
            },
            "colorscale": [
             [
              0,
              "#440154"
             ],
             [
              0.1111111111111111,
              "#482878"
             ],
             [
              0.2222222222222222,
              "#3e4989"
             ],
             [
              0.3333333333333333,
              "#31688e"
             ],
             [
              0.4444444444444444,
              "#26828e"
             ],
             [
              0.5555555555555556,
              "#1f9e89"
             ],
             [
              0.6666666666666666,
              "#35b779"
             ],
             [
              0.7777777777777778,
              "#6ece58"
             ],
             [
              0.8888888888888888,
              "#b5de2b"
             ],
             [
              1,
              "#fde725"
             ]
            ],
            "type": "histogram2d"
           }
          ],
          "histogram2dcontour": [
           {
            "colorbar": {
             "outlinewidth": 10,
             "tickcolor": "rgb(36,36,36)",
             "ticklen": 8,
             "ticks": "outside",
             "tickwidth": 2
            },
            "colorscale": [
             [
              0,
              "#440154"
             ],
             [
              0.1111111111111111,
              "#482878"
             ],
             [
              0.2222222222222222,
              "#3e4989"
             ],
             [
              0.3333333333333333,
              "#31688e"
             ],
             [
              0.4444444444444444,
              "#26828e"
             ],
             [
              0.5555555555555556,
              "#1f9e89"
             ],
             [
              0.6666666666666666,
              "#35b779"
             ],
             [
              0.7777777777777778,
              "#6ece58"
             ],
             [
              0.8888888888888888,
              "#b5de2b"
             ],
             [
              1,
              "#fde725"
             ]
            ],
            "type": "histogram2dcontour"
           }
          ],
          "mesh3d": [
           {
            "colorbar": {
             "outlinewidth": 10,
             "tickcolor": "rgb(36,36,36)",
             "ticklen": 8,
             "ticks": "outside",
             "tickwidth": 2
            },
            "type": "mesh3d"
           }
          ],
          "parcoords": [
           {
            "line": {
             "colorbar": {
              "outlinewidth": 10,
              "tickcolor": "rgb(36,36,36)",
              "ticklen": 8,
              "ticks": "outside",
              "tickwidth": 2
             }
            },
            "type": "parcoords"
           }
          ],
          "pie": [
           {
            "automargin": true,
            "type": "pie"
           }
          ],
          "scatter": [
           {
            "marker": {
             "colorbar": {
              "outlinewidth": 10,
              "tickcolor": "rgb(36,36,36)",
              "ticklen": 8,
              "ticks": "outside",
              "tickwidth": 2
             }
            },
            "type": "scatter"
           }
          ],
          "scatter3d": [
           {
            "line": {
             "colorbar": {
              "outlinewidth": 10,
              "tickcolor": "rgb(36,36,36)",
              "ticklen": 8,
              "ticks": "outside",
              "tickwidth": 2
             }
            },
            "marker": {
             "colorbar": {
              "outlinewidth": 10,
              "tickcolor": "rgb(36,36,36)",
              "ticklen": 8,
              "ticks": "outside",
              "tickwidth": 2
             }
            },
            "type": "scatter3d"
           }
          ],
          "scattercarpet": [
           {
            "marker": {
             "colorbar": {
              "outlinewidth": 10,
              "tickcolor": "rgb(36,36,36)",
              "ticklen": 8,
              "ticks": "outside",
              "tickwidth": 2
             }
            },
            "type": "scattercarpet"
           }
          ],
          "scattergeo": [
           {
            "marker": {
             "colorbar": {
              "outlinewidth": 10,
              "tickcolor": "rgb(36,36,36)",
              "ticklen": 8,
              "ticks": "outside",
              "tickwidth": 2
             }
            },
            "type": "scattergeo"
           }
          ],
          "scattergl": [
           {
            "marker": {
             "colorbar": {
              "outlinewidth": 10,
              "tickcolor": "rgb(36,36,36)",
              "ticklen": 8,
              "ticks": "outside",
              "tickwidth": 2
             }
            },
            "type": "scattergl"
           }
          ],
          "scattermapbox": [
           {
            "marker": {
             "colorbar": {
              "outlinewidth": 10,
              "tickcolor": "rgb(36,36,36)",
              "ticklen": 8,
              "ticks": "outside",
              "tickwidth": 2
             }
            },
            "type": "scattermapbox"
           }
          ],
          "scatterpolar": [
           {
            "marker": {
             "colorbar": {
              "outlinewidth": 10,
              "tickcolor": "rgb(36,36,36)",
              "ticklen": 8,
              "ticks": "outside",
              "tickwidth": 2
             }
            },
            "type": "scatterpolar"
           }
          ],
          "scatterpolargl": [
           {
            "marker": {
             "colorbar": {
              "outlinewidth": 10,
              "tickcolor": "rgb(36,36,36)",
              "ticklen": 8,
              "ticks": "outside",
              "tickwidth": 2
             }
            },
            "type": "scatterpolargl"
           }
          ],
          "scatterternary": [
           {
            "marker": {
             "colorbar": {
              "outlinewidth": 10,
              "tickcolor": "rgb(36,36,36)",
              "ticklen": 8,
              "ticks": "outside",
              "tickwidth": 2
             }
            },
            "type": "scatterternary"
           }
          ],
          "surface": [
           {
            "colorbar": {
             "outlinewidth": 10,
             "tickcolor": "rgb(36,36,36)",
             "ticklen": 8,
             "ticks": "outside",
             "tickwidth": 2
            },
            "colorscale": [
             [
              0,
              "#440154"
             ],
             [
              0.1111111111111111,
              "#482878"
             ],
             [
              0.2222222222222222,
              "#3e4989"
             ],
             [
              0.3333333333333333,
              "#31688e"
             ],
             [
              0.4444444444444444,
              "#26828e"
             ],
             [
              0.5555555555555556,
              "#1f9e89"
             ],
             [
              0.6666666666666666,
              "#35b779"
             ],
             [
              0.7777777777777778,
              "#6ece58"
             ],
             [
              0.8888888888888888,
              "#b5de2b"
             ],
             [
              1,
              "#fde725"
             ]
            ],
            "type": "surface"
           }
          ],
          "table": [
           {
            "cells": {
             "fill": {
              "color": "rgb(237,237,237)"
             },
             "line": {
              "color": "white"
             }
            },
            "header": {
             "fill": {
              "color": "rgb(217,217,217)"
             },
             "line": {
              "color": "white"
             }
            },
            "type": "table"
           }
          ]
         },
         "layout": {
          "annotationdefaults": {
           "arrowhead": 0,
           "arrowwidth": 1
          },
          "coloraxis": {
           "colorbar": {
            "outlinewidth": 10,
            "tickcolor": "rgb(36,36,36)",
            "ticklen": 8,
            "ticks": "outside",
            "tickwidth": 2
           }
          },
          "colorscale": {
           "diverging": [
            [
             0,
             "rgb(103,0,31)"
            ],
            [
             0.1,
             "rgb(178,24,43)"
            ],
            [
             0.2,
             "rgb(214,96,77)"
            ],
            [
             0.3,
             "rgb(244,165,130)"
            ],
            [
             0.4,
             "rgb(253,219,199)"
            ],
            [
             0.5,
             "rgb(247,247,247)"
            ],
            [
             0.6,
             "rgb(209,229,240)"
            ],
            [
             0.7,
             "rgb(146,197,222)"
            ],
            [
             0.8,
             "rgb(67,147,195)"
            ],
            [
             0.9,
             "rgb(33,102,172)"
            ],
            [
             1,
             "rgb(5,48,97)"
            ]
           ],
           "sequential": [
            [
             0,
             "#440154"
            ],
            [
             0.1111111111111111,
             "#482878"
            ],
            [
             0.2222222222222222,
             "#3e4989"
            ],
            [
             0.3333333333333333,
             "#31688e"
            ],
            [
             0.4444444444444444,
             "#26828e"
            ],
            [
             0.5555555555555556,
             "#1f9e89"
            ],
            [
             0.6666666666666666,
             "#35b779"
            ],
            [
             0.7777777777777778,
             "#6ece58"
            ],
            [
             0.8888888888888888,
             "#b5de2b"
            ],
            [
             1,
             "#fde725"
            ]
           ],
           "sequentialminus": [
            [
             0,
             "#440154"
            ],
            [
             0.1111111111111111,
             "#482878"
            ],
            [
             0.2222222222222222,
             "#3e4989"
            ],
            [
             0.3333333333333333,
             "#31688e"
            ],
            [
             0.4444444444444444,
             "#26828e"
            ],
            [
             0.5555555555555556,
             "#1f9e89"
            ],
            [
             0.6666666666666666,
             "#35b779"
            ],
            [
             0.7777777777777778,
             "#6ece58"
            ],
            [
             0.8888888888888888,
             "#b5de2b"
            ],
            [
             1,
             "#fde725"
            ]
           ]
          },
          "colorway": [
           "#1F77B4",
           "#FF7F0E",
           "#2CA02C",
           "#D62728",
           "#9467BD",
           "#8C564B",
           "#E377C2",
           "#7F7F7F",
           "#BCBD22",
           "#17BECF"
          ],
          "font": {
           "color": "rgb(36,36,36)"
          },
          "geo": {
           "bgcolor": "white",
           "lakecolor": "white",
           "landcolor": "white",
           "showlakes": true,
           "showland": true,
           "subunitcolor": "white"
          },
          "hoverlabel": {
           "align": "left"
          },
          "hovermode": "closest",
          "mapbox": {
           "style": "light"
          },
          "paper_bgcolor": "white",
          "plot_bgcolor": "white",
          "polar": {
           "angularaxis": {
            "gridcolor": "rgb(232,232,232)",
            "linecolor": "rgb(36,36,36)",
            "showgrid": false,
            "showline": true,
            "ticks": "outside"
           },
           "bgcolor": "white",
           "radialaxis": {
            "gridcolor": "rgb(232,232,232)",
            "linecolor": "rgb(36,36,36)",
            "showgrid": false,
            "showline": true,
            "ticks": "outside"
           }
          },
          "scene": {
           "xaxis": {
            "backgroundcolor": "white",
            "gridcolor": "rgb(232,232,232)",
            "gridwidth": 2,
            "linecolor": "rgb(36,36,36)",
            "showbackground": true,
            "showgrid": false,
            "showline": true,
            "ticks": "outside",
            "zeroline": false,
            "zerolinecolor": "rgb(36,36,36)"
           },
           "yaxis": {
            "backgroundcolor": "white",
            "gridcolor": "rgb(232,232,232)",
            "gridwidth": 2,
            "linecolor": "rgb(36,36,36)",
            "showbackground": true,
            "showgrid": false,
            "showline": true,
            "ticks": "outside",
            "zeroline": false,
            "zerolinecolor": "rgb(36,36,36)"
           },
           "zaxis": {
            "backgroundcolor": "white",
            "gridcolor": "rgb(232,232,232)",
            "gridwidth": 2,
            "linecolor": "rgb(36,36,36)",
            "showbackground": true,
            "showgrid": false,
            "showline": true,
            "ticks": "outside",
            "zeroline": false,
            "zerolinecolor": "rgb(36,36,36)"
           }
          },
          "shapedefaults": {
           "fillcolor": "black",
           "line": {
            "width": 0
           },
           "opacity": 0.3
          },
          "ternary": {
           "aaxis": {
            "gridcolor": "rgb(232,232,232)",
            "linecolor": "rgb(36,36,36)",
            "showgrid": false,
            "showline": true,
            "ticks": "outside"
           },
           "baxis": {
            "gridcolor": "rgb(232,232,232)",
            "linecolor": "rgb(36,36,36)",
            "showgrid": false,
            "showline": true,
            "ticks": "outside"
           },
           "bgcolor": "white",
           "caxis": {
            "gridcolor": "rgb(232,232,232)",
            "linecolor": "rgb(36,36,36)",
            "showgrid": false,
            "showline": true,
            "ticks": "outside"
           }
          },
          "title": {
           "x": 0.05
          },
          "xaxis": {
           "automargin": true,
           "gridcolor": "rgb(232,232,232)",
           "linecolor": "rgb(36,36,36)",
           "showgrid": false,
           "showline": true,
           "ticks": "outside",
           "title": {
            "standoff": 15
           },
           "zeroline": false,
           "zerolinecolor": "rgb(36,36,36)"
          },
          "yaxis": {
           "automargin": true,
           "gridcolor": "rgb(232,232,232)",
           "linecolor": "rgb(36,36,36)",
           "showgrid": false,
           "showline": true,
           "ticks": "outside",
           "title": {
            "standoff": 15
           },
           "zeroline": false,
           "zerolinecolor": "rgb(36,36,36)"
          }
         }
        },
        "yaxis": {
         "range": [
          -1,
          1.5
         ]
        }
       }
      },
      "text/html": [
       "<div>\n",
       "        \n",
       "        \n",
       "            <div id=\"64e1347b-9581-4791-a0ba-0fea78f33030\" class=\"plotly-graph-div\" style=\"height:525px; width:100%;\"></div>\n",
       "            <script type=\"text/javascript\">\n",
       "                require([\"plotly\"], function(Plotly) {\n",
       "                    window.PLOTLYENV=window.PLOTLYENV || {};\n",
       "                    \n",
       "                if (document.getElementById(\"64e1347b-9581-4791-a0ba-0fea78f33030\")) {\n",
       "                    Plotly.newPlot(\n",
       "                        '64e1347b-9581-4791-a0ba-0fea78f33030',\n",
       "                        [{\"box\": {\"visible\": true}, \"line\": {\"color\": \"purple\"}, \"meanline\": {\"visible\": true}, \"name\": \"high Dhh1\", \"type\": \"violin\", \"x\": [\"high Dhh1\", \"high Dhh1\", \"high Dhh1\", \"high Dhh1\", \"high Dhh1\", \"high Dhh1\", \"high Dhh1\", \"high Dhh1\", \"high Dhh1\", \"high Dhh1\", \"high Dhh1\", \"high Dhh1\", \"high Dhh1\", \"high Dhh1\", \"high Dhh1\", \"high Dhh1\", \"high Dhh1\", \"high Dhh1\", \"high Dhh1\", \"high Dhh1\", \"high Dhh1\", \"high Dhh1\", \"high Dhh1\", \"high Dhh1\", \"high Dhh1\", \"high Dhh1\", \"high Dhh1\", \"high Dhh1\", \"high Dhh1\", \"high Dhh1\", \"high Dhh1\", \"high Dhh1\", \"high Dhh1\", \"high Dhh1\", \"high Dhh1\", \"high Dhh1\", \"high Dhh1\", \"high Dhh1\", \"high Dhh1\", \"high Dhh1\", \"high Dhh1\", \"high Dhh1\", \"high Dhh1\", \"high Dhh1\", \"high Dhh1\", \"high Dhh1\", \"high Dhh1\", \"high Dhh1\", \"high Dhh1\", \"high Dhh1\", \"high Dhh1\", \"high Dhh1\", \"high Dhh1\", \"high Dhh1\", \"high Dhh1\", \"high Dhh1\", \"high Dhh1\", \"high Dhh1\", \"high Dhh1\", \"high Dhh1\", \"high Dhh1\", \"high Dhh1\", \"high Dhh1\", \"high Dhh1\", \"high Dhh1\", \"high Dhh1\", \"high Dhh1\", \"high Dhh1\", \"high Dhh1\", \"high Dhh1\", \"high Dhh1\", \"high Dhh1\", \"high Dhh1\", \"high Dhh1\", \"high Dhh1\", \"high Dhh1\", \"high Dhh1\", \"high Dhh1\", \"high Dhh1\", \"high Dhh1\", \"high Dhh1\", \"high Dhh1\", \"high Dhh1\", \"high Dhh1\", \"high Dhh1\", \"high Dhh1\", \"high Dhh1\", \"high Dhh1\", \"high Dhh1\", \"high Dhh1\", \"high Dhh1\", \"high Dhh1\", \"high Dhh1\", \"high Dhh1\", \"high Dhh1\", \"high Dhh1\", \"high Dhh1\", \"high Dhh1\", \"high Dhh1\", \"high Dhh1\", \"high Dhh1\", \"high Dhh1\", \"high Dhh1\", \"high Dhh1\", \"high Dhh1\", \"high Dhh1\", \"high Dhh1\", \"high Dhh1\", \"high Dhh1\", \"high Dhh1\", \"high Dhh1\", \"high Dhh1\", \"high Dhh1\", \"high Dhh1\", \"high Dhh1\", \"high Dhh1\", \"high Dhh1\", \"high Dhh1\", \"high Dhh1\", \"high Dhh1\", \"high Dhh1\", \"high Dhh1\", \"high Dhh1\", \"high Dhh1\", \"high Dhh1\", \"high Dhh1\", \"high Dhh1\", \"high Dhh1\", \"high Dhh1\", \"high Dhh1\", \"high Dhh1\", \"high Dhh1\", \"high Dhh1\", \"high Dhh1\", \"high Dhh1\", \"high Dhh1\", \"high Dhh1\", \"high Dhh1\", \"high Dhh1\", \"high Dhh1\", \"high Dhh1\", \"high Dhh1\", \"high Dhh1\", \"high Dhh1\", \"high Dhh1\", \"high Dhh1\", \"high Dhh1\", \"high Dhh1\", \"high Dhh1\", \"high Dhh1\", \"high Dhh1\", \"high Dhh1\", \"high Dhh1\", \"high Dhh1\", \"high Dhh1\", \"high Dhh1\", \"high Dhh1\", \"high Dhh1\", \"high Dhh1\", \"high Dhh1\", \"high Dhh1\", \"high Dhh1\", \"high Dhh1\", \"high Dhh1\", \"high Dhh1\", \"high Dhh1\", \"high Dhh1\", \"high Dhh1\", \"high Dhh1\", \"high Dhh1\", \"high Dhh1\", \"high Dhh1\", \"high Dhh1\", \"high Dhh1\", \"high Dhh1\", \"high Dhh1\", \"high Dhh1\", \"high Dhh1\", \"high Dhh1\", \"high Dhh1\", \"high Dhh1\", \"high Dhh1\", \"high Dhh1\", \"high Dhh1\", \"high Dhh1\", \"high Dhh1\", \"high Dhh1\", \"high Dhh1\", \"high Dhh1\", \"high Dhh1\", \"high Dhh1\", \"high Dhh1\", \"high Dhh1\", \"high Dhh1\", \"high Dhh1\", \"high Dhh1\", \"high Dhh1\", \"high Dhh1\", \"high Dhh1\", \"high Dhh1\"], \"y\": [0.2768276050789513, 0.012104630435683772, 0.21520681401465805, 0.3088167112428967, 0.14954749337007284, 0.20061109674081742, 0.25414002527613366, 0.3378905208436322, 0.18519629836355816, 0.21065475997402688, 0.3182673794233369, 0.34129795064556545, 0.5152331011375006, 0.2170737273664859, -0.22651515151515145, 0.26289844936037954, 0.36830865603644647, 0.29003227140062826, -0.19076744497522213, 0.08519430258252114, 0.3739797698787355, 0.31010425020048116, 0.4865809018567637, 0.1804935521877372, 0.43869568594327213, 0.43070190109828854, 0.1584153862063449, 0.25233779598439965, 0.24154462061710694, 0.4047389915712526, 0.1372978749678297, 0.2289043602956497, 0.30949997068995827, 0.4055413028036603, 0.2747050147492625, 0.04584499049354068, 0.2090736743860468, -0.08959366450033335, 0.41523361101050354, 0.4108684693515383, 0.5270700735489144, -0.027379862121204634, 0.23420334182681998, 0.4859583239095653, -0.38984255967496184, 0.4789517660131061, 0.11052278302200877, 0.10003975399152533, 0.5779993890715684, 0.18912512399102224, 0.10050618938736894, 0.2983955829814876, 0.2832644921184333, 0.14875453405035344, 0.4937872049247008, 0.4501007284817071, 0.16008217610651698, 0.3334113053857527, 0.4191788931788931, 0.39861522053833226, 0.13774365728174565, 0.371045474622309, 0.14126514792092945, 0.4413388551031182, 0.22867521399613552, 0.2355516645699156, 0.1374745811532956, 0.5430996286129502, 0.34697924640781763, 0.4228022759601707, 0.18285275582911747, 0.29485065476670935, 0.4034135967125658, 0.22570602726830954, 0.10728568829499513, 0.26007297115896577, 0.16164255716285572, 0.2593369561150508, 0.16718247158645036, 0.32785992822416177, 0.3729986432953471, 0.2582726326742977, 1.1476797261316092, -0.18180559786139164, 0.21321005261052234, 0.35525523165972606, -0.012519113149847078, 0.1748635117189271, -0.06271533460755746, 0.17723528477942607, 0.20261098904910968, 0.05703362703689316, 0.23103359693871892, 0.19142704061311228, 0.2643790381331136, 0.4401440733464308, 0.23959570327419827, 0.1220651776571374, 0.23367375188409356, 0.3776669901071815, 0.32200466537357575, 0.16640226226805468, 0.35716854991751734, -0.0003403752471083932, 0.3378997380588765, 0.05955971375141392, 0.21676168874421864, 0.01265677440665966, 0.35335660442639855, 0.28227962043820876, 0.3486286786377316, 0.21125937495086505, 0.3043247500438414, 0.14407092142941208, 0.25536252158125083, 0.35077255660484696, 0.20883086235670156, 0.09074319576555726, 0.42423772765901246, 0.2923016486821591, 0.32168525583542473, 0.22120663630999593, 0.348090366147477, 0.2685894705405281, 0.5824627256799726, 0.05541839487702746, 0.021627093089983562, 0.35896098164489315, 0.2690278699100401, 0.15867030655284017, 0.3361103335939217, 0.0028151434371750817, 0.2889695614765084, 0.04936367142306214, 0.4046862714097498, 0.19922186751795695, 0.46854092620774324, -0.17959874305051968, 0.13948735202030538, 0.18793972884017246, 0.2863643887323688, 0.17624877788571527, 0.3388820609986644, 0.27284655682849696, 0.12377014926866675, 0.7183383991894631, 0.13446373828501362, 0.29890921914231783, 0.33842132382270773, 0.23262387221499978, 0.4195370334630198, 0.3454095181013742, 0.24126873240339963, 0.28817903108298676, -0.14202551292545545, 0.26415495136484857, -0.002349869451697087, 0.4117955066403035, 0.5241354561719198, -0.02601107748352971, 0.11954177357178217, 0.28935858432507744, 0.286905999535327, 0.1522262686208063, 0.29298577645413115, 0.0753590722167119, 0.31884346959122634, 0.19082776757101327, -0.058555223237140505, 0.24584603564442603, 0.10199465350606635, 0.20982579459745287, 0.7471106604675704, 0.26746268656716415, 0.07341634323858058, 0.3977075515858889, 0.30421634879769205, 0.18591570393417792, -0.05477091889605279, 0.528883445601143, 0.33376055767498536, 0.15399158538652466, 0.1317877842436297, 0.3853812243239465, 0.37016619623940517, -0.5124653739612188, -0.2788284632034631, 0.5667377529423909, -0.5807860262008734, 0.39446344243608544, 0.406498137693292, 0.47296328050815434, 0.3306388585691429, 0.30741482965931866, -0.019852848786072297, -0.1818543753449695, -0.6305578011317705, -0.2981481481481481, -0.6267910246012438, -1.2397695375978728]}, {\"box\": {\"visible\": true}, \"line\": {\"color\": \"orange\"}, \"meanline\": {\"visible\": true}, \"name\": \"low Dhh1\", \"type\": \"violin\", \"x\": [\"low Dhh1\", \"low Dhh1\", \"low Dhh1\", \"low Dhh1\", \"low Dhh1\", \"low Dhh1\", \"low Dhh1\", \"low Dhh1\", \"low Dhh1\", \"low Dhh1\", \"low Dhh1\", \"low Dhh1\", \"low Dhh1\", \"low Dhh1\", \"low Dhh1\", \"low Dhh1\", \"low Dhh1\", \"low Dhh1\", \"low Dhh1\", \"low Dhh1\", \"low Dhh1\", \"low Dhh1\", \"low Dhh1\", \"low Dhh1\", \"low Dhh1\", \"low Dhh1\", \"low Dhh1\", \"low Dhh1\", \"low Dhh1\", \"low Dhh1\", \"low Dhh1\", \"low Dhh1\", \"low Dhh1\", \"low Dhh1\", \"low Dhh1\", \"low Dhh1\", \"low Dhh1\", \"low Dhh1\", \"low Dhh1\", \"low Dhh1\", \"low Dhh1\", \"low Dhh1\", \"low Dhh1\", \"low Dhh1\", \"low Dhh1\", \"low Dhh1\", \"low Dhh1\", \"low Dhh1\", \"low Dhh1\", \"low Dhh1\", \"low Dhh1\", \"low Dhh1\", \"low Dhh1\", \"low Dhh1\", \"low Dhh1\", \"low Dhh1\", \"low Dhh1\", \"low Dhh1\", \"low Dhh1\", \"low Dhh1\", \"low Dhh1\", \"low Dhh1\", \"low Dhh1\", \"low Dhh1\", \"low Dhh1\", \"low Dhh1\", \"low Dhh1\", \"low Dhh1\", \"low Dhh1\", \"low Dhh1\", \"low Dhh1\", \"low Dhh1\", \"low Dhh1\", \"low Dhh1\", \"low Dhh1\", \"low Dhh1\", \"low Dhh1\", \"low Dhh1\", \"low Dhh1\", \"low Dhh1\", \"low Dhh1\", \"low Dhh1\", \"low Dhh1\", \"low Dhh1\", \"low Dhh1\", \"low Dhh1\", \"low Dhh1\", \"low Dhh1\", \"low Dhh1\", \"low Dhh1\", \"low Dhh1\", \"low Dhh1\", \"low Dhh1\", \"low Dhh1\", \"low Dhh1\", \"low Dhh1\", \"low Dhh1\", \"low Dhh1\", \"low Dhh1\", \"low Dhh1\", \"low Dhh1\", \"low Dhh1\", \"low Dhh1\", \"low Dhh1\", \"low Dhh1\", \"low Dhh1\", \"low Dhh1\", \"low Dhh1\", \"low Dhh1\", \"low Dhh1\", \"low Dhh1\", \"low Dhh1\", \"low Dhh1\", \"low Dhh1\", \"low Dhh1\", \"low Dhh1\", \"low Dhh1\", \"low Dhh1\", \"low Dhh1\", \"low Dhh1\", \"low Dhh1\", \"low Dhh1\", \"low Dhh1\", \"low Dhh1\", \"low Dhh1\", \"low Dhh1\", \"low Dhh1\", \"low Dhh1\", \"low Dhh1\", \"low Dhh1\", \"low Dhh1\", \"low Dhh1\", \"low Dhh1\", \"low Dhh1\", \"low Dhh1\", \"low Dhh1\", \"low Dhh1\", \"low Dhh1\", \"low Dhh1\", \"low Dhh1\", \"low Dhh1\", \"low Dhh1\", \"low Dhh1\", \"low Dhh1\", \"low Dhh1\", \"low Dhh1\", \"low Dhh1\", \"low Dhh1\", \"low Dhh1\", \"low Dhh1\", \"low Dhh1\", \"low Dhh1\", \"low Dhh1\", \"low Dhh1\", \"low Dhh1\", \"low Dhh1\", \"low Dhh1\", \"low Dhh1\", \"low Dhh1\", \"low Dhh1\", \"low Dhh1\", \"low Dhh1\", \"low Dhh1\", \"low Dhh1\", \"low Dhh1\", \"low Dhh1\", \"low Dhh1\", \"low Dhh1\", \"low Dhh1\", \"low Dhh1\", \"low Dhh1\", \"low Dhh1\", \"low Dhh1\", \"low Dhh1\", \"low Dhh1\", \"low Dhh1\", \"low Dhh1\", \"low Dhh1\", \"low Dhh1\", \"low Dhh1\", \"low Dhh1\", \"low Dhh1\", \"low Dhh1\", \"low Dhh1\", \"low Dhh1\", \"low Dhh1\", \"low Dhh1\", \"low Dhh1\", \"low Dhh1\", \"low Dhh1\", \"low Dhh1\", \"low Dhh1\", \"low Dhh1\", \"low Dhh1\", \"low Dhh1\", \"low Dhh1\", \"low Dhh1\", \"low Dhh1\", \"low Dhh1\", \"low Dhh1\"], \"y\": [0.32048769867189203, 0.2440882816605361, -0.13613252419222574, -0.2695331695331694, -0.3655000000000002, -0.09443004132954227, -0.11146311344198315, -0.1749734888653235, 0.31539141624021144, 0.1650732246476927, -0.15404328018223232, -0.25110132158590326, 0.24695595003287313, -0.512640949554896, -0.09916916315453801, 0.10052025269416565, -0.6034675460230368, 0.4152509930585269, -0.033516117460154815, 1.1095833333333331, -0.21053329632028614, 0.6237875028197609, 0.3776219659057458, 0.3090931940825246, 0.1414634146341464, -0.3921854497740196, -0.7002597772321271, 0.04021693869331655, 0.09684922476281205, 0.011648351648351575, 0.2526546901341465, -0.5569620253164558, 0.09292125662994707, 0.15608080808080788, 0.20343667387647185, 0.4941860465116279, -0.08244491826581382, 0.06807627704772252, -0.07653061224489799, 0.08990384615384601, -0.04121348754232912, 0.448004563246199, 0.017786116322701717, 0.5085004775549189, -0.07274895646988666, 0.18783763941240236, 0.1079131342939651, 0.18288090077563768, -0.2089525261111273, 0.3506903353057199, 0.1496741154562384, -0.6210772833723653, 0.10884452418215818, 0.11676319930362558, -0.06396258009161232, -0.5095381526104418, -0.2754237288135593, 0.07196911196911177, 0.15871357250667598, 0.13764084284147857, 0.32949870244952206, -0.10572842519151239, -0.37375496895797045, -0.13674656532534563, 0.23947588514078627, -0.3063125614765955, 0.837653217568948, -0.3326530612244898, 0.2229096159771722, 0.32399406821552146, 0.1629491825849123, -0.20541975060880088, 0.5310410697230182, 0.3025227109339259, -0.050148221343873534, 0.5964178249032812, -0.09251775414917414, 0.3174143894166962, 0.8563142857142857, 0.4484750337381916, 0.13772502007796122, -0.08112548777983158, -0.00934736948432735, 0.06013484813380551, -0.33209148998622684, -0.15920286609941778, 0.20789974264294503, 0.24649007064586298, 0.2598323662153449, 0.03579873597036059, 0.3563179228606037, 0.09817314677201194, 0.5907029478458049, 0.12411360181355957, 0.7071167883211679, 0.3473954701028935, -0.7229521945764605, -0.27414627496421506, 0.4125615763546798, 0.24100314889788566, -0.24106491611962066, 0.2902578616501088, -0.0420321989781162, 0.5273069679849341, 0.27728111159700014, 0.3581460674157303, 0.10105083088954053, 0.06042193137197216, 0.032648663288948, 0.008230584810343278, -0.10973560104354807, -0.20937773882559155, 0.11575795125981003, -0.31601848286484413, -0.07272666566501398, 0.8221585482330467, 0.053197093551317215, 0.04123462744152401, -0.5749185667752441, -0.6005331743745135, -0.43349949020052125, -0.2378729664793235, -0.14345887016848374, -0.025792349726775944, 0.016765918403572444, 0.5547226386806596, -0.08769898697539796, -0.17229551451187325, 0.21579918459661346, 0.03986470009502108, 0.15243874588104805, 0.8701155751238304, -0.18059424326833795, 1.223056653491436, 0.0980036297640653, -0.19730322003577855, 0.05380281690140848, 0.3752650857914016, -0.41748953634849034, 0.4037470725995316, 0.2803216933747907, -0.07283585475631993, 0.04272529793031421, 0.23161075745654836, -0.07185767097966725, 0.21288139920847698, 0.18266070314125235, -0.8511887846926212, 0.5737177150215412, 0.2743460729943914, -0.2634764250527797, 0.13836477987421372, 0.5244620901639345, 0.19109571050178495, -0.325437124690922, -0.04056639877535401, -0.35090909090909095, 1.158371040723982, 0.2043189368770765, 0.1780174222568707, -0.24809759175517934, 0.2586748844375964, 0.3331788909600929, 0.5620779469501102, 0.10610020574987494, 0.4646624472573839, -0.3348342866415155, -0.23483670295489878, 0.027994979477602377, 0.337261698440208, -0.10391782130912558, 0.03981730042482212, 0.2655136827870896, 0.11492537313432843, 0.15288514379923063, -0.13735292117254988, 0.23986710963455143, -0.18127619047619048, 0.24577776774052695, -0.09118001394965439, -0.206687898089172, 0.34690401317759817, -0.08143355925241326, -0.0620689655172414, -0.0733182540126088, -0.08951021605240007, 0.6536309213951067, 0.24932109881942668, 0.14151464686102264, 0.021589310829817188, -0.18119617307212488, 0.1499727817093086, -0.20680796403339763, -0.07929494787171519, 0.8132502831257078, 0.7603448275862069, -0.08512880562060893, 0.2751523487092679, -0.42532762423770587, -0.6120772946859903]}, {\"box\": {\"visible\": true}, \"line\": {\"color\": \"grey\"}, \"meanline\": {\"visible\": true}, \"name\": \"mid Dhh1\", \"type\": \"violin\", \"x\": [\"mid Dhh1\", \"mid Dhh1\", \"mid Dhh1\", \"mid Dhh1\", \"mid Dhh1\", \"mid Dhh1\", \"mid Dhh1\", \"mid Dhh1\", \"mid Dhh1\", \"mid Dhh1\", \"mid Dhh1\", \"mid Dhh1\", \"mid Dhh1\", \"mid Dhh1\", \"mid Dhh1\", \"mid Dhh1\", \"mid Dhh1\", \"mid Dhh1\", \"mid Dhh1\", \"mid Dhh1\", \"mid Dhh1\", \"mid Dhh1\", \"mid Dhh1\", \"mid Dhh1\", \"mid Dhh1\", \"mid Dhh1\", \"mid Dhh1\", \"mid Dhh1\", \"mid Dhh1\", \"mid Dhh1\", \"mid Dhh1\", \"mid Dhh1\", \"mid Dhh1\", \"mid Dhh1\", \"mid Dhh1\", \"mid Dhh1\", \"mid Dhh1\", \"mid Dhh1\", \"mid Dhh1\", \"mid Dhh1\", \"mid Dhh1\", \"mid Dhh1\", \"mid Dhh1\", \"mid Dhh1\", \"mid Dhh1\", \"mid Dhh1\", \"mid Dhh1\", \"mid Dhh1\", \"mid Dhh1\", \"mid Dhh1\", \"mid Dhh1\", \"mid Dhh1\", \"mid Dhh1\", \"mid Dhh1\", \"mid Dhh1\", \"mid Dhh1\", \"mid Dhh1\", \"mid Dhh1\", \"mid Dhh1\", \"mid Dhh1\", \"mid Dhh1\", \"mid Dhh1\", \"mid Dhh1\", \"mid Dhh1\", \"mid Dhh1\", \"mid Dhh1\", \"mid Dhh1\", \"mid Dhh1\", \"mid Dhh1\", \"mid Dhh1\", \"mid Dhh1\", \"mid Dhh1\", \"mid Dhh1\", \"mid Dhh1\", \"mid Dhh1\", \"mid Dhh1\", \"mid Dhh1\", \"mid Dhh1\", \"mid Dhh1\", \"mid Dhh1\", \"mid Dhh1\", \"mid Dhh1\", \"mid Dhh1\", \"mid Dhh1\", \"mid Dhh1\", \"mid Dhh1\", \"mid Dhh1\", \"mid Dhh1\", \"mid Dhh1\", \"mid Dhh1\", \"mid Dhh1\", \"mid Dhh1\", \"mid Dhh1\", \"mid Dhh1\", \"mid Dhh1\", \"mid Dhh1\", \"mid Dhh1\", \"mid Dhh1\", \"mid Dhh1\", \"mid Dhh1\", \"mid Dhh1\", \"mid Dhh1\", \"mid Dhh1\", \"mid Dhh1\", \"mid Dhh1\", \"mid Dhh1\", \"mid Dhh1\", \"mid Dhh1\", \"mid Dhh1\", \"mid Dhh1\", \"mid Dhh1\", \"mid Dhh1\", \"mid Dhh1\", \"mid Dhh1\", \"mid Dhh1\", \"mid Dhh1\", \"mid Dhh1\", \"mid Dhh1\", \"mid Dhh1\", \"mid Dhh1\", \"mid Dhh1\", \"mid Dhh1\", \"mid Dhh1\", \"mid Dhh1\", \"mid Dhh1\", \"mid Dhh1\", \"mid Dhh1\", \"mid Dhh1\", \"mid Dhh1\", \"mid Dhh1\", \"mid Dhh1\", \"mid Dhh1\", \"mid Dhh1\", \"mid Dhh1\", \"mid Dhh1\", \"mid Dhh1\", \"mid Dhh1\", \"mid Dhh1\", \"mid Dhh1\", \"mid Dhh1\", \"mid Dhh1\", \"mid Dhh1\", \"mid Dhh1\", \"mid Dhh1\", \"mid Dhh1\", \"mid Dhh1\", \"mid Dhh1\", \"mid Dhh1\", \"mid Dhh1\", \"mid Dhh1\", \"mid Dhh1\", \"mid Dhh1\", \"mid Dhh1\", \"mid Dhh1\", \"mid Dhh1\", \"mid Dhh1\", \"mid Dhh1\", \"mid Dhh1\", \"mid Dhh1\", \"mid Dhh1\", \"mid Dhh1\", \"mid Dhh1\", \"mid Dhh1\", \"mid Dhh1\", \"mid Dhh1\", \"mid Dhh1\", \"mid Dhh1\", \"mid Dhh1\", \"mid Dhh1\", \"mid Dhh1\", \"mid Dhh1\", \"mid Dhh1\", \"mid Dhh1\", \"mid Dhh1\", \"mid Dhh1\", \"mid Dhh1\", \"mid Dhh1\", \"mid Dhh1\", \"mid Dhh1\", \"mid Dhh1\", \"mid Dhh1\", \"mid Dhh1\", \"mid Dhh1\", \"mid Dhh1\", \"mid Dhh1\", \"mid Dhh1\", \"mid Dhh1\", \"mid Dhh1\", \"mid Dhh1\", \"mid Dhh1\", \"mid Dhh1\", \"mid Dhh1\", \"mid Dhh1\", \"mid Dhh1\", \"mid Dhh1\", \"mid Dhh1\", \"mid Dhh1\", \"mid Dhh1\", \"mid Dhh1\", \"mid Dhh1\"], \"y\": [0.3724626163230804, 0.3943121590834736, 0.41644985645887034, 0.09946809833199768, 0.3871223213097297, 0.4725972719141324, 0.4309649659100582, 0.33544810594394814, 0.20813846718903048, -0.16611522504070164, 0.259231842235573, -0.18510777494662897, 0.137003483207107, 0.5971356375697353, 0.1579336897190064, -0.04082483976383178, 0.11947179864604301, 0.1458694646779973, 0.4410054719562244, 0.28355330333169454, 0.5265616763786294, 0.4270227111167551, 0.3710933333333334, 9.828009828002915e-06, 0.6708133971291865, 0.4314481559765323, -0.12959816425636383, 0.13460095565296365, 0.4716210780370073, -0.05702377569385242, -0.6011006930289442, 0.13693641722701935, -0.25319885482719867, 0.2928676625289291, 0.4013990445549382, 0.16876011526467455, 0.15038391847113358, -0.05097438818865877, 0.333914990726638, -0.5520874316939892, 0.19221564428769367, 0.17548820100243084, 0.1561310317402104, 0.15225895855170826, -0.004695259593679453, -0.3164323374340949, 0.24630212806565513, 0.7029311520109066, -0.06470118832599087, -0.25490432337837454, 0.27553254978967534, 0.3352937939282716, 0.3400241284632665, 0.8331577098700385, 0.09610956538424627, -0.2407093595288408, 0.29674988931163093, 0.204192714845378, 0.13911512216596966, 0.4136855036855037, 0.23596638392472943, 0.24275648963492946, 0.4565878305543126, 0.08807557669868052, 0.3931091898815242, 0.04948703903832766, -0.10177949111708157, 0.07169578871084625, 0.14196201149843518, 0.39558748690315815, 0.24195171401098695, 0.04668590814724796, 0.0262804527143679, 0.2433151777824934, -0.13825972211441437, 0.5025182551715724, 0.34072732576512627, 0.3346809353943717, 0.1392309452964065, -0.020442367147377932, -0.16764267990074444, 0.3959033877968211, 0.21294932201194583, 0.366241072123425, 0.47504172332226857, 0.7835176408636124, 0.15160670824459982, 0.12341060903732815, -0.14654839953721532, 0.19363510232396813, 0.2551196644460893, 0.016709268200321786, 0.33850336242667045, 0.196675411573991, 0.8832760032760033, -0.007085561497326224, 0.14768742056616763, -0.19810452705189543, 0.06784146948378042, 0.560999510044096, 0.3334442655358224, -0.07631719264123688, 0.3608041706670997, -0.06100313643687322, 0.20924014892181614, -0.04501802197802207, 0.026449428692340307, 0.03556276672075032, 0.19872875859385136, 0.23475769680829595, 0.44002340884247826, 1.3166073768957123, -0.22171474358974352, 0.48733896625462875, 0.46618898343036275, 0.300329365079365, 0.6561475409836066, 0.12456415620641564, 0.23782420602753723, 0.08429344281223147, 0.1698909975086461, -0.47241075917546504, 0.21802454176777572, 0.39933400402414493, 0.2919766987563599, 0.14902514228168268, -0.008946214618885617, 0.170068249660153, -0.652656794425087, 0.13098323007848625, -0.4237418590882178, 0.09806138933764136, -0.16814802844214605, 0.36603711879650075, -0.049135588023290516, 0.20957822370865847, -0.20123068866195337, 0.4146572104018913, -0.22627324171382382, 0.24171163036699822, 0.25919358113404406, 0.3127119325030131, 0.2523063305884676, 0.4283957125285539, 0.1811939007245593, -0.11345176145715159, 0.1760593652650623, 0.44140353317568515, 0.06623198352779687, 0.09385304905426464, 0.09290780141843977, 0.051216940717437466, 0.14275924264395093, 0.1138715587245, 0.30341113105924594, -0.0497492511767223, 0.05561492178098665, -0.27103319413616245, -0.13137718793104142, 0.008492475659821166, -0.06793810833251253, 0.2633683158420789, 0.8504450495389332, 0.05912661558702913, 0.5890339425587467, 0.24986344011194173, 0.031890579073939856, 0.23119499352447945, -0.16529650729549755, 0.3743305199052386, 0.2045930428909153, 0.3229005011315874, 0.17677324799888997, -0.3329971628263223, 0.2906836055656382, 0.28117536705273455, -0.27400924240302466, 0.28982701038124137, 0.16671474125473243, 0.03597601840279667, 0.06039443695436185, 0.6606642657062824, -0.15995827296435816, 0.06495204882301646, -0.03804265483097602, 0.26744771870202266, 0.28930434782608694, 0.07896705284764993, 0.04898505038926298, -0.011088485560154515, 0.4739586645469, 0.015101162684244294, 0.3076999175597691, -0.12129884424876172, -0.9688729874776387, 0.019752808313810148, 0.8333907887479315, 0.029986592409241064, -0.19597602739726036, -0.5421100917431193]}],\n",
       "                        {\"template\": {\"data\": {\"bar\": [{\"error_x\": {\"color\": \"rgb(36,36,36)\"}, \"error_y\": {\"color\": \"rgb(36,36,36)\"}, \"marker\": {\"line\": {\"color\": \"white\", \"width\": 0.5}}, \"type\": \"bar\"}], \"barpolar\": [{\"marker\": {\"line\": {\"color\": \"white\", \"width\": 0.5}}, \"type\": \"barpolar\"}], \"carpet\": [{\"aaxis\": {\"endlinecolor\": \"rgb(36,36,36)\", \"gridcolor\": \"white\", \"linecolor\": \"white\", \"minorgridcolor\": \"white\", \"startlinecolor\": \"rgb(36,36,36)\"}, \"baxis\": {\"endlinecolor\": \"rgb(36,36,36)\", \"gridcolor\": \"white\", \"linecolor\": \"white\", \"minorgridcolor\": \"white\", \"startlinecolor\": \"rgb(36,36,36)\"}, \"type\": \"carpet\"}], \"choropleth\": [{\"colorbar\": {\"outlinewidth\": 10, \"tickcolor\": \"rgb(36,36,36)\", \"ticklen\": 8, \"ticks\": \"outside\", \"tickwidth\": 2}, \"type\": \"choropleth\"}], \"contour\": [{\"colorbar\": {\"outlinewidth\": 10, \"tickcolor\": \"rgb(36,36,36)\", \"ticklen\": 8, \"ticks\": \"outside\", \"tickwidth\": 2}, \"colorscale\": [[0.0, \"#440154\"], [0.1111111111111111, \"#482878\"], [0.2222222222222222, \"#3e4989\"], [0.3333333333333333, \"#31688e\"], [0.4444444444444444, \"#26828e\"], [0.5555555555555556, \"#1f9e89\"], [0.6666666666666666, \"#35b779\"], [0.7777777777777778, \"#6ece58\"], [0.8888888888888888, \"#b5de2b\"], [1.0, \"#fde725\"]], \"type\": \"contour\"}], \"contourcarpet\": [{\"colorbar\": {\"outlinewidth\": 10, \"tickcolor\": \"rgb(36,36,36)\", \"ticklen\": 8, \"ticks\": \"outside\", \"tickwidth\": 2}, \"type\": \"contourcarpet\"}], \"heatmap\": [{\"colorbar\": {\"outlinewidth\": 10, \"tickcolor\": \"rgb(36,36,36)\", \"ticklen\": 8, \"ticks\": \"outside\", \"tickwidth\": 2}, \"colorscale\": [[0.0, \"#440154\"], [0.1111111111111111, \"#482878\"], [0.2222222222222222, \"#3e4989\"], [0.3333333333333333, \"#31688e\"], [0.4444444444444444, \"#26828e\"], [0.5555555555555556, \"#1f9e89\"], [0.6666666666666666, \"#35b779\"], [0.7777777777777778, \"#6ece58\"], [0.8888888888888888, \"#b5de2b\"], [1.0, \"#fde725\"]], \"type\": \"heatmap\"}], \"heatmapgl\": [{\"colorbar\": {\"outlinewidth\": 10, \"tickcolor\": \"rgb(36,36,36)\", \"ticklen\": 8, \"ticks\": \"outside\", \"tickwidth\": 2}, \"colorscale\": [[0.0, \"#440154\"], [0.1111111111111111, \"#482878\"], [0.2222222222222222, \"#3e4989\"], [0.3333333333333333, \"#31688e\"], [0.4444444444444444, \"#26828e\"], [0.5555555555555556, \"#1f9e89\"], [0.6666666666666666, \"#35b779\"], [0.7777777777777778, \"#6ece58\"], [0.8888888888888888, \"#b5de2b\"], [1.0, \"#fde725\"]], \"type\": \"heatmapgl\"}], \"histogram\": [{\"marker\": {\"line\": {\"color\": \"white\", \"width\": 0.6}}, \"type\": \"histogram\"}], \"histogram2d\": [{\"colorbar\": {\"outlinewidth\": 10, \"tickcolor\": \"rgb(36,36,36)\", \"ticklen\": 8, \"ticks\": \"outside\", \"tickwidth\": 2}, \"colorscale\": [[0.0, \"#440154\"], [0.1111111111111111, \"#482878\"], [0.2222222222222222, \"#3e4989\"], [0.3333333333333333, \"#31688e\"], [0.4444444444444444, \"#26828e\"], [0.5555555555555556, \"#1f9e89\"], [0.6666666666666666, \"#35b779\"], [0.7777777777777778, \"#6ece58\"], [0.8888888888888888, \"#b5de2b\"], [1.0, \"#fde725\"]], \"type\": \"histogram2d\"}], \"histogram2dcontour\": [{\"colorbar\": {\"outlinewidth\": 10, \"tickcolor\": \"rgb(36,36,36)\", \"ticklen\": 8, \"ticks\": \"outside\", \"tickwidth\": 2}, \"colorscale\": [[0.0, \"#440154\"], [0.1111111111111111, \"#482878\"], [0.2222222222222222, \"#3e4989\"], [0.3333333333333333, \"#31688e\"], [0.4444444444444444, \"#26828e\"], [0.5555555555555556, \"#1f9e89\"], [0.6666666666666666, \"#35b779\"], [0.7777777777777778, \"#6ece58\"], [0.8888888888888888, \"#b5de2b\"], [1.0, \"#fde725\"]], \"type\": \"histogram2dcontour\"}], \"mesh3d\": [{\"colorbar\": {\"outlinewidth\": 10, \"tickcolor\": \"rgb(36,36,36)\", \"ticklen\": 8, \"ticks\": \"outside\", \"tickwidth\": 2}, \"type\": \"mesh3d\"}], \"parcoords\": [{\"line\": {\"colorbar\": {\"outlinewidth\": 10, \"tickcolor\": \"rgb(36,36,36)\", \"ticklen\": 8, \"ticks\": \"outside\", \"tickwidth\": 2}}, \"type\": \"parcoords\"}], \"pie\": [{\"automargin\": true, \"type\": \"pie\"}], \"scatter\": [{\"marker\": {\"colorbar\": {\"outlinewidth\": 10, \"tickcolor\": \"rgb(36,36,36)\", \"ticklen\": 8, \"ticks\": \"outside\", \"tickwidth\": 2}}, \"type\": \"scatter\"}], \"scatter3d\": [{\"line\": {\"colorbar\": {\"outlinewidth\": 10, \"tickcolor\": \"rgb(36,36,36)\", \"ticklen\": 8, \"ticks\": \"outside\", \"tickwidth\": 2}}, \"marker\": {\"colorbar\": {\"outlinewidth\": 10, \"tickcolor\": \"rgb(36,36,36)\", \"ticklen\": 8, \"ticks\": \"outside\", \"tickwidth\": 2}}, \"type\": \"scatter3d\"}], \"scattercarpet\": [{\"marker\": {\"colorbar\": {\"outlinewidth\": 10, \"tickcolor\": \"rgb(36,36,36)\", \"ticklen\": 8, \"ticks\": \"outside\", \"tickwidth\": 2}}, \"type\": \"scattercarpet\"}], \"scattergeo\": [{\"marker\": {\"colorbar\": {\"outlinewidth\": 10, \"tickcolor\": \"rgb(36,36,36)\", \"ticklen\": 8, \"ticks\": \"outside\", \"tickwidth\": 2}}, \"type\": \"scattergeo\"}], \"scattergl\": [{\"marker\": {\"colorbar\": {\"outlinewidth\": 10, \"tickcolor\": \"rgb(36,36,36)\", \"ticklen\": 8, \"ticks\": \"outside\", \"tickwidth\": 2}}, \"type\": \"scattergl\"}], \"scattermapbox\": [{\"marker\": {\"colorbar\": {\"outlinewidth\": 10, \"tickcolor\": \"rgb(36,36,36)\", \"ticklen\": 8, \"ticks\": \"outside\", \"tickwidth\": 2}}, \"type\": \"scattermapbox\"}], \"scatterpolar\": [{\"marker\": {\"colorbar\": {\"outlinewidth\": 10, \"tickcolor\": \"rgb(36,36,36)\", \"ticklen\": 8, \"ticks\": \"outside\", \"tickwidth\": 2}}, \"type\": \"scatterpolar\"}], \"scatterpolargl\": [{\"marker\": {\"colorbar\": {\"outlinewidth\": 10, \"tickcolor\": \"rgb(36,36,36)\", \"ticklen\": 8, \"ticks\": \"outside\", \"tickwidth\": 2}}, \"type\": \"scatterpolargl\"}], \"scatterternary\": [{\"marker\": {\"colorbar\": {\"outlinewidth\": 10, \"tickcolor\": \"rgb(36,36,36)\", \"ticklen\": 8, \"ticks\": \"outside\", \"tickwidth\": 2}}, \"type\": \"scatterternary\"}], \"surface\": [{\"colorbar\": {\"outlinewidth\": 10, \"tickcolor\": \"rgb(36,36,36)\", \"ticklen\": 8, \"ticks\": \"outside\", \"tickwidth\": 2}, \"colorscale\": [[0.0, \"#440154\"], [0.1111111111111111, \"#482878\"], [0.2222222222222222, \"#3e4989\"], [0.3333333333333333, \"#31688e\"], [0.4444444444444444, \"#26828e\"], [0.5555555555555556, \"#1f9e89\"], [0.6666666666666666, \"#35b779\"], [0.7777777777777778, \"#6ece58\"], [0.8888888888888888, \"#b5de2b\"], [1.0, \"#fde725\"]], \"type\": \"surface\"}], \"table\": [{\"cells\": {\"fill\": {\"color\": \"rgb(237,237,237)\"}, \"line\": {\"color\": \"white\"}}, \"header\": {\"fill\": {\"color\": \"rgb(217,217,217)\"}, \"line\": {\"color\": \"white\"}}, \"type\": \"table\"}]}, \"layout\": {\"annotationdefaults\": {\"arrowhead\": 0, \"arrowwidth\": 1}, \"coloraxis\": {\"colorbar\": {\"outlinewidth\": 10, \"tickcolor\": \"rgb(36,36,36)\", \"ticklen\": 8, \"ticks\": \"outside\", \"tickwidth\": 2}}, \"colorscale\": {\"diverging\": [[0.0, \"rgb(103,0,31)\"], [0.1, \"rgb(178,24,43)\"], [0.2, \"rgb(214,96,77)\"], [0.3, \"rgb(244,165,130)\"], [0.4, \"rgb(253,219,199)\"], [0.5, \"rgb(247,247,247)\"], [0.6, \"rgb(209,229,240)\"], [0.7, \"rgb(146,197,222)\"], [0.8, \"rgb(67,147,195)\"], [0.9, \"rgb(33,102,172)\"], [1.0, \"rgb(5,48,97)\"]], \"sequential\": [[0.0, \"#440154\"], [0.1111111111111111, \"#482878\"], [0.2222222222222222, \"#3e4989\"], [0.3333333333333333, \"#31688e\"], [0.4444444444444444, \"#26828e\"], [0.5555555555555556, \"#1f9e89\"], [0.6666666666666666, \"#35b779\"], [0.7777777777777778, \"#6ece58\"], [0.8888888888888888, \"#b5de2b\"], [1.0, \"#fde725\"]], \"sequentialminus\": [[0.0, \"#440154\"], [0.1111111111111111, \"#482878\"], [0.2222222222222222, \"#3e4989\"], [0.3333333333333333, \"#31688e\"], [0.4444444444444444, \"#26828e\"], [0.5555555555555556, \"#1f9e89\"], [0.6666666666666666, \"#35b779\"], [0.7777777777777778, \"#6ece58\"], [0.8888888888888888, \"#b5de2b\"], [1.0, \"#fde725\"]]}, \"colorway\": [\"#1F77B4\", \"#FF7F0E\", \"#2CA02C\", \"#D62728\", \"#9467BD\", \"#8C564B\", \"#E377C2\", \"#7F7F7F\", \"#BCBD22\", \"#17BECF\"], \"font\": {\"color\": \"rgb(36,36,36)\"}, \"geo\": {\"bgcolor\": \"white\", \"lakecolor\": \"white\", \"landcolor\": \"white\", \"showlakes\": true, \"showland\": true, \"subunitcolor\": \"white\"}, \"hoverlabel\": {\"align\": \"left\"}, \"hovermode\": \"closest\", \"mapbox\": {\"style\": \"light\"}, \"paper_bgcolor\": \"white\", \"plot_bgcolor\": \"white\", \"polar\": {\"angularaxis\": {\"gridcolor\": \"rgb(232,232,232)\", \"linecolor\": \"rgb(36,36,36)\", \"showgrid\": false, \"showline\": true, \"ticks\": \"outside\"}, \"bgcolor\": \"white\", \"radialaxis\": {\"gridcolor\": \"rgb(232,232,232)\", \"linecolor\": \"rgb(36,36,36)\", \"showgrid\": false, \"showline\": true, \"ticks\": \"outside\"}}, \"scene\": {\"xaxis\": {\"backgroundcolor\": \"white\", \"gridcolor\": \"rgb(232,232,232)\", \"gridwidth\": 2, \"linecolor\": \"rgb(36,36,36)\", \"showbackground\": true, \"showgrid\": false, \"showline\": true, \"ticks\": \"outside\", \"zeroline\": false, \"zerolinecolor\": \"rgb(36,36,36)\"}, \"yaxis\": {\"backgroundcolor\": \"white\", \"gridcolor\": \"rgb(232,232,232)\", \"gridwidth\": 2, \"linecolor\": \"rgb(36,36,36)\", \"showbackground\": true, \"showgrid\": false, \"showline\": true, \"ticks\": \"outside\", \"zeroline\": false, \"zerolinecolor\": \"rgb(36,36,36)\"}, \"zaxis\": {\"backgroundcolor\": \"white\", \"gridcolor\": \"rgb(232,232,232)\", \"gridwidth\": 2, \"linecolor\": \"rgb(36,36,36)\", \"showbackground\": true, \"showgrid\": false, \"showline\": true, \"ticks\": \"outside\", \"zeroline\": false, \"zerolinecolor\": \"rgb(36,36,36)\"}}, \"shapedefaults\": {\"fillcolor\": \"black\", \"line\": {\"width\": 0}, \"opacity\": 0.3}, \"ternary\": {\"aaxis\": {\"gridcolor\": \"rgb(232,232,232)\", \"linecolor\": \"rgb(36,36,36)\", \"showgrid\": false, \"showline\": true, \"ticks\": \"outside\"}, \"baxis\": {\"gridcolor\": \"rgb(232,232,232)\", \"linecolor\": \"rgb(36,36,36)\", \"showgrid\": false, \"showline\": true, \"ticks\": \"outside\"}, \"bgcolor\": \"white\", \"caxis\": {\"gridcolor\": \"rgb(232,232,232)\", \"linecolor\": \"rgb(36,36,36)\", \"showgrid\": false, \"showline\": true, \"ticks\": \"outside\"}}, \"title\": {\"x\": 0.05}, \"xaxis\": {\"automargin\": true, \"gridcolor\": \"rgb(232,232,232)\", \"linecolor\": \"rgb(36,36,36)\", \"showgrid\": false, \"showline\": true, \"ticks\": \"outside\", \"title\": {\"standoff\": 15}, \"zeroline\": false, \"zerolinecolor\": \"rgb(36,36,36)\"}, \"yaxis\": {\"automargin\": true, \"gridcolor\": \"rgb(232,232,232)\", \"linecolor\": \"rgb(36,36,36)\", \"showgrid\": false, \"showline\": true, \"ticks\": \"outside\", \"title\": {\"standoff\": 15}, \"zeroline\": false, \"zerolinecolor\": \"rgb(36,36,36)\"}}}, \"yaxis\": {\"range\": [-1, 1.5]}},\n",
       "                        {\"responsive\": true}\n",
       "                    ).then(function(){\n",
       "                            \n",
       "var gd = document.getElementById('64e1347b-9581-4791-a0ba-0fea78f33030');\n",
       "var x = new MutationObserver(function (mutations, observer) {{\n",
       "        var display = window.getComputedStyle(gd).display;\n",
       "        if (!display || display === 'none') {{\n",
       "            console.log([gd, 'removed!']);\n",
       "            Plotly.purge(gd);\n",
       "            observer.disconnect();\n",
       "        }}\n",
       "}});\n",
       "\n",
       "// Listen for the removal of the full notebook cells\n",
       "var notebookContainer = gd.closest('#notebook-container');\n",
       "if (notebookContainer) {{\n",
       "    x.observe(notebookContainer, {childList: true});\n",
       "}}\n",
       "\n",
       "// Listen for the clearing of the current output cell\n",
       "var outputEl = gd.closest('.output');\n",
       "if (outputEl) {{\n",
       "    x.observe(outputEl, {childList: true});\n",
       "}}\n",
       "\n",
       "                        })\n",
       "                };\n",
       "                });\n",
       "            </script>\n",
       "        </div>"
      ]
     },
     "metadata": {},
     "output_type": "display_data"
    }
   ],
   "source": [
    "fig = go.Figure()\n",
    "cls = ['purple','orange','grey']\n",
    "cs = ['high Dhh1','low Dhh1','mid Dhh1']\n",
    "for i in range(3):\n",
    "    colr = cs[i]\n",
    "    fig.add_trace(go.Violin(x = df_samples['Type'][df_samples['Type'] == colr],\n",
    "                            y=df_samples['Delta_polarity'][df_samples['Type'] == colr],\n",
    "                            line_color=cls[i],\n",
    "                            name=colr,\n",
    "                            box_visible=True,\n",
    "                            meanline_visible=True))\n",
    "fig.update_layout(\n",
    "    template='simple_white',\n",
    "    #xaxis_title=xaxis_title,\n",
    "    #yaxis_title=yaxis_title\n",
    ")       \n",
    "\n",
    "#fig.update_xaxes(range=[-2.5, 7])\n",
    "fig.update_yaxes(range=[-1, 1.5])\n",
    "\n",
    "fig.show()\n",
    "fig.write_image(cwd+\"/Dhh1_pol.png\")"
   ]
  },
  {
   "cell_type": "code",
   "execution_count": 24,
   "metadata": {},
   "outputs": [
    {
     "data": {
      "image/png": "[encoded data removed]",
      "text/plain": [
       "<Figure size 432x288 with 1 Axes>"
      ]
     },
     "metadata": {
      "needs_background": "light"
     },
     "output_type": "display_data"
    },
    {
     "data": {
      "image/png": "[encoded data removed]",
      "text/plain": [
       "<Figure size 432x288 with 1 Axes>"
      ]
     },
     "metadata": {
      "needs_background": "light"
     },
     "output_type": "display_data"
    }
   ],
   "source": [
    "cls = ['purple','orange','grey']\n",
    "cs = ['high Dhh1','low Dhh1','mid Dhh1']\n",
    "\n",
    "fig = plt.figure()\n",
    "for i in range(3):\n",
    "    level = cs[i]\n",
    "    col = cls[i]\n",
    "    sub_df_samples = df_samples[df_samples['Type'] == level]\n",
    "    sub_df_samples = sub_df_samples.sort_values(by=['Delta_polarity_075'])\n",
    "    dhhs = sub_df_samples['Delta_Dhh1'].tolist()\n",
    "    pol = sub_df_samples['Delta_polarity_075'].tolist()\n",
    "    \n",
    "    sum_dhh = sum(dhhs)\n",
    "    cum_dhhs = []\n",
    "    for j in range(len(dhhs)):\n",
    "        perc = sum(dhhs[:j])/sum_dhh\n",
    "        cum_dhhs.append(perc)\n",
    "    plt.plot(pol,cum_dhhs,label=level,color=col)\n",
    "plt.xlim(-0.75,1)\n",
    "plt.ylim(0,1)\n",
    "#fig.set_size_inches(8.5, 5.5, forward=True)\n",
    "#plt.title(\"Polarity shift of \" +dhh1_tag+ \" genes between \" + str(d1) + \"bp and \" + str(d2)+ \"bp\")\n",
    "#plt.xlabel(\"Number of genes\")\n",
    "#plt.ylabel(\"Delta Polarity\")\n",
    "plt.legend()\n",
    "fig.savefig(cwd+'/Dhh1_Pol_cumul_'+times[1]+'_.png',dpi =500)\n",
    "cls = ['purple','orange','grey']\n",
    "cs = ['high Dhh1','low Dhh1','mid Dhh1']\n",
    "\n",
    "fig = plt.figure()\n",
    "for i in range(3):\n",
    "    level = cs[i]\n",
    "    col = cls[i]\n",
    "    sub_df_samples = df_samples[df_samples['Type'] == level]\n",
    "    sub_df_samples = sub_df_samples.sort_values(by=['Delta_polarity_15'])\n",
    "    dhhs = sub_df_samples['Delta_Dhh1'].tolist()\n",
    "    pol = sub_df_samples['Delta_polarity_15'].tolist()\n",
    "    \n",
    "    sum_dhh = sum(dhhs)\n",
    "    cum_dhhs = []\n",
    "    for j in range(len(dhhs)):\n",
    "        perc = sum(dhhs[:j])/sum_dhh\n",
    "        cum_dhhs.append(perc)\n",
    "    plt.plot(pol,cum_dhhs,label=level,color=col)\n",
    "plt.xlim(-0.75,1)\n",
    "plt.ylim(0,1)\n",
    "#fig.set_size_inches(8.5, 5.5, forward=True)\n",
    "#plt.title(\"Polarity shift of \" +dhh1_tag+ \" genes between \" + str(d1) + \"bp and \" + str(d2)+ \"bp\")\n",
    "#plt.xlabel(\"Number of genes\")\n",
    "#plt.ylabel(\"Delta Polarity\")\n",
    "plt.legend()\n",
    "fig.savefig(cwd+'/Dhh1_Pol_cumul_'+times[2]+'_.png',dpi =500)\n"
   ]
  },
  {
   "cell_type": "markdown",
   "metadata": {},
   "source": [
    "# Gene specifc polarity"
   ]
  },
  {
   "cell_type": "code",
   "execution_count": 37,
   "metadata": {},
   "outputs": [
    {
     "name": "stdout",
     "output_type": "stream",
     "text": [
      "logphase\n",
      "HSP30 0.4039375424304141\n",
      "PAB1 0.028153192393145905\n",
      "PGK1 0.07942970839757027\n",
      "HSP82 0.16615164759704185\n",
      "HXK1 0.03175476800114856\n",
      "GLC3 0.2527577284488629\n",
      "-Glucose 7.5min\n",
      "HSP30 -0.19659563194409946\n",
      "PAB1 0.08120101973373611\n",
      "PGK1 0.14547612752930164\n",
      "HSP82 0.12859701381735847\n",
      "HXK1 0.08161785984204638\n",
      "GLC3 -0.235607040719052\n",
      "-Glucose 15min\n",
      "HSP30 0.05707386700216061\n",
      "PAB1 0.13200238429915107\n",
      "PGK1 0.13761725389001678\n",
      "HSP82 0.11133011021098814\n",
      "HXK1 0.056127378085168635\n",
      "GLC3 -0.32182558753318763\n"
     ]
    }
   ],
   "source": [
    "times = []\n",
    "for i in range(len(polcsv_list)):\n",
    "    polfile = polcsv_list[i]\n",
    "    time = ''.join(filter(lambda i: i.isdigit(), polfile.split('/')[-1].split('.csv')[0])) \n",
    "    label = labels[names.index(time)]\n",
    "    print(label)\n",
    "    times.append(label)\n",
    "    df = pd.read_csv(polfile)\n",
    "    df = df.set_index('Name')\n",
    "    df = df[(df.index.isin(red))]\n",
    "    for g in range(len(red)):\n",
    "        gene = red[g]\n",
    "        code = codes[g]\n",
    "        color = col[g]\n",
    "        print(code,df.loc[gene,'PolarityPerGene'])"
   ]
  },
  {
   "cell_type": "code",
   "execution_count": null,
   "metadata": {},
   "outputs": [],
   "source": []
  }
 ],
 "metadata": {
  "kernelspec": {
   "display_name": "Python 3",
   "language": "python",
   "name": "python3"
  },
  "language_info": {
   "codemirror_mode": {
    "name": "ipython",
    "version": 3
   },
   "file_extension": ".py",
   "mimetype": "text/x-python",
   "name": "python",
   "nbconvert_exporter": "python",
   "pygments_lexer": "ipython3",
   "version": "3.7.2"
  }
 },
 "nbformat": 4,
 "nbformat_minor": 2
}
