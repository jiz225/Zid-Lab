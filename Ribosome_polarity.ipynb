{
 "cells": [
  {
   "cell_type": "markdown",
   "metadata": {},
   "source": [
    "Schuller et al., eIF5A Functions Globally in Translation Elongation and Termination, Molecular Cell (2017), http:// dx.doi.org/10.1016/j.molcel.2017.03.003\n",
    "\n",
    "Polarity at position i in gene with length l is defined as:\n",
    "\n",
    "$w_i = {{2i-(l+1)}\\over{l - 1}}$\n",
    "\n",
    "$p_i = {{d_i w_i}\\over{\\sum_{i=1}^l d_i}}$"
   ]
  },
  {
   "cell_type": "code",
   "execution_count": 2,
   "metadata": {},
   "outputs": [],
   "source": [
    "import sys\n",
    "import xlrd\n",
    "import pandas as pd\n",
    "import numpy as np\n",
    "from numpy import median\n",
    "import os\n",
    "import fnmatch "
   ]
  },
  {
   "cell_type": "code",
   "execution_count": 3,
   "metadata": {},
   "outputs": [],
   "source": [
    "'''\n",
    "Description: Parse the input file to start at 15 bps upstream of each gene\n",
    "    Input: path for input file and path for new csv file generated\n",
    "'''\n",
    "def makecsv(inputpath, outputpath, ext):\n",
    "    inputf = open(inputpath,'r')\n",
    "    outputf = open(outputpath, 'w')\n",
    "    outputf.write('Name'+ ',' + 'Orient' + ',' + 'Start' + ',' + 'End' + ',' + 'Position' + ',' +'Length' + ',' + 'RelativePosition' + ',' + 'Counts' + '\\n')\n",
    "    rposit = -1000    \n",
    "    lines = inputf.readlines()\n",
    "    for line in lines:\n",
    "        string = line.rstrip() \n",
    "        cells = string.split('\\t')\n",
    "        name = cells[0][:7] \n",
    "        orient = cells[0][6:7]\n",
    "        start = cells[1]\n",
    "        end = cells[2]\n",
    "        length = abs(int(start) - int(end))\n",
    "        riboCount = cells[4]\n",
    "        posit = cells[3]\n",
    "        \n",
    "        if orient == 'W':\n",
    "            rposit = (int(cells[3])+1 - (int(start)))\n",
    "    \n",
    "        elif orient == \"C\":\n",
    "            rposit = ((int(start))-(int(cells[3])-1))\n",
    "            \n",
    "        if rposit > 0 and rposit <(length-15):\n",
    "            outputf.write(str(name) + ',' + str(orient) + ',' + str(start) + ',' + str(end) + ',' + str(posit) + ',' + str(length-15) + ',' + str(rposit) + ',' + str(riboCount) + '\\n')\n",
    "    inputf.close()\n",
    "    outputf.close()"
   ]
  },
  {
   "cell_type": "code",
   "execution_count": 9,
   "metadata": {},
   "outputs": [],
   "source": [
    "def calculatePolarity(i, l, densityati, density):\n",
    "    normDist = (2*i - (l + 1))/(l - 1)   \n",
    "    polarity = densityati*normDist/density\n",
    "    \n",
    "    return polarity\n",
    "\n",
    "def PolarityPerGene(inputpath, destdir):\n",
    "    df = pd.read_csv(inputpath)\n",
    "    names = inputpath.split('.')\n",
    "    names1 = names[0].split('/')\n",
    "    \n",
    "    #this is the final output file\n",
    "    nameofcsv = destdir + names1[len(names1) - 1] + str(\"_polarity&gene.csv\")\n",
    "    print(nameofcsv)\n",
    "    \n",
    "    len_dict = dict(zip(df['Name'],df['Length']))\n",
    "    den_dict = df.groupby('Name')['Counts'].agg('sum').to_dict()\n",
    "    \n",
    "    Polaritylist = []\n",
    "    for i in range (len(df)):\n",
    "        polarityofi = calculatePolarity(df.iloc[i,6], df.iloc[i,5], df.iloc[i,7], den_dict.get(df.iloc[i,0]))\n",
    "        Polaritylist.append(polarityofi)\n",
    "    df['Polarity'] = Polaritylist\n",
    "    \n",
    "    #calculate polarity per gene\n",
    "    pol_dict = df.groupby('Name')['Polarity'].agg('sum').to_dict()\n",
    "    \n",
    "    Lengthlist = []\n",
    "    Totalcountlist = []\n",
    "    names = []\n",
    "    genepol = []\n",
    "    for name in pol_dict.keys():\n",
    "        if name in len_dict.keys() and name in den_dict.keys():\n",
    "            Lengthlist.append(len_dict.get(name))\n",
    "            Totalcountlist.append(den_dict.get(name))\n",
    "            names.append(name)\n",
    "            genepol.append(pol_dict.get(name))\n",
    "        \n",
    "    d = {'Name':names,'Length':Lengthlist,'Counts':Totalcountlist,'PolarityPerGene': genepol}\n",
    "    dfcsv = pd.DataFrame(data=d)\n",
    "    dfcsv = dfcsv.dropna(how='any',axis=0)\n",
    "    dfcsv.to_csv(nameofcsv)\n",
    "   "
   ]
  },
  {
   "cell_type": "code",
   "execution_count": 11,
   "metadata": {},
   "outputs": [
    {
     "name": "stdout",
     "output_type": "stream",
     "text": [
      "\n",
      " Number of possible input files: 5\n",
      "\n",
      " Number of possible output csv files: 5\n",
      "/Users/jiz225/Desktop/ZidLab/polarity/outputcsv/rna_35/Sample_Zidp35-2_1_ATCACG_polarity&gene.csv\n",
      "/Users/jiz225/Desktop/ZidLab/polarity/outputcsv/rna_35/Sample_Zidp35-2_4_TGACCA_polarity&gene.csv\n",
      "/Users/jiz225/Desktop/ZidLab/polarity/outputcsv/rna_35/Sample_Zidp35-2_3_TTAGGC_polarity&gene.csv\n",
      "/Users/jiz225/Desktop/ZidLab/polarity/outputcsv/rna_35/Sample_Zidp35-2_2_CGATGT_polarity&gene.csv\n",
      "/Users/jiz225/Desktop/ZidLab/polarity/outputcsv/rna_35/Sample_Zidp35-2_5_ACAGTG_polarity&gene.csv\n"
     ]
    }
   ],
   "source": [
    "inputlist = []\n",
    "outputlist = []\n",
    "inpath = '/Users/jiz225/Desktop/ZidLab/polarity/input/rna_35/'\n",
    "midpath = '/Users/jiz225/Desktop/ZidLab/polarity/output/rna_35/'\n",
    "inputfolder = os.listdir(inpath)\n",
    "destdir = \"/Users/jiz225/Desktop/ZidLab/polarity/outputcsv/rna_35/\"\n",
    "extension = \"*.xls\"\n",
    "for doc in inputfolder:\n",
    "    if fnmatch.fnmatch(doc, extension):\n",
    "        #change this input and ouput file path\n",
    "        inputpath = inpath + doc\n",
    "        namelist = doc.split('.')\n",
    "        name = namelist[0]\n",
    "        outputpath = midpath + name + str(\".csv\")\n",
    "        inputlist.append(inputpath)\n",
    "        outputlist.append(outputpath)\n",
    "print('\\n Number of possible input files: ' + str(len(inputlist)))\n",
    "print('\\n Number of possible output csv files: ' + str(len(outputlist)))\n",
    "    \n",
    "for i in range(0, len(inputlist)):\n",
    "    makecsv(inputlist[i], outputlist[i], extension)\n",
    "    PolarityPerGene(outputlist[i], destdir)"
   ]
  },
  {
   "cell_type": "code",
   "execution_count": null,
   "metadata": {},
   "outputs": [],
   "source": []
  },
  {
   "cell_type": "code",
   "execution_count": null,
   "metadata": {},
   "outputs": [],
   "source": []
  }
 ],
 "metadata": {
  "kernelspec": {
   "display_name": "Python 3",
   "language": "python",
   "name": "python3"
  },
  "language_info": {
   "codemirror_mode": {
    "name": "ipython",
    "version": 3
   },
   "file_extension": ".py",
   "mimetype": "text/x-python",
   "name": "python",
   "nbconvert_exporter": "python",
   "pygments_lexer": "ipython3",
   "version": "3.7.2"
  }
 },
 "nbformat": 4,
 "nbformat_minor": 2
}
