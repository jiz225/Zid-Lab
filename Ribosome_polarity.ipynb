{
 "cells": [
  {
   "cell_type": "markdown",
   "metadata": {},
   "source": [
    "Schuller et al., eIF5A Functions Globally in Translation Elongation and Termination, Molecular Cell (2017), http:// dx.doi.org/10.1016/j.molcel.2017.03.003\n",
    "\n",
    "Polarity at position i in gene with length l is defined as:\n",
    "\n",
    "$w_i = {{2i-(l+1)}\\over{l - 1}}$\n",
    "\n",
    "$p_i = {{d_i w_i}\\over{\\sum_{i=1}^l d_i}}$"
   ]
  },
  {
   "cell_type": "code",
   "execution_count": 1,
   "metadata": {},
   "outputs": [],
   "source": [
    "import sys\n",
    "import xlrd\n",
    "import pandas as pd\n",
    "import numpy as np\n",
    "from numpy import median\n",
    "import os\n",
    "import fnmatch \n",
    "import plotly.graph_objects as go\n",
    "import plotly.express as px"
   ]
  },
  {
   "cell_type": "code",
   "execution_count": 3,
   "metadata": {},
   "outputs": [
    {
     "name": "stdout",
     "output_type": "stream",
     "text": [
      "/Users/jiz225/Desktop/ZidLab/polarity\n"
     ]
    }
   ],
   "source": [
    "# Range of genes: length in bp\n",
    "d1 = 0\n",
    "d2 = 35000000\n",
    "num_c = 10\n",
    "m1 = 1200\n",
    "m2 = 1500\n",
    "viewer = 2000\n",
    "exclude = 0\n",
    "cwd = os.getcwd()\n",
    "print(cwd)\n",
    "# Ribosome counts directory\n",
    "#Ribocsv_dir = '/home/jiz225/Zid-Lab/polarity/output/Glu_readd/EY-Ribo/'\n",
    "Ribocsv_dir = cwd+'/output/Anna/'\n",
    "# mRNA counts directory\n",
    "RNAcsv_dir = cwd+'/output/Glu_readd/EY-RNA/'\n",
    "# Delta Dhh1 file\n",
    "dhh1file = cwd+'/Dhh1_Length_Short.xlsx'\n",
    "# Mitochondia genes\n",
    "mitofile = cwd+'/Williams_mito_Proxi_ribosom_Profiling.xls'"
   ]
  },
  {
   "cell_type": "code",
   "execution_count": 55,
   "metadata": {},
   "outputs": [
    {
     "name": "stdout",
     "output_type": "stream",
     "text": [
      "14733 201\n",
      "Index(['Name', 'Code', 'Annotation', 'ORF Length', 'YEP(ip-total) -G Dhh1',\n",
      "       'YPD(ip-total) +G Dhh1', 'Delta_Dhh1', 'LengthPredicted Dhh1',\n",
      "       'D_predicted', 'tai', 'BY_Ribo_B_Polarity', 'BY_Ribo_A_Polarity',\n",
      "       'Ribosome Occupancy +G Ribo/mRNA - 1P/1Tt', 'Ribo +G - 1Pd_C',\n",
      "       'mRNA +G - 1Ttd-Ribozero', '-G/+G mRNA - 4Tdat/1Tdat',\n",
      "       '-G/+G Ribosome occupancy', 'Type'],\n",
      "      dtype='object')\n",
      "number of genes excluding red gens 4310\n",
      "number of genes including red gens 4321\n"
     ]
    }
   ],
   "source": [
    "red = ['YLL026W', 'YDR258C', 'YPL240C', 'YBR169C', 'YER103W', \n",
    "       'YGR142W', 'YDR171W', 'YCR021C', 'YBR072W', 'YFL014W', 'YLR327C']\n",
    "isred = []\n",
    "df_dhh1_all = pd.read_excel(dhh1file, index_col=None)\n",
    "for i in df_dhh1_all.get('Name'):\n",
    "    if i in red:\n",
    "        isred.append('y')\n",
    "    else:\n",
    "        isred.append('n')\n",
    "df_dhh1_all['Type'] = isred\n",
    "print(max(df_dhh1_all.iloc[:,3]), min(df_dhh1_all.iloc[:,3]))\n",
    "df_dhh1 = df_dhh1_all[(df_dhh1_all.iloc[:,3] > d1) & (df_dhh1_all.iloc[:,3] < d2)]\n",
    "print(df_dhh1.columns)\n",
    "\n",
    "df_dhh1_ex = df_dhh1[(df_dhh1.iloc[:,-1] == 'n')]\n",
    "print('number of genes excluding red gens',len(df_dhh1_ex))\n",
    "df_dhh1_in = df_dhh1\n",
    "print('number of genes including red gens',len(df_dhh1_in))\n",
    "\n",
    "dhh1_top = df_dhh1.sort_values(by='Delta_Dhh1', ascending=False).iloc[:600,:]\n",
    "#print(dhh1_top.iloc[:,6].quantile([0.05,0.25,0.5,0.75,0.995,1]))\n",
    "dhh1_bot = df_dhh1.sort_values(by='Delta_Dhh1', ascending=True).iloc[:800,:]\n",
    "#print(dhh1_bot.iloc[:,6].quantile([0.05,0.25,0.5,0.75,0.995,1]))"
   ]
  },
  {
   "cell_type": "code",
   "execution_count": 56,
   "metadata": {},
   "outputs": [
    {
     "name": "stdout",
     "output_type": "stream",
     "text": [
      "df_mito (519, 29) Index(['Name', 'common.name', 'aa.length', 'mitop2', 'mito.compartment',\n",
      "       'mito.GO', 'gfp.localization', 'unannonated.enriched', 'mitoprot.score',\n",
      "       'signalp.predicted', 'glycosylated', 'gene.ohnolog',\n",
      "       'minus.chx.enriched', 'plus.chx.enriched', 'om45.2mchx.total.cts',\n",
      "       'om45.2mchx.total.rpkm', 'om45.2mchx.pulldown.cts',\n",
      "       'om45.2mchx.pulldown.rpkm', 'om45.2mchx.log2enrich',\n",
      "       'om45.2m.total.cts', 'om45.2m.total.rpkm', 'om45.2m.pulldown.cts',\n",
      "       'om45.2m.pulldown.rpkm', 'om45.2m.log2enrich', 'ssh1.2mchx.total.cts',\n",
      "       'ssh1.2mchx.total.rpkm', 'ssh1.2mchx.pulldown.cts',\n",
      "       'ssh1.2mchx.pulldown.rpkm', 'ssh1.2mchx.log2enrich'],\n",
      "      dtype='object')\n",
      "df_nonmito (3802, 18) Index(['Name', 'Code', 'Annotation', 'ORF Length', 'YEP(ip-total) -G Dhh1',\n",
      "       'YPD(ip-total) +G Dhh1', 'Delta_Dhh1', 'LengthPredicted Dhh1',\n",
      "       'D_predicted', 'tai', 'BY_Ribo_B_Polarity', 'BY_Ribo_A_Polarity',\n",
      "       'Ribosome Occupancy +G Ribo/mRNA - 1P/1Tt', 'Ribo +G - 1Pd_C',\n",
      "       'mRNA +G - 1Ttd-Ribozero', '-G/+G mRNA - 4Tdat/1Tdat',\n",
      "       '-G/+G Ribosome occupancy', 'Type'],\n",
      "      dtype='object')\n",
      "df_mito_diff  (128, 29) 4053 450\n",
      "df_mito_yes  (148, 29) 6369 549\n",
      "df_mito_no  (283, 29) 6369 450\n"
     ]
    }
   ],
   "source": [
    "df_mito = pd.read_excel(mitofile,index_col=None)\n",
    "df_mito = df_mito.rename(columns={'#gene':'Name'})\n",
    "df_mito = df_mito[(df_mito.Name.isin(df_dhh1.Name)) & (df_mito.mitop2 == 'yes')]  \n",
    "df_nonmito = df_dhh1[(~df_dhh1.Name.isin(df_mito.Name))]\n",
    "print('df_mito', df_mito.shape, df_mito.columns)\n",
    "print('df_nonmito', df_nonmito.shape, df_nonmito.columns)\n",
    "df_mito_diff = df_mito[(df_mito['minus.chx.enriched'] == 'no') & (df_mito['plus.chx.enriched'] == 'yes')]\n",
    "print('df_mito_diff ', df_mito_diff.shape, max(df_mito_diff['aa.length'])*3,min(df_mito_diff['aa.length'])*3)\n",
    "#df_mito_yes = df_mito[(df_mito['minus.chx.enriched'] == 'yes') & (df_mito['plus.chx.enriched'] == 'yes')]\n",
    "df_mito_yes = df_mito[(df_mito['minus.chx.enriched'] == 'yes')]\n",
    "print('df_mito_yes ', df_mito_yes.shape, max(df_mito_yes['aa.length'])*3,min(df_mito_yes['aa.length'])*3)\n",
    "#df_mito_no = df_mito[(df_mito['minus.chx.enriched'] == 'no') & (df_mito['plus.chx.enriched'] == 'no')]\n",
    "df_mito_no = df_mito[(df_mito['plus.chx.enriched'] == 'yes')]\n",
    "print('df_mito_no ', df_mito_no.shape, max(df_mito_no['aa.length'])*3,min(df_mito_no['aa.length'])*3)"
   ]
  },
  {
   "cell_type": "code",
   "execution_count": 2,
   "metadata": {},
   "outputs": [],
   "source": [
    "'''\n",
    "Description: Parse the input file to start at 15 bps upstream of each gene\n",
    "    Input: path for input file and path for new csv file generated\n",
    "'''\n",
    "def makecsv(inputpath, outputpath, ext):\n",
    "    inputf = open(inputpath,'r')\n",
    "    outputf = open(outputpath, 'w')\n",
    "    outputf.write('Name'+ ',' + 'Orient' + ',' + 'Start' + ',' + 'End' + ',' + 'Position' + ',' +'Length' + ',' + 'RelativePosition' + ',' + 'Counts' + '\\n')\n",
    "    rposit = -1000    \n",
    "    lines = inputf.readlines()\n",
    "    for line in lines:\n",
    "        string = line.rstrip() \n",
    "        cells = string.split('\\t')\n",
    "        name = cells[0][:7] \n",
    "        orient = cells[0][6:7]\n",
    "        start = cells[1]\n",
    "        end = cells[2]\n",
    "        length = abs(int(start) - int(end))\n",
    "        riboCount = cells[4]\n",
    "        posit = cells[3]\n",
    "        \n",
    "        if orient == 'W':\n",
    "            rposit = (int(cells[3])+1 - (int(start)))\n",
    "    \n",
    "        elif orient == \"C\":\n",
    "            rposit = ((int(start))-(int(cells[3])-1))\n",
    "            \n",
    "        if rposit > 0 and rposit <(length-15):\n",
    "            outputf.write(str(name) + ',' + str(orient) + ',' + str(start) + ',' + str(end) + ',' + str(posit) + ',' + str(length-15) + ',' + str(rposit) + ',' + str(riboCount) + '\\n')\n",
    "    inputf.close()\n",
    "    outputf.close()"
   ]
  },
  {
   "cell_type": "code",
   "execution_count": 3,
   "metadata": {},
   "outputs": [],
   "source": [
    "def calculatePolarity(i, l, densityati, density):\n",
    "    normDist = (2*i - (l + 1))/(l - 1)   \n",
    "    polarity = densityati*normDist/density\n",
    "    \n",
    "    return polarity\n",
    "\n",
    "def PolarityPerGene(inputpath, destdir):\n",
    "    df = pd.read_csv(inputpath)\n",
    "    names = inputpath.split('.')\n",
    "    names1 = names[0].split('/')\n",
    "    \n",
    "    #this is the final output file\n",
    "    nameofcsv = destdir + names1[len(names1) - 1] + str(\"_polarity&gene.csv\")\n",
    "    print(nameofcsv)\n",
    "    \n",
    "    len_dict = dict(zip(df['Name'],df['Length']))\n",
    "    den_dict = df.groupby('Name')['Counts'].agg('sum').to_dict()\n",
    "    \n",
    "    Polaritylist = []\n",
    "    for i in range (len(df)):\n",
    "        polarityofi = calculatePolarity(df.iloc[i,6], df.iloc[i,5], df.iloc[i,7], den_dict.get(df.iloc[i,0]))\n",
    "        Polaritylist.append(polarityofi)\n",
    "    df['Polarity'] = Polaritylist\n",
    "    \n",
    "    #calculate polarity per gene\n",
    "    pol_dict = df.groupby('Name')['Polarity'].agg('sum').to_dict()\n",
    "    \n",
    "    Lengthlist = []\n",
    "    Totalcountlist = []\n",
    "    names = []\n",
    "    genepol = []\n",
    "    for name in pol_dict.keys():\n",
    "        if name in len_dict.keys() and name in den_dict.keys():\n",
    "            Lengthlist.append(len_dict.get(name))\n",
    "            Totalcountlist.append(den_dict.get(name))\n",
    "            names.append(name)\n",
    "            genepol.append(pol_dict.get(name))\n",
    "        \n",
    "    d = {'Name':names,'Length':Lengthlist,'Counts':Totalcountlist,'PolarityPerGene': genepol}\n",
    "    dfcsv = pd.DataFrame(data=d)\n",
    "    dfcsv = dfcsv.dropna(how='any',axis=0)\n",
    "    dfcsv.to_csv(nameofcsv)\n",
    "   "
   ]
  },
  {
   "cell_type": "code",
   "execution_count": 6,
   "metadata": {},
   "outputs": [
    {
     "name": "stdout",
     "output_type": "stream",
     "text": [
      "\n",
      " Number of possible input files: 5\n",
      "\n",
      " Number of possible output csv files: 5\n",
      "/Users/jiz225/Desktop/ZidLab/polarity/outputcsv/Glu_readd/EY-RNA/EY-RNA_logphase-2_4_TGACCA_polarity&gene.csv\n",
      "/Users/jiz225/Desktop/ZidLab/polarity/outputcsv/Glu_readd/EY-RNA/EY-RNA-Glu15+Glu1-2_7_CAGATC_polarity&gene.csv\n",
      "/Users/jiz225/Desktop/ZidLab/polarity/outputcsv/Glu_readd/EY-RNA/EY-RNA-Glu7_5-2_5_ACAGTG_polarity&gene.csv\n",
      "/Users/jiz225/Desktop/ZidLab/polarity/outputcsv/Glu_readd/EY-RNA/EY-RNA-Glu15-2_6_GCCAAT_polarity&gene.csv\n",
      "/Users/jiz225/Desktop/ZidLab/polarity/outputcsv/Glu_readd/EY-RNA/EY-RNA-Glu15+Glu5-1_1_ATCACG_polarity&gene.csv\n"
     ]
    }
   ],
   "source": [
    "inputlist = []\n",
    "outputlist = []\n",
    "inputfolder = os.listdir(inpath)\n",
    "extension = \"*.xls\"\n",
    "for doc in inputfolder:\n",
    "    if fnmatch.fnmatch(doc, extension):\n",
    "        #change this input and ouput file path\n",
    "        inputpath = inpath + doc\n",
    "        namelist = doc.split('.')\n",
    "        name = namelist[0]\n",
    "        outputpath = midpath + name + str(\".csv\")\n",
    "        inputlist.append(inputpath)\n",
    "        outputlist.append(outputpath)\n",
    "print('\\n Number of possible input files: ' + str(len(inputlist)))\n",
    "print('\\n Number of possible output csv files: ' + str(len(outputlist)))\n",
    "    \n",
    "for i in range(0, len(inputlist)):\n",
    "    makecsv(inputlist[i], outputlist[i], extension)\n",
    "    PolarityPerGene(outputlist[i], destdir)"
   ]
  },
  {
   "cell_type": "code",
   "execution_count": 57,
   "metadata": {},
   "outputs": [
    {
     "name": "stdout",
     "output_type": "stream",
     "text": [
      "5\n",
      "['/Users/jiz225/Desktop/ZidLab/polarity/outputcsv/Glu_readd/EY-Ribo/EY-Ribo-Glu15+Glu1-1_8_ACTTGA_polarity&gene.csv', '/Users/jiz225/Desktop/ZidLab/polarity/outputcsv/Glu_readd/EY-Ribo/EY-Ribo-Glu15+Glu5-2_9_ACGACT_polarity&gene.csv', '/Users/jiz225/Desktop/ZidLab/polarity/outputcsv/Glu_readd/EY-Ribo/EY-Ribo-Glu15-1_7_CAGATC_polarity&gene.csv', '/Users/jiz225/Desktop/ZidLab/polarity/outputcsv/Glu_readd/EY-Ribo/EY-Ribo-Glu7_5-1_6_GCCAAT_polarity&gene.csv', '/Users/jiz225/Desktop/ZidLab/polarity/outputcsv/Glu_readd/EY-Ribo/EY-Ribologphase-1_5_ACAGTG_polarity&gene.csv']\n"
     ]
    }
   ],
   "source": [
    "csv_dir = destdir\n",
    "os.chdir(csv_dir)\n",
    "wd = os.getcwd()\n",
    "\n",
    "csv_list=[]\n",
    "tag = 'Ribo'\n",
    "for root,dirs,files in os.walk(wd):\n",
    "    for file in files:\n",
    "        if file.split('.')[-1] == \"csv\" and tag in file:\n",
    "            csv_list.append(csv_dir + file)\n",
    "csv_list_s = sorted(csv_list)\n",
    "print(len(csv_list_s))\n",
    "print(csv_list_s)"
   ]
  },
  {
   "cell_type": "code",
   "execution_count": 67,
   "metadata": {},
   "outputs": [
    {
     "name": "stdout",
     "output_type": "stream",
     "text": [
      "-Glu15+Glu1-1_8_ACTTGA\n",
      "In sample  -Glu15+Glu1-1_8_ACTTGA  number of genes used  4316\n",
      "-Glu15+Glu5-2_9_ACGACT\n",
      "In sample  -Glu15+Glu5-2_9_ACGACT  number of genes used  4314\n",
      "-Glu15-1_7_CAGATC\n",
      "In sample  -Glu15-1_7_CAGATC  number of genes used  4317\n",
      "-Glu7_5-1_6_GCCAAT\n",
      "In sample  -Glu7_5-1_6_GCCAAT  number of genes used  4315\n",
      "logphase-1_5_ACAGTG\n",
      "In sample  logphase-1_5_ACAGTG  number of genes used  4317\n"
     ]
    }
   ],
   "source": [
    "keys = []\n",
    "values_list = []\n",
    "fit_list = []\n",
    "times = []\n",
    "num_c = 10\n",
    "llist = []\n",
    "for i in range(len(csv_list_s)):\n",
    "    file = csv_list_s[i]\n",
    "    time = file.split('/')[-1].split(tag)[1].split('_polarity&gene')[0]\n",
    "    print(time)\n",
    "    times.append(time)\n",
    "    df_all = pd.read_csv(file)\n",
    "    df = pd.merge(df_all, df_dhh1['Name'], how='inner', on=['Name'])\n",
    "    df_dhh1 = df_dhh1[df_dhh1.Name.isin(df.Name)] \n",
    "    df = df[df.iloc[:,2] > 100]\n",
    "    \n",
    "    all_len = dict(zip(df['Name'],df['Length']))\n",
    "    rbf_dict = dict(zip(df['Name'],df['PolarityPerGene']))\n",
    "    print('In sample ', time, ' number of genes used ', len(df))\n",
    "    pol_dict = {}\n",
    "    for key in rbf_dict:\n",
    "        if key in all_len:\n",
    "            pol_dict.update({all_len.get(key): rbf_dict.get(key)})\n",
    "        \n",
    "    pol_dict_s = dict(sorted(pol_dict.items()))\n",
    "    #print(pol_dict_s)\n",
    "\n",
    "    agg_dict = dict()\n",
    "    agg_pol = 0.0\n",
    "    num_gene = 0\n",
    "    for l in range(d1,viewer):\n",
    "        if l in pol_dict_s.keys():\n",
    "            #print(pol_dict_s.get(l))\n",
    "            agg_pol += pol_dict_s.get(l)\n",
    "            num_gene += 1\n",
    "                \n",
    "        if l % (num_c*3) == 0 and num_gene > 0:\n",
    "            agg_dict.update({int(l/3):agg_pol/(num_c*3)})\n",
    "            num_gene = 0\n",
    "            agg_pol = 0\n",
    "    \n",
    "    #print(agg_dict)\n",
    "    keys = np.array(list(agg_dict.keys()))\n",
    "    values = np.array(list(agg_dict.values()))\n",
    "    values_list.append(values)"
   ]
  },
  {
   "cell_type": "code",
   "execution_count": 68,
   "metadata": {},
   "outputs": [
    {
     "data": {
      "application/vnd.plotly.v1+json": {
       "config": {
        "plotlyServerURL": "https://plot.ly"
       },
       "data": [
        {
         "mode": "markers+lines",
         "name": "-Glu15+Glu1-1_8_ACTTGA",
         "type": "scatter",
         "x": [
          40,
          50,
          60,
          70,
          80,
          90,
          100,
          110,
          120,
          130,
          140,
          150,
          160,
          170,
          180,
          190,
          200,
          210,
          220,
          230,
          240,
          250,
          260,
          270,
          280,
          290,
          300,
          310,
          320,
          330,
          340,
          350,
          360,
          370,
          380,
          390,
          400,
          410,
          420,
          430,
          440,
          450,
          460,
          470,
          480,
          490,
          500,
          510,
          520,
          530,
          540,
          550,
          560,
          570,
          580,
          590,
          600,
          610,
          620,
          630,
          640,
          650,
          660,
          670,
          680,
          690,
          700,
          710,
          720,
          730,
          740,
          750,
          760,
          770,
          780,
          790,
          800,
          810,
          820,
          830,
          840,
          850,
          860,
          870,
          880,
          890,
          900,
          910,
          920,
          930,
          940,
          950,
          960,
          970,
          980,
          990
         ],
         "y": [
          -0.03485528410532585,
          -0.030431367549771715,
          -0.08406382927073588,
          -0.04233396914526263,
          -0.005309030608196392,
          -0.10387353740125625,
          -0.07319014753694811,
          -0.09740342631710375,
          -0.0979229928677401,
          -0.09477857771860125,
          -0.09042087518783888,
          -0.0615972882450234,
          -0.15616745405772617,
          -0.10462466023412414,
          -0.04228867607609394,
          -0.09156070434032876,
          -0.0746404661113412,
          -0.09290341931761079,
          -0.09641341597838797,
          -0.07610748205529469,
          -0.07084641939257588,
          -0.07462731354402095,
          -0.06363132547840424,
          -0.03618592843080341,
          0.03662274213741341,
          -0.05704123161073601,
          -0.08657724634550759,
          -0.037393984759232404,
          -0.06631391650599441,
          -0.05841604763275667,
          -0.08619867575276201,
          -0.04667151355478583,
          -0.05951279619292525,
          -0.042632600668446916,
          -0.07130791113314,
          -0.03358931823014847,
          -0.06852188956906718,
          -0.0423526493252298,
          -0.07253372958181324,
          -0.06328857239544701,
          -0.061118845963899375,
          -0.046275970967168144,
          -0.029759260530096907,
          -0.03449336067455581,
          -0.03802135404405848,
          -0.012589309289537576,
          -0.09018895074612607,
          -0.07071134085712007,
          -0.012586985456467447,
          -0.03389059765911129,
          -0.045444510596093037,
          -0.04143718567044421,
          -0.04627086253634857,
          -0.010548607230656957,
          -0.03414417713468162,
          -0.048839794240877366,
          -0.040900506950706905,
          0.001298281770238832,
          -0.054676809353100486,
          -0.036219386704589705,
          -0.037946255349297305,
          -0.021248132960976173,
          -0.04830843406854454,
          -0.019610273737087475,
          -0.0374269847368441,
          -0.01126703446390229,
          -0.045069459619477,
          -0.005777803722556863,
          -0.006756350536502337,
          -0.04038682992491567,
          -0.027685432009586446,
          -0.06296659888275627,
          -0.016628667967506654,
          -0.04207099981062894,
          -0.0027674203646818763,
          -0.02879339570356482,
          -0.00699606330969646,
          -0.013061068737342496,
          -0.014832423071529382,
          -0.009146309565891039,
          0.001333131213672223,
          -0.007850523223945189,
          -0.018011471501438295,
          -0.03443658858961399,
          -0.0628939983393937,
          0.011827801057821248,
          -0.0230783015447548,
          0.006273628533158567,
          0.002575488999112789,
          -0.017280880819343664,
          0.003080742808890696,
          -0.01138122585104588,
          0.005798540794816267,
          -0.012932760658277065,
          0.0016184703314046551,
          -0.00031993778905888085
         ]
        },
        {
         "mode": "markers+lines",
         "name": "-Glu15+Glu5-2_9_ACGACT",
         "type": "scatter",
         "x": [
          40,
          50,
          60,
          70,
          80,
          90,
          100,
          110,
          120,
          130,
          140,
          150,
          160,
          170,
          180,
          190,
          200,
          210,
          220,
          230,
          240,
          250,
          260,
          270,
          280,
          290,
          300,
          310,
          320,
          330,
          340,
          350,
          360,
          370,
          380,
          390,
          400,
          410,
          420,
          430,
          440,
          450,
          460,
          470,
          480,
          490,
          500,
          510,
          520,
          530,
          540,
          550,
          560,
          570,
          580,
          590,
          600,
          610,
          620,
          630,
          640,
          650,
          660,
          670,
          680,
          690,
          700,
          710,
          720,
          730,
          740,
          750,
          760,
          770,
          780,
          790,
          800,
          810,
          820,
          830,
          840,
          850,
          860,
          870,
          880,
          890,
          900,
          910,
          920,
          930,
          940,
          950,
          960,
          970,
          980,
          990
         ],
         "y": [
          -0.01725657428820244,
          0.003141223557874683,
          -0.06235732294889751,
          -0.023422235082483,
          -0.04698101006288859,
          -0.0757815492589613,
          -0.03871371157040462,
          -0.06882029344955663,
          -0.04584352299117193,
          -0.0519250620043268,
          -0.00766748233908616,
          0.009904095347291586,
          -0.09676197666200083,
          -0.05083608009722443,
          0.01628042615029816,
          -0.0202828637624759,
          0.013890677950092923,
          -0.03710903966507221,
          -0.03097271403547493,
          -0.01699449169586575,
          0.017644985914810483,
          -0.009878406668521725,
          -0.029614821721748123,
          0.022311750085267323,
          0.097456967850879,
          -0.03212561398216871,
          -0.0031882636337773607,
          -0.014032535424590048,
          -0.003411706081832505,
          0.019532568783477647,
          -0.029728589933077084,
          -0.02148489006469652,
          -0.009705160835632365,
          -0.006482467411480365,
          -0.016590563534095756,
          -0.02369656444986046,
          -0.01726046720199294,
          -0.03221241096203938,
          -0.02509179603498484,
          -0.0270824088707354,
          -0.03511358194461751,
          -0.03669265462683788,
          -0.02973455503188662,
          -0.015483516315093275,
          -0.008854101233986679,
          -0.014869558464546712,
          -0.03341929072231073,
          -0.05899436218056457,
          -0.022006645902334056,
          -0.007957947170329117,
          -0.022010342804074132,
          -0.02848102272568892,
          -0.034111563069475374,
          -0.033381997861084166,
          -0.007495989172370943,
          -0.02637008697084536,
          -0.01572113450842259,
          -0.03781731440287707,
          -0.04712200697370474,
          -0.03740276760569155,
          -0.00990671184196632,
          -0.030964218798968286,
          -0.029913486092652326,
          -0.02659350976591828,
          -0.023551460294946803,
          -0.031060742434182158,
          -0.033637859827259524,
          -0.02884124920794803,
          -0.020022276826466224,
          -0.012181001541084509,
          -0.030211954883040383,
          -0.055898655761778965,
          -0.03455791536080824,
          -0.04380097575582272,
          -0.025694859784906824,
          -0.045795654708529705,
          -0.00781711362669946,
          -0.013185497681960145,
          -0.024638631447511484,
          -0.014526910869506157,
          -0.04087382188154616,
          -0.010926214667275658,
          -0.05441643965931968,
          -0.0028531318945154197,
          -0.06432167366976783,
          -0.011725385332411962,
          -0.02474824149972905,
          -0.022450596979097053,
          -0.040458610763231456,
          -0.05065492630309792,
          -0.009214534048238538,
          -0.03839645887683829,
          -0.03328366727046476,
          -0.05317587603009192,
          -0.028213423278637812,
          -0.031824187339577904
         ]
        },
        {
         "mode": "markers+lines",
         "name": "-Glu15-1_7_CAGATC",
         "type": "scatter",
         "x": [
          40,
          50,
          60,
          70,
          80,
          90,
          100,
          110,
          120,
          130,
          140,
          150,
          160,
          170,
          180,
          190,
          200,
          210,
          220,
          230,
          240,
          250,
          260,
          270,
          280,
          290,
          300,
          310,
          320,
          330,
          340,
          350,
          360,
          370,
          380,
          390,
          400,
          410,
          420,
          430,
          440,
          450,
          460,
          470,
          480,
          490,
          500,
          510,
          520,
          530,
          540,
          550,
          560,
          570,
          580,
          590,
          600,
          610,
          620,
          630,
          640,
          650,
          660,
          670,
          680,
          690,
          700,
          710,
          720,
          730,
          740,
          750,
          760,
          770,
          780,
          790,
          800,
          810,
          820,
          830,
          840,
          850,
          860,
          870,
          880,
          890,
          900,
          910,
          920,
          930,
          940,
          950,
          960,
          970,
          980,
          990
         ],
         "y": [
          -0.02118496912877318,
          -0.004435363492603049,
          -0.021413505403682413,
          -0.06430854926449267,
          0.006625327700621712,
          -0.0004328935199321889,
          -0.007918222428850477,
          -0.03289831237843071,
          0.07083687407463939,
          -0.018429224062785122,
          -0.03015280275507961,
          0.07204143450266241,
          -0.0562954086628342,
          0.006767978979533206,
          -0.00048594721284134966,
          0.05960924046531772,
          0.0740993124380964,
          -0.028638345684435063,
          0.051507901355054446,
          0.0037007976325239595,
          0.06242773298019474,
          0.04660615658786626,
          -0.014292313443793007,
          0.08593016001929836,
          0.11237962442407565,
          0.020618328311224912,
          0.0007107873584032318,
          0.05760063899436358,
          0.07186724711923019,
          0.07752523993842424,
          0.01228911205866189,
          2.4082850657372126e-05,
          0.019650332990997308,
          0.0369107223378659,
          -0.06137918457407522,
          0.010946326425680362,
          0.024004757031104815,
          -0.004090439551130559,
          -0.006884013596511351,
          0.009224634031044232,
          -0.0001805873591199399,
          -0.014557385260229844,
          -0.009149385617898265,
          0.01738099935501005,
          0.05386549663791378,
          0.014371716358462244,
          -0.03662269080809204,
          -0.04161808901770652,
          -0.00035625946362017604,
          0.006821856462468103,
          0.004797692097958731,
          -0.01024138607196743,
          -0.01846546005612131,
          0.036079213307513375,
          0.032065797709717736,
          0.01417649103015944,
          0.013102401272930596,
          -0.000795053099929476,
          -0.04101487176216874,
          -0.020155322062076708,
          -0.04885245139233797,
          -0.03742702519935847,
          -0.03603220392735196,
          0.006505624142796909,
          -0.012606507943327329,
          0.039358311442722484,
          -0.03781785934068143,
          -0.005733149112656459,
          0.020107932425465602,
          0.007463479932436053,
          0.00791224196948869,
          -0.042631511440539206,
          0.0065038222722743734,
          -0.0051323078692461855,
          0.009757665653846555,
          -0.009330285266181494,
          0.029602885276388324,
          0.01426240727467518,
          -0.011974591119399724,
          0.018487907095818445,
          0.021514821435771273,
          -0.0028254460523151614,
          0.003956855024099536,
          -0.010905892157002736,
          -0.0033147236227802743,
          0.005776395327140127,
          -0.0220857124700723,
          0.0028059092554187193,
          -0.02900802039719667,
          0.0029132426404638837,
          0.00822917839925301,
          -0.007652822032852422,
          0.015788969996840298,
          0.015006378733976733,
          -0.006937621707762331,
          0.010395182193199631
         ]
        },
        {
         "mode": "markers+lines",
         "name": "-Glu7_5-1_6_GCCAAT",
         "type": "scatter",
         "x": [
          40,
          50,
          60,
          70,
          80,
          90,
          100,
          110,
          120,
          130,
          140,
          150,
          160,
          170,
          180,
          190,
          200,
          210,
          220,
          230,
          240,
          250,
          260,
          270,
          280,
          290,
          300,
          310,
          320,
          330,
          340,
          350,
          360,
          370,
          380,
          390,
          400,
          410,
          420,
          430,
          440,
          450,
          460,
          470,
          480,
          490,
          500,
          510,
          520,
          530,
          540,
          550,
          560,
          570,
          580,
          590,
          600,
          610,
          620,
          630,
          640,
          650,
          660,
          670,
          680,
          690,
          700,
          710,
          720,
          730,
          740,
          750,
          760,
          770,
          780,
          790,
          800,
          810,
          820,
          830,
          840,
          850,
          860,
          870,
          880,
          890,
          900,
          910,
          920,
          930,
          940,
          950,
          960,
          970,
          980,
          990
         ],
         "y": [
          -0.009607239821098493,
          0.006262287689289394,
          -0.006705181952989877,
          -0.006966487976963897,
          -0.003556514780731007,
          -0.03452364770995891,
          0.041186750914700185,
          -0.03005289548674422,
          0.025431689171148988,
          -0.031341470870768606,
          0.0015707706678057631,
          0.055467982126397815,
          -0.013118808532580838,
          0.008213702278619403,
          0.05412174324877557,
          0.03730557692987325,
          0.0585883336196514,
          -0.011792356335367344,
          0.015846265859877223,
          0.041445414229768614,
          0.037148269728617615,
          0.05426899923940976,
          -0.027712870363196578,
          0.10021983106705566,
          0.12785325862162875,
          0.04233307369725809,
          0.03577333646082692,
          0.08668563356243837,
          0.0764865616087506,
          0.07901356967706201,
          0.04244175904674409,
          0.058145800123669315,
          -0.0001664133792144103,
          0.06129435425256544,
          0.0012130719594104682,
          0.022106461471872826,
          0.03865305059390315,
          0.023323165235749333,
          0.022886184995511684,
          0.026290507059004112,
          0.0499195466910176,
          0.04059126316938654,
          0.04366535602618547,
          0.030226458074804716,
          0.05552796418760039,
          0.057388529387398766,
          0.009332609651878425,
          0.035322093582513474,
          0.017901717309222062,
          -0.011274536440983229,
          0.06026637879901998,
          0.024981910018513465,
          0.035644416422722425,
          0.028667371060249303,
          0.061291211761533404,
          0.051214360692225826,
          0.026599807843805275,
          0.0501327410257836,
          0.028730081752245524,
          0.022890603195340475,
          0.05118157184960747,
          0.041483457345310344,
          0.02683834234455836,
          0.052082099050112386,
          0.026041000318247746,
          0.07289593969042066,
          0.026640134303403878,
          0.06504412258474604,
          0.05608094002132829,
          0.03727805023567209,
          0.02405943868705814,
          0.013082922877399024,
          0.045021290328051994,
          0.022231021560660234,
          0.04093520733498053,
          0.027069095852682707,
          0.06702898818721663,
          0.03887769875514744,
          0.04017353374669577,
          0.03663450696584406,
          0.06758276366542644,
          0.04296603286819966,
          0.030503691906359983,
          0.0318359245301375,
          0.030018264883552356,
          0.06606535656512189,
          0.009446447991966268,
          0.020133675479644255,
          0.055764794692358954,
          0.041893171606322,
          0.042354079169568064,
          0.03851371285855601,
          0.058332302488958494,
          0.05189874359378567,
          0.01578447345024252,
          0.021433285375029858
         ]
        },
        {
         "mode": "markers+lines",
         "name": "logphase-1_5_ACAGTG",
         "type": "scatter",
         "x": [
          40,
          50,
          60,
          70,
          80,
          90,
          100,
          110,
          120,
          130,
          140,
          150,
          160,
          170,
          180,
          190,
          200,
          210,
          220,
          230,
          240,
          250,
          260,
          270,
          280,
          290,
          300,
          310,
          320,
          330,
          340,
          350,
          360,
          370,
          380,
          390,
          400,
          410,
          420,
          430,
          440,
          450,
          460,
          470,
          480,
          490,
          500,
          510,
          520,
          530,
          540,
          550,
          560,
          570,
          580,
          590,
          600,
          610,
          620,
          630,
          640,
          650,
          660,
          670,
          680,
          690,
          700,
          710,
          720,
          730,
          740,
          750,
          760,
          770,
          780,
          790,
          800,
          810,
          820,
          830,
          840,
          850,
          860,
          870,
          880,
          890,
          900,
          910,
          920,
          930,
          940,
          950,
          960,
          970,
          980,
          990
         ],
         "y": [
          -0.021624648664980817,
          0.004526092516741451,
          -0.031399012891081816,
          -0.024031658819452337,
          -0.040934641623240405,
          -0.02277242386557177,
          -0.05492378623604345,
          -0.1058555472282531,
          -0.02111880791065766,
          -0.04729958883646539,
          -0.009629809962134394,
          -0.0012613479374216816,
          -0.07022804568418153,
          -0.039261004871079606,
          -0.04445907378003178,
          -0.020975322757526317,
          0.012757463174645307,
          -0.05361989990841212,
          -0.04213250587680348,
          -0.014674110109850565,
          0.0006890108872166863,
          0.04020396692476445,
          -0.008507765316861881,
          0.03461036738397088,
          0.09051846737266281,
          -0.050515910786849985,
          -0.002795894402471924,
          0.016637883443155366,
          -0.034874183412043194,
          0.03773800922556802,
          0.008827218940218968,
          -0.009117913770997858,
          0.012879309716818898,
          0.005473752397105734,
          0.024648690809636834,
          -0.05805725163138872,
          -0.011227870322294102,
          -0.027751191386041,
          -0.016379926056164378,
          0.02565781664480513,
          -0.004440244680390673,
          -0.007104961372405035,
          -0.011524418074760175,
          -0.019534315037981483,
          -0.004866816066589064,
          0.02263006459038673,
          -0.0831835419488715,
          -0.032699163170383884,
          -0.01848563418449407,
          -0.001592222899957252,
          0.07740413561279853,
          0.0010647438224523223,
          -0.00658172785549801,
          -0.02053663928451471,
          0.018175691374065397,
          -0.05019890085840787,
          -0.046164756132548904,
          0.011524904964590198,
          -0.047567885532770096,
          -0.029778850541328165,
          -0.0177174624475141,
          -0.03543634480264089,
          -0.028729143475766345,
          -0.006298635956284988,
          -0.03258434717918732,
          -0.006928519557224022,
          -0.019930578483871086,
          -0.042669865241515365,
          -0.013155626045678662,
          0.021748142858905292,
          -0.03531930116520511,
          -0.01696109291635827,
          -0.013676286632237113,
          -0.06287838621284639,
          -0.024204878534703097,
          -0.027644038769137243,
          0.0162947303287596,
          -0.009671653459299184,
          -0.02064955825407161,
          -0.017475816192604614,
          -0.00041668385630118653,
          -0.007218795328050535,
          -0.014354542616849923,
          0.018828758225738908,
          -0.09219175738598108,
          -0.0037025253113423984,
          -0.0024572546739423454,
          -0.0402387979532115,
          -0.052272270266270654,
          -0.01418899810147735,
          -0.02931034121618968,
          -0.006390182099133456,
          -0.04152443645605728,
          -0.0232192517457659,
          -0.024744904013916286,
          -0.03691403465054955
         ]
        }
       ],
       "layout": {
        "template": {
         "data": {
          "bar": [
           {
            "error_x": {
             "color": "#2a3f5f"
            },
            "error_y": {
             "color": "#2a3f5f"
            },
            "marker": {
             "line": {
              "color": "#E5ECF6",
              "width": 0.5
             }
            },
            "type": "bar"
           }
          ],
          "barpolar": [
           {
            "marker": {
             "line": {
              "color": "#E5ECF6",
              "width": 0.5
             }
            },
            "type": "barpolar"
           }
          ],
          "carpet": [
           {
            "aaxis": {
             "endlinecolor": "#2a3f5f",
             "gridcolor": "white",
             "linecolor": "white",
             "minorgridcolor": "white",
             "startlinecolor": "#2a3f5f"
            },
            "baxis": {
             "endlinecolor": "#2a3f5f",
             "gridcolor": "white",
             "linecolor": "white",
             "minorgridcolor": "white",
             "startlinecolor": "#2a3f5f"
            },
            "type": "carpet"
           }
          ],
          "choropleth": [
           {
            "colorbar": {
             "outlinewidth": 0,
             "ticks": ""
            },
            "type": "choropleth"
           }
          ],
          "contour": [
           {
            "colorbar": {
             "outlinewidth": 0,
             "ticks": ""
            },
            "colorscale": [
             [
              0,
              "#0d0887"
             ],
             [
              0.1111111111111111,
              "#46039f"
             ],
             [
              0.2222222222222222,
              "#7201a8"
             ],
             [
              0.3333333333333333,
              "#9c179e"
             ],
             [
              0.4444444444444444,
              "#bd3786"
             ],
             [
              0.5555555555555556,
              "#d8576b"
             ],
             [
              0.6666666666666666,
              "#ed7953"
             ],
             [
              0.7777777777777778,
              "#fb9f3a"
             ],
             [
              0.8888888888888888,
              "#fdca26"
             ],
             [
              1,
              "#f0f921"
             ]
            ],
            "type": "contour"
           }
          ],
          "contourcarpet": [
           {
            "colorbar": {
             "outlinewidth": 0,
             "ticks": ""
            },
            "type": "contourcarpet"
           }
          ],
          "heatmap": [
           {
            "colorbar": {
             "outlinewidth": 0,
             "ticks": ""
            },
            "colorscale": [
             [
              0,
              "#0d0887"
             ],
             [
              0.1111111111111111,
              "#46039f"
             ],
             [
              0.2222222222222222,
              "#7201a8"
             ],
             [
              0.3333333333333333,
              "#9c179e"
             ],
             [
              0.4444444444444444,
              "#bd3786"
             ],
             [
              0.5555555555555556,
              "#d8576b"
             ],
             [
              0.6666666666666666,
              "#ed7953"
             ],
             [
              0.7777777777777778,
              "#fb9f3a"
             ],
             [
              0.8888888888888888,
              "#fdca26"
             ],
             [
              1,
              "#f0f921"
             ]
            ],
            "type": "heatmap"
           }
          ],
          "heatmapgl": [
           {
            "colorbar": {
             "outlinewidth": 0,
             "ticks": ""
            },
            "colorscale": [
             [
              0,
              "#0d0887"
             ],
             [
              0.1111111111111111,
              "#46039f"
             ],
             [
              0.2222222222222222,
              "#7201a8"
             ],
             [
              0.3333333333333333,
              "#9c179e"
             ],
             [
              0.4444444444444444,
              "#bd3786"
             ],
             [
              0.5555555555555556,
              "#d8576b"
             ],
             [
              0.6666666666666666,
              "#ed7953"
             ],
             [
              0.7777777777777778,
              "#fb9f3a"
             ],
             [
              0.8888888888888888,
              "#fdca26"
             ],
             [
              1,
              "#f0f921"
             ]
            ],
            "type": "heatmapgl"
           }
          ],
          "histogram": [
           {
            "marker": {
             "colorbar": {
              "outlinewidth": 0,
              "ticks": ""
             }
            },
            "type": "histogram"
           }
          ],
          "histogram2d": [
           {
            "colorbar": {
             "outlinewidth": 0,
             "ticks": ""
            },
            "colorscale": [
             [
              0,
              "#0d0887"
             ],
             [
              0.1111111111111111,
              "#46039f"
             ],
             [
              0.2222222222222222,
              "#7201a8"
             ],
             [
              0.3333333333333333,
              "#9c179e"
             ],
             [
              0.4444444444444444,
              "#bd3786"
             ],
             [
              0.5555555555555556,
              "#d8576b"
             ],
             [
              0.6666666666666666,
              "#ed7953"
             ],
             [
              0.7777777777777778,
              "#fb9f3a"
             ],
             [
              0.8888888888888888,
              "#fdca26"
             ],
             [
              1,
              "#f0f921"
             ]
            ],
            "type": "histogram2d"
           }
          ],
          "histogram2dcontour": [
           {
            "colorbar": {
             "outlinewidth": 0,
             "ticks": ""
            },
            "colorscale": [
             [
              0,
              "#0d0887"
             ],
             [
              0.1111111111111111,
              "#46039f"
             ],
             [
              0.2222222222222222,
              "#7201a8"
             ],
             [
              0.3333333333333333,
              "#9c179e"
             ],
             [
              0.4444444444444444,
              "#bd3786"
             ],
             [
              0.5555555555555556,
              "#d8576b"
             ],
             [
              0.6666666666666666,
              "#ed7953"
             ],
             [
              0.7777777777777778,
              "#fb9f3a"
             ],
             [
              0.8888888888888888,
              "#fdca26"
             ],
             [
              1,
              "#f0f921"
             ]
            ],
            "type": "histogram2dcontour"
           }
          ],
          "mesh3d": [
           {
            "colorbar": {
             "outlinewidth": 0,
             "ticks": ""
            },
            "type": "mesh3d"
           }
          ],
          "parcoords": [
           {
            "line": {
             "colorbar": {
              "outlinewidth": 0,
              "ticks": ""
             }
            },
            "type": "parcoords"
           }
          ],
          "pie": [
           {
            "automargin": true,
            "type": "pie"
           }
          ],
          "scatter": [
           {
            "marker": {
             "colorbar": {
              "outlinewidth": 0,
              "ticks": ""
             }
            },
            "type": "scatter"
           }
          ],
          "scatter3d": [
           {
            "line": {
             "colorbar": {
              "outlinewidth": 0,
              "ticks": ""
             }
            },
            "marker": {
             "colorbar": {
              "outlinewidth": 0,
              "ticks": ""
             }
            },
            "type": "scatter3d"
           }
          ],
          "scattercarpet": [
           {
            "marker": {
             "colorbar": {
              "outlinewidth": 0,
              "ticks": ""
             }
            },
            "type": "scattercarpet"
           }
          ],
          "scattergeo": [
           {
            "marker": {
             "colorbar": {
              "outlinewidth": 0,
              "ticks": ""
             }
            },
            "type": "scattergeo"
           }
          ],
          "scattergl": [
           {
            "marker": {
             "colorbar": {
              "outlinewidth": 0,
              "ticks": ""
             }
            },
            "type": "scattergl"
           }
          ],
          "scattermapbox": [
           {
            "marker": {
             "colorbar": {
              "outlinewidth": 0,
              "ticks": ""
             }
            },
            "type": "scattermapbox"
           }
          ],
          "scatterpolar": [
           {
            "marker": {
             "colorbar": {
              "outlinewidth": 0,
              "ticks": ""
             }
            },
            "type": "scatterpolar"
           }
          ],
          "scatterpolargl": [
           {
            "marker": {
             "colorbar": {
              "outlinewidth": 0,
              "ticks": ""
             }
            },
            "type": "scatterpolargl"
           }
          ],
          "scatterternary": [
           {
            "marker": {
             "colorbar": {
              "outlinewidth": 0,
              "ticks": ""
             }
            },
            "type": "scatterternary"
           }
          ],
          "surface": [
           {
            "colorbar": {
             "outlinewidth": 0,
             "ticks": ""
            },
            "colorscale": [
             [
              0,
              "#0d0887"
             ],
             [
              0.1111111111111111,
              "#46039f"
             ],
             [
              0.2222222222222222,
              "#7201a8"
             ],
             [
              0.3333333333333333,
              "#9c179e"
             ],
             [
              0.4444444444444444,
              "#bd3786"
             ],
             [
              0.5555555555555556,
              "#d8576b"
             ],
             [
              0.6666666666666666,
              "#ed7953"
             ],
             [
              0.7777777777777778,
              "#fb9f3a"
             ],
             [
              0.8888888888888888,
              "#fdca26"
             ],
             [
              1,
              "#f0f921"
             ]
            ],
            "type": "surface"
           }
          ],
          "table": [
           {
            "cells": {
             "fill": {
              "color": "#EBF0F8"
             },
             "line": {
              "color": "white"
             }
            },
            "header": {
             "fill": {
              "color": "#C8D4E3"
             },
             "line": {
              "color": "white"
             }
            },
            "type": "table"
           }
          ]
         },
         "layout": {
          "annotationdefaults": {
           "arrowcolor": "#2a3f5f",
           "arrowhead": 0,
           "arrowwidth": 1
          },
          "coloraxis": {
           "colorbar": {
            "outlinewidth": 0,
            "ticks": ""
           }
          },
          "colorscale": {
           "diverging": [
            [
             0,
             "#8e0152"
            ],
            [
             0.1,
             "#c51b7d"
            ],
            [
             0.2,
             "#de77ae"
            ],
            [
             0.3,
             "#f1b6da"
            ],
            [
             0.4,
             "#fde0ef"
            ],
            [
             0.5,
             "#f7f7f7"
            ],
            [
             0.6,
             "#e6f5d0"
            ],
            [
             0.7,
             "#b8e186"
            ],
            [
             0.8,
             "#7fbc41"
            ],
            [
             0.9,
             "#4d9221"
            ],
            [
             1,
             "#276419"
            ]
           ],
           "sequential": [
            [
             0,
             "#0d0887"
            ],
            [
             0.1111111111111111,
             "#46039f"
            ],
            [
             0.2222222222222222,
             "#7201a8"
            ],
            [
             0.3333333333333333,
             "#9c179e"
            ],
            [
             0.4444444444444444,
             "#bd3786"
            ],
            [
             0.5555555555555556,
             "#d8576b"
            ],
            [
             0.6666666666666666,
             "#ed7953"
            ],
            [
             0.7777777777777778,
             "#fb9f3a"
            ],
            [
             0.8888888888888888,
             "#fdca26"
            ],
            [
             1,
             "#f0f921"
            ]
           ],
           "sequentialminus": [
            [
             0,
             "#0d0887"
            ],
            [
             0.1111111111111111,
             "#46039f"
            ],
            [
             0.2222222222222222,
             "#7201a8"
            ],
            [
             0.3333333333333333,
             "#9c179e"
            ],
            [
             0.4444444444444444,
             "#bd3786"
            ],
            [
             0.5555555555555556,
             "#d8576b"
            ],
            [
             0.6666666666666666,
             "#ed7953"
            ],
            [
             0.7777777777777778,
             "#fb9f3a"
            ],
            [
             0.8888888888888888,
             "#fdca26"
            ],
            [
             1,
             "#f0f921"
            ]
           ]
          },
          "colorway": [
           "#636efa",
           "#EF553B",
           "#00cc96",
           "#ab63fa",
           "#FFA15A",
           "#19d3f3",
           "#FF6692",
           "#B6E880",
           "#FF97FF",
           "#FECB52"
          ],
          "font": {
           "color": "#2a3f5f"
          },
          "geo": {
           "bgcolor": "white",
           "lakecolor": "white",
           "landcolor": "#E5ECF6",
           "showlakes": true,
           "showland": true,
           "subunitcolor": "white"
          },
          "hoverlabel": {
           "align": "left"
          },
          "hovermode": "closest",
          "mapbox": {
           "style": "light"
          },
          "paper_bgcolor": "white",
          "plot_bgcolor": "#E5ECF6",
          "polar": {
           "angularaxis": {
            "gridcolor": "white",
            "linecolor": "white",
            "ticks": ""
           },
           "bgcolor": "#E5ECF6",
           "radialaxis": {
            "gridcolor": "white",
            "linecolor": "white",
            "ticks": ""
           }
          },
          "scene": {
           "xaxis": {
            "backgroundcolor": "#E5ECF6",
            "gridcolor": "white",
            "gridwidth": 2,
            "linecolor": "white",
            "showbackground": true,
            "ticks": "",
            "zerolinecolor": "white"
           },
           "yaxis": {
            "backgroundcolor": "#E5ECF6",
            "gridcolor": "white",
            "gridwidth": 2,
            "linecolor": "white",
            "showbackground": true,
            "ticks": "",
            "zerolinecolor": "white"
           },
           "zaxis": {
            "backgroundcolor": "#E5ECF6",
            "gridcolor": "white",
            "gridwidth": 2,
            "linecolor": "white",
            "showbackground": true,
            "ticks": "",
            "zerolinecolor": "white"
           }
          },
          "shapedefaults": {
           "line": {
            "color": "#2a3f5f"
           }
          },
          "ternary": {
           "aaxis": {
            "gridcolor": "white",
            "linecolor": "white",
            "ticks": ""
           },
           "baxis": {
            "gridcolor": "white",
            "linecolor": "white",
            "ticks": ""
           },
           "bgcolor": "#E5ECF6",
           "caxis": {
            "gridcolor": "white",
            "linecolor": "white",
            "ticks": ""
           }
          },
          "title": {
           "x": 0.05
          },
          "xaxis": {
           "automargin": true,
           "gridcolor": "white",
           "linecolor": "white",
           "ticks": "",
           "title": {
            "standoff": 15
           },
           "zerolinecolor": "white",
           "zerolinewidth": 2
          },
          "yaxis": {
           "automargin": true,
           "gridcolor": "white",
           "linecolor": "white",
           "ticks": "",
           "title": {
            "standoff": 15
           },
           "zerolinecolor": "white",
           "zerolinewidth": 2
          }
         }
        },
        "title": {
         "text": "Polarity for all genes"
        },
        "xaxis": {
         "title": {
          "text": "Length of gene(in codon)"
         }
        },
        "yaxis": {
         "title": {
          "text": "Averaged polarity per gene"
         }
        }
       }
      },
      "text/html": [
       "<div>\n",
       "        \n",
       "        \n",
       "            <div id=\"3ec94aa8-8e25-43ba-96af-585354f18f63\" class=\"plotly-graph-div\" style=\"height:525px; width:100%;\"></div>\n",
       "            <script type=\"text/javascript\">\n",
       "                require([\"plotly\"], function(Plotly) {\n",
       "                    window.PLOTLYENV=window.PLOTLYENV || {};\n",
       "                    \n",
       "                if (document.getElementById(\"3ec94aa8-8e25-43ba-96af-585354f18f63\")) {\n",
       "                    Plotly.newPlot(\n",
       "                        '3ec94aa8-8e25-43ba-96af-585354f18f63',\n",
       "                        [{\"mode\": \"markers+lines\", \"name\": \"-Glu15+Glu1-1_8_ACTTGA\", \"type\": \"scatter\", \"x\": [40, 50, 60, 70, 80, 90, 100, 110, 120, 130, 140, 150, 160, 170, 180, 190, 200, 210, 220, 230, 240, 250, 260, 270, 280, 290, 300, 310, 320, 330, 340, 350, 360, 370, 380, 390, 400, 410, 420, 430, 440, 450, 460, 470, 480, 490, 500, 510, 520, 530, 540, 550, 560, 570, 580, 590, 600, 610, 620, 630, 640, 650, 660, 670, 680, 690, 700, 710, 720, 730, 740, 750, 760, 770, 780, 790, 800, 810, 820, 830, 840, 850, 860, 870, 880, 890, 900, 910, 920, 930, 940, 950, 960, 970, 980, 990], \"y\": [-0.03485528410532585, -0.030431367549771715, -0.08406382927073588, -0.04233396914526263, -0.005309030608196392, -0.10387353740125625, -0.07319014753694811, -0.09740342631710375, -0.0979229928677401, -0.09477857771860125, -0.09042087518783888, -0.0615972882450234, -0.15616745405772617, -0.10462466023412414, -0.04228867607609394, -0.09156070434032876, -0.0746404661113412, -0.09290341931761079, -0.09641341597838797, -0.07610748205529469, -0.07084641939257588, -0.07462731354402095, -0.06363132547840424, -0.03618592843080341, 0.03662274213741341, -0.05704123161073601, -0.08657724634550759, -0.037393984759232404, -0.06631391650599441, -0.05841604763275667, -0.08619867575276201, -0.04667151355478583, -0.05951279619292525, -0.042632600668446916, -0.07130791113314, -0.03358931823014847, -0.06852188956906718, -0.0423526493252298, -0.07253372958181324, -0.06328857239544701, -0.061118845963899375, -0.046275970967168144, -0.029759260530096907, -0.03449336067455581, -0.03802135404405848, -0.012589309289537576, -0.09018895074612607, -0.07071134085712007, -0.012586985456467447, -0.03389059765911129, -0.045444510596093037, -0.04143718567044421, -0.04627086253634857, -0.010548607230656957, -0.03414417713468162, -0.048839794240877366, -0.040900506950706905, 0.001298281770238832, -0.054676809353100486, -0.036219386704589705, -0.037946255349297305, -0.021248132960976173, -0.04830843406854454, -0.019610273737087475, -0.0374269847368441, -0.01126703446390229, -0.045069459619477, -0.005777803722556863, -0.006756350536502337, -0.04038682992491567, -0.027685432009586446, -0.06296659888275627, -0.016628667967506654, -0.04207099981062894, -0.0027674203646818763, -0.02879339570356482, -0.00699606330969646, -0.013061068737342496, -0.014832423071529382, -0.009146309565891039, 0.001333131213672223, -0.007850523223945189, -0.018011471501438295, -0.03443658858961399, -0.0628939983393937, 0.011827801057821248, -0.0230783015447548, 0.006273628533158567, 0.002575488999112789, -0.017280880819343664, 0.003080742808890696, -0.01138122585104588, 0.005798540794816267, -0.012932760658277065, 0.0016184703314046551, -0.00031993778905888085]}, {\"mode\": \"markers+lines\", \"name\": \"-Glu15+Glu5-2_9_ACGACT\", \"type\": \"scatter\", \"x\": [40, 50, 60, 70, 80, 90, 100, 110, 120, 130, 140, 150, 160, 170, 180, 190, 200, 210, 220, 230, 240, 250, 260, 270, 280, 290, 300, 310, 320, 330, 340, 350, 360, 370, 380, 390, 400, 410, 420, 430, 440, 450, 460, 470, 480, 490, 500, 510, 520, 530, 540, 550, 560, 570, 580, 590, 600, 610, 620, 630, 640, 650, 660, 670, 680, 690, 700, 710, 720, 730, 740, 750, 760, 770, 780, 790, 800, 810, 820, 830, 840, 850, 860, 870, 880, 890, 900, 910, 920, 930, 940, 950, 960, 970, 980, 990], \"y\": [-0.01725657428820244, 0.003141223557874683, -0.06235732294889751, -0.023422235082483, -0.04698101006288859, -0.0757815492589613, -0.03871371157040462, -0.06882029344955663, -0.04584352299117193, -0.0519250620043268, -0.00766748233908616, 0.009904095347291586, -0.09676197666200083, -0.05083608009722443, 0.01628042615029816, -0.0202828637624759, 0.013890677950092923, -0.03710903966507221, -0.03097271403547493, -0.01699449169586575, 0.017644985914810483, -0.009878406668521725, -0.029614821721748123, 0.022311750085267323, 0.097456967850879, -0.03212561398216871, -0.0031882636337773607, -0.014032535424590048, -0.003411706081832505, 0.019532568783477647, -0.029728589933077084, -0.02148489006469652, -0.009705160835632365, -0.006482467411480365, -0.016590563534095756, -0.02369656444986046, -0.01726046720199294, -0.03221241096203938, -0.02509179603498484, -0.0270824088707354, -0.03511358194461751, -0.03669265462683788, -0.02973455503188662, -0.015483516315093275, -0.008854101233986679, -0.014869558464546712, -0.03341929072231073, -0.05899436218056457, -0.022006645902334056, -0.007957947170329117, -0.022010342804074132, -0.02848102272568892, -0.034111563069475374, -0.033381997861084166, -0.007495989172370943, -0.02637008697084536, -0.01572113450842259, -0.03781731440287707, -0.04712200697370474, -0.03740276760569155, -0.00990671184196632, -0.030964218798968286, -0.029913486092652326, -0.02659350976591828, -0.023551460294946803, -0.031060742434182158, -0.033637859827259524, -0.02884124920794803, -0.020022276826466224, -0.012181001541084509, -0.030211954883040383, -0.055898655761778965, -0.03455791536080824, -0.04380097575582272, -0.025694859784906824, -0.045795654708529705, -0.00781711362669946, -0.013185497681960145, -0.024638631447511484, -0.014526910869506157, -0.04087382188154616, -0.010926214667275658, -0.05441643965931968, -0.0028531318945154197, -0.06432167366976783, -0.011725385332411962, -0.02474824149972905, -0.022450596979097053, -0.040458610763231456, -0.05065492630309792, -0.009214534048238538, -0.03839645887683829, -0.03328366727046476, -0.05317587603009192, -0.028213423278637812, -0.031824187339577904]}, {\"mode\": \"markers+lines\", \"name\": \"-Glu15-1_7_CAGATC\", \"type\": \"scatter\", \"x\": [40, 50, 60, 70, 80, 90, 100, 110, 120, 130, 140, 150, 160, 170, 180, 190, 200, 210, 220, 230, 240, 250, 260, 270, 280, 290, 300, 310, 320, 330, 340, 350, 360, 370, 380, 390, 400, 410, 420, 430, 440, 450, 460, 470, 480, 490, 500, 510, 520, 530, 540, 550, 560, 570, 580, 590, 600, 610, 620, 630, 640, 650, 660, 670, 680, 690, 700, 710, 720, 730, 740, 750, 760, 770, 780, 790, 800, 810, 820, 830, 840, 850, 860, 870, 880, 890, 900, 910, 920, 930, 940, 950, 960, 970, 980, 990], \"y\": [-0.02118496912877318, -0.004435363492603049, -0.021413505403682413, -0.06430854926449267, 0.006625327700621712, -0.0004328935199321889, -0.007918222428850477, -0.03289831237843071, 0.07083687407463939, -0.018429224062785122, -0.03015280275507961, 0.07204143450266241, -0.0562954086628342, 0.006767978979533206, -0.00048594721284134966, 0.05960924046531772, 0.0740993124380964, -0.028638345684435063, 0.051507901355054446, 0.0037007976325239595, 0.06242773298019474, 0.04660615658786626, -0.014292313443793007, 0.08593016001929836, 0.11237962442407565, 0.020618328311224912, 0.0007107873584032318, 0.05760063899436358, 0.07186724711923019, 0.07752523993842424, 0.01228911205866189, 2.4082850657372126e-05, 0.019650332990997308, 0.0369107223378659, -0.06137918457407522, 0.010946326425680362, 0.024004757031104815, -0.004090439551130559, -0.006884013596511351, 0.009224634031044232, -0.0001805873591199399, -0.014557385260229844, -0.009149385617898265, 0.01738099935501005, 0.05386549663791378, 0.014371716358462244, -0.03662269080809204, -0.04161808901770652, -0.00035625946362017604, 0.006821856462468103, 0.004797692097958731, -0.01024138607196743, -0.01846546005612131, 0.036079213307513375, 0.032065797709717736, 0.01417649103015944, 0.013102401272930596, -0.000795053099929476, -0.04101487176216874, -0.020155322062076708, -0.04885245139233797, -0.03742702519935847, -0.03603220392735196, 0.006505624142796909, -0.012606507943327329, 0.039358311442722484, -0.03781785934068143, -0.005733149112656459, 0.020107932425465602, 0.007463479932436053, 0.00791224196948869, -0.042631511440539206, 0.0065038222722743734, -0.0051323078692461855, 0.009757665653846555, -0.009330285266181494, 0.029602885276388324, 0.01426240727467518, -0.011974591119399724, 0.018487907095818445, 0.021514821435771273, -0.0028254460523151614, 0.003956855024099536, -0.010905892157002736, -0.0033147236227802743, 0.005776395327140127, -0.0220857124700723, 0.0028059092554187193, -0.02900802039719667, 0.0029132426404638837, 0.00822917839925301, -0.007652822032852422, 0.015788969996840298, 0.015006378733976733, -0.006937621707762331, 0.010395182193199631]}, {\"mode\": \"markers+lines\", \"name\": \"-Glu7_5-1_6_GCCAAT\", \"type\": \"scatter\", \"x\": [40, 50, 60, 70, 80, 90, 100, 110, 120, 130, 140, 150, 160, 170, 180, 190, 200, 210, 220, 230, 240, 250, 260, 270, 280, 290, 300, 310, 320, 330, 340, 350, 360, 370, 380, 390, 400, 410, 420, 430, 440, 450, 460, 470, 480, 490, 500, 510, 520, 530, 540, 550, 560, 570, 580, 590, 600, 610, 620, 630, 640, 650, 660, 670, 680, 690, 700, 710, 720, 730, 740, 750, 760, 770, 780, 790, 800, 810, 820, 830, 840, 850, 860, 870, 880, 890, 900, 910, 920, 930, 940, 950, 960, 970, 980, 990], \"y\": [-0.009607239821098493, 0.006262287689289394, -0.006705181952989877, -0.006966487976963897, -0.003556514780731007, -0.03452364770995891, 0.041186750914700185, -0.03005289548674422, 0.025431689171148988, -0.031341470870768606, 0.0015707706678057631, 0.055467982126397815, -0.013118808532580838, 0.008213702278619403, 0.05412174324877557, 0.03730557692987325, 0.0585883336196514, -0.011792356335367344, 0.015846265859877223, 0.041445414229768614, 0.037148269728617615, 0.05426899923940976, -0.027712870363196578, 0.10021983106705566, 0.12785325862162875, 0.04233307369725809, 0.03577333646082692, 0.08668563356243837, 0.0764865616087506, 0.07901356967706201, 0.04244175904674409, 0.058145800123669315, -0.0001664133792144103, 0.06129435425256544, 0.0012130719594104682, 0.022106461471872826, 0.03865305059390315, 0.023323165235749333, 0.022886184995511684, 0.026290507059004112, 0.0499195466910176, 0.04059126316938654, 0.04366535602618547, 0.030226458074804716, 0.05552796418760039, 0.057388529387398766, 0.009332609651878425, 0.035322093582513474, 0.017901717309222062, -0.011274536440983229, 0.06026637879901998, 0.024981910018513465, 0.035644416422722425, 0.028667371060249303, 0.061291211761533404, 0.051214360692225826, 0.026599807843805275, 0.0501327410257836, 0.028730081752245524, 0.022890603195340475, 0.05118157184960747, 0.041483457345310344, 0.02683834234455836, 0.052082099050112386, 0.026041000318247746, 0.07289593969042066, 0.026640134303403878, 0.06504412258474604, 0.05608094002132829, 0.03727805023567209, 0.02405943868705814, 0.013082922877399024, 0.045021290328051994, 0.022231021560660234, 0.04093520733498053, 0.027069095852682707, 0.06702898818721663, 0.03887769875514744, 0.04017353374669577, 0.03663450696584406, 0.06758276366542644, 0.04296603286819966, 0.030503691906359983, 0.0318359245301375, 0.030018264883552356, 0.06606535656512189, 0.009446447991966268, 0.020133675479644255, 0.055764794692358954, 0.041893171606322, 0.042354079169568064, 0.03851371285855601, 0.058332302488958494, 0.05189874359378567, 0.01578447345024252, 0.021433285375029858]}, {\"mode\": \"markers+lines\", \"name\": \"logphase-1_5_ACAGTG\", \"type\": \"scatter\", \"x\": [40, 50, 60, 70, 80, 90, 100, 110, 120, 130, 140, 150, 160, 170, 180, 190, 200, 210, 220, 230, 240, 250, 260, 270, 280, 290, 300, 310, 320, 330, 340, 350, 360, 370, 380, 390, 400, 410, 420, 430, 440, 450, 460, 470, 480, 490, 500, 510, 520, 530, 540, 550, 560, 570, 580, 590, 600, 610, 620, 630, 640, 650, 660, 670, 680, 690, 700, 710, 720, 730, 740, 750, 760, 770, 780, 790, 800, 810, 820, 830, 840, 850, 860, 870, 880, 890, 900, 910, 920, 930, 940, 950, 960, 970, 980, 990], \"y\": [-0.021624648664980817, 0.004526092516741451, -0.031399012891081816, -0.024031658819452337, -0.040934641623240405, -0.02277242386557177, -0.05492378623604345, -0.1058555472282531, -0.02111880791065766, -0.04729958883646539, -0.009629809962134394, -0.0012613479374216816, -0.07022804568418153, -0.039261004871079606, -0.04445907378003178, -0.020975322757526317, 0.012757463174645307, -0.05361989990841212, -0.04213250587680348, -0.014674110109850565, 0.0006890108872166863, 0.04020396692476445, -0.008507765316861881, 0.03461036738397088, 0.09051846737266281, -0.050515910786849985, -0.002795894402471924, 0.016637883443155366, -0.034874183412043194, 0.03773800922556802, 0.008827218940218968, -0.009117913770997858, 0.012879309716818898, 0.005473752397105734, 0.024648690809636834, -0.05805725163138872, -0.011227870322294102, -0.027751191386041, -0.016379926056164378, 0.02565781664480513, -0.004440244680390673, -0.007104961372405035, -0.011524418074760175, -0.019534315037981483, -0.004866816066589064, 0.02263006459038673, -0.0831835419488715, -0.032699163170383884, -0.01848563418449407, -0.001592222899957252, 0.07740413561279853, 0.0010647438224523223, -0.00658172785549801, -0.02053663928451471, 0.018175691374065397, -0.05019890085840787, -0.046164756132548904, 0.011524904964590198, -0.047567885532770096, -0.029778850541328165, -0.0177174624475141, -0.03543634480264089, -0.028729143475766345, -0.006298635956284988, -0.03258434717918732, -0.006928519557224022, -0.019930578483871086, -0.042669865241515365, -0.013155626045678662, 0.021748142858905292, -0.03531930116520511, -0.01696109291635827, -0.013676286632237113, -0.06287838621284639, -0.024204878534703097, -0.027644038769137243, 0.0162947303287596, -0.009671653459299184, -0.02064955825407161, -0.017475816192604614, -0.00041668385630118653, -0.007218795328050535, -0.014354542616849923, 0.018828758225738908, -0.09219175738598108, -0.0037025253113423984, -0.0024572546739423454, -0.0402387979532115, -0.052272270266270654, -0.01418899810147735, -0.02931034121618968, -0.006390182099133456, -0.04152443645605728, -0.0232192517457659, -0.024744904013916286, -0.03691403465054955]}],\n",
       "                        {\"template\": {\"data\": {\"bar\": [{\"error_x\": {\"color\": \"#2a3f5f\"}, \"error_y\": {\"color\": \"#2a3f5f\"}, \"marker\": {\"line\": {\"color\": \"#E5ECF6\", \"width\": 0.5}}, \"type\": \"bar\"}], \"barpolar\": [{\"marker\": {\"line\": {\"color\": \"#E5ECF6\", \"width\": 0.5}}, \"type\": \"barpolar\"}], \"carpet\": [{\"aaxis\": {\"endlinecolor\": \"#2a3f5f\", \"gridcolor\": \"white\", \"linecolor\": \"white\", \"minorgridcolor\": \"white\", \"startlinecolor\": \"#2a3f5f\"}, \"baxis\": {\"endlinecolor\": \"#2a3f5f\", \"gridcolor\": \"white\", \"linecolor\": \"white\", \"minorgridcolor\": \"white\", \"startlinecolor\": \"#2a3f5f\"}, \"type\": \"carpet\"}], \"choropleth\": [{\"colorbar\": {\"outlinewidth\": 0, \"ticks\": \"\"}, \"type\": \"choropleth\"}], \"contour\": [{\"colorbar\": {\"outlinewidth\": 0, \"ticks\": \"\"}, \"colorscale\": [[0.0, \"#0d0887\"], [0.1111111111111111, \"#46039f\"], [0.2222222222222222, \"#7201a8\"], [0.3333333333333333, \"#9c179e\"], [0.4444444444444444, \"#bd3786\"], [0.5555555555555556, \"#d8576b\"], [0.6666666666666666, \"#ed7953\"], [0.7777777777777778, \"#fb9f3a\"], [0.8888888888888888, \"#fdca26\"], [1.0, \"#f0f921\"]], \"type\": \"contour\"}], \"contourcarpet\": [{\"colorbar\": {\"outlinewidth\": 0, \"ticks\": \"\"}, \"type\": \"contourcarpet\"}], \"heatmap\": [{\"colorbar\": {\"outlinewidth\": 0, \"ticks\": \"\"}, \"colorscale\": [[0.0, \"#0d0887\"], [0.1111111111111111, \"#46039f\"], [0.2222222222222222, \"#7201a8\"], [0.3333333333333333, \"#9c179e\"], [0.4444444444444444, \"#bd3786\"], [0.5555555555555556, \"#d8576b\"], [0.6666666666666666, \"#ed7953\"], [0.7777777777777778, \"#fb9f3a\"], [0.8888888888888888, \"#fdca26\"], [1.0, \"#f0f921\"]], \"type\": \"heatmap\"}], \"heatmapgl\": [{\"colorbar\": {\"outlinewidth\": 0, \"ticks\": \"\"}, \"colorscale\": [[0.0, \"#0d0887\"], [0.1111111111111111, \"#46039f\"], [0.2222222222222222, \"#7201a8\"], [0.3333333333333333, \"#9c179e\"], [0.4444444444444444, \"#bd3786\"], [0.5555555555555556, \"#d8576b\"], [0.6666666666666666, \"#ed7953\"], [0.7777777777777778, \"#fb9f3a\"], [0.8888888888888888, \"#fdca26\"], [1.0, \"#f0f921\"]], \"type\": \"heatmapgl\"}], \"histogram\": [{\"marker\": {\"colorbar\": {\"outlinewidth\": 0, \"ticks\": \"\"}}, \"type\": \"histogram\"}], \"histogram2d\": [{\"colorbar\": {\"outlinewidth\": 0, \"ticks\": \"\"}, \"colorscale\": [[0.0, \"#0d0887\"], [0.1111111111111111, \"#46039f\"], [0.2222222222222222, \"#7201a8\"], [0.3333333333333333, \"#9c179e\"], [0.4444444444444444, \"#bd3786\"], [0.5555555555555556, \"#d8576b\"], [0.6666666666666666, \"#ed7953\"], [0.7777777777777778, \"#fb9f3a\"], [0.8888888888888888, \"#fdca26\"], [1.0, \"#f0f921\"]], \"type\": \"histogram2d\"}], \"histogram2dcontour\": [{\"colorbar\": {\"outlinewidth\": 0, \"ticks\": \"\"}, \"colorscale\": [[0.0, \"#0d0887\"], [0.1111111111111111, \"#46039f\"], [0.2222222222222222, \"#7201a8\"], [0.3333333333333333, \"#9c179e\"], [0.4444444444444444, \"#bd3786\"], [0.5555555555555556, \"#d8576b\"], [0.6666666666666666, \"#ed7953\"], [0.7777777777777778, \"#fb9f3a\"], [0.8888888888888888, \"#fdca26\"], [1.0, \"#f0f921\"]], \"type\": \"histogram2dcontour\"}], \"mesh3d\": [{\"colorbar\": {\"outlinewidth\": 0, \"ticks\": \"\"}, \"type\": \"mesh3d\"}], \"parcoords\": [{\"line\": {\"colorbar\": {\"outlinewidth\": 0, \"ticks\": \"\"}}, \"type\": \"parcoords\"}], \"pie\": [{\"automargin\": true, \"type\": \"pie\"}], \"scatter\": [{\"marker\": {\"colorbar\": {\"outlinewidth\": 0, \"ticks\": \"\"}}, \"type\": \"scatter\"}], \"scatter3d\": [{\"line\": {\"colorbar\": {\"outlinewidth\": 0, \"ticks\": \"\"}}, \"marker\": {\"colorbar\": {\"outlinewidth\": 0, \"ticks\": \"\"}}, \"type\": \"scatter3d\"}], \"scattercarpet\": [{\"marker\": {\"colorbar\": {\"outlinewidth\": 0, \"ticks\": \"\"}}, \"type\": \"scattercarpet\"}], \"scattergeo\": [{\"marker\": {\"colorbar\": {\"outlinewidth\": 0, \"ticks\": \"\"}}, \"type\": \"scattergeo\"}], \"scattergl\": [{\"marker\": {\"colorbar\": {\"outlinewidth\": 0, \"ticks\": \"\"}}, \"type\": \"scattergl\"}], \"scattermapbox\": [{\"marker\": {\"colorbar\": {\"outlinewidth\": 0, \"ticks\": \"\"}}, \"type\": \"scattermapbox\"}], \"scatterpolar\": [{\"marker\": {\"colorbar\": {\"outlinewidth\": 0, \"ticks\": \"\"}}, \"type\": \"scatterpolar\"}], \"scatterpolargl\": [{\"marker\": {\"colorbar\": {\"outlinewidth\": 0, \"ticks\": \"\"}}, \"type\": \"scatterpolargl\"}], \"scatterternary\": [{\"marker\": {\"colorbar\": {\"outlinewidth\": 0, \"ticks\": \"\"}}, \"type\": \"scatterternary\"}], \"surface\": [{\"colorbar\": {\"outlinewidth\": 0, \"ticks\": \"\"}, \"colorscale\": [[0.0, \"#0d0887\"], [0.1111111111111111, \"#46039f\"], [0.2222222222222222, \"#7201a8\"], [0.3333333333333333, \"#9c179e\"], [0.4444444444444444, \"#bd3786\"], [0.5555555555555556, \"#d8576b\"], [0.6666666666666666, \"#ed7953\"], [0.7777777777777778, \"#fb9f3a\"], [0.8888888888888888, \"#fdca26\"], [1.0, \"#f0f921\"]], \"type\": \"surface\"}], \"table\": [{\"cells\": {\"fill\": {\"color\": \"#EBF0F8\"}, \"line\": {\"color\": \"white\"}}, \"header\": {\"fill\": {\"color\": \"#C8D4E3\"}, \"line\": {\"color\": \"white\"}}, \"type\": \"table\"}]}, \"layout\": {\"annotationdefaults\": {\"arrowcolor\": \"#2a3f5f\", \"arrowhead\": 0, \"arrowwidth\": 1}, \"coloraxis\": {\"colorbar\": {\"outlinewidth\": 0, \"ticks\": \"\"}}, \"colorscale\": {\"diverging\": [[0, \"#8e0152\"], [0.1, \"#c51b7d\"], [0.2, \"#de77ae\"], [0.3, \"#f1b6da\"], [0.4, \"#fde0ef\"], [0.5, \"#f7f7f7\"], [0.6, \"#e6f5d0\"], [0.7, \"#b8e186\"], [0.8, \"#7fbc41\"], [0.9, \"#4d9221\"], [1, \"#276419\"]], \"sequential\": [[0.0, \"#0d0887\"], [0.1111111111111111, \"#46039f\"], [0.2222222222222222, \"#7201a8\"], [0.3333333333333333, \"#9c179e\"], [0.4444444444444444, \"#bd3786\"], [0.5555555555555556, \"#d8576b\"], [0.6666666666666666, \"#ed7953\"], [0.7777777777777778, \"#fb9f3a\"], [0.8888888888888888, \"#fdca26\"], [1.0, \"#f0f921\"]], \"sequentialminus\": [[0.0, \"#0d0887\"], [0.1111111111111111, \"#46039f\"], [0.2222222222222222, \"#7201a8\"], [0.3333333333333333, \"#9c179e\"], [0.4444444444444444, \"#bd3786\"], [0.5555555555555556, \"#d8576b\"], [0.6666666666666666, \"#ed7953\"], [0.7777777777777778, \"#fb9f3a\"], [0.8888888888888888, \"#fdca26\"], [1.0, \"#f0f921\"]]}, \"colorway\": [\"#636efa\", \"#EF553B\", \"#00cc96\", \"#ab63fa\", \"#FFA15A\", \"#19d3f3\", \"#FF6692\", \"#B6E880\", \"#FF97FF\", \"#FECB52\"], \"font\": {\"color\": \"#2a3f5f\"}, \"geo\": {\"bgcolor\": \"white\", \"lakecolor\": \"white\", \"landcolor\": \"#E5ECF6\", \"showlakes\": true, \"showland\": true, \"subunitcolor\": \"white\"}, \"hoverlabel\": {\"align\": \"left\"}, \"hovermode\": \"closest\", \"mapbox\": {\"style\": \"light\"}, \"paper_bgcolor\": \"white\", \"plot_bgcolor\": \"#E5ECF6\", \"polar\": {\"angularaxis\": {\"gridcolor\": \"white\", \"linecolor\": \"white\", \"ticks\": \"\"}, \"bgcolor\": \"#E5ECF6\", \"radialaxis\": {\"gridcolor\": \"white\", \"linecolor\": \"white\", \"ticks\": \"\"}}, \"scene\": {\"xaxis\": {\"backgroundcolor\": \"#E5ECF6\", \"gridcolor\": \"white\", \"gridwidth\": 2, \"linecolor\": \"white\", \"showbackground\": true, \"ticks\": \"\", \"zerolinecolor\": \"white\"}, \"yaxis\": {\"backgroundcolor\": \"#E5ECF6\", \"gridcolor\": \"white\", \"gridwidth\": 2, \"linecolor\": \"white\", \"showbackground\": true, \"ticks\": \"\", \"zerolinecolor\": \"white\"}, \"zaxis\": {\"backgroundcolor\": \"#E5ECF6\", \"gridcolor\": \"white\", \"gridwidth\": 2, \"linecolor\": \"white\", \"showbackground\": true, \"ticks\": \"\", \"zerolinecolor\": \"white\"}}, \"shapedefaults\": {\"line\": {\"color\": \"#2a3f5f\"}}, \"ternary\": {\"aaxis\": {\"gridcolor\": \"white\", \"linecolor\": \"white\", \"ticks\": \"\"}, \"baxis\": {\"gridcolor\": \"white\", \"linecolor\": \"white\", \"ticks\": \"\"}, \"bgcolor\": \"#E5ECF6\", \"caxis\": {\"gridcolor\": \"white\", \"linecolor\": \"white\", \"ticks\": \"\"}}, \"title\": {\"x\": 0.05}, \"xaxis\": {\"automargin\": true, \"gridcolor\": \"white\", \"linecolor\": \"white\", \"ticks\": \"\", \"title\": {\"standoff\": 15}, \"zerolinecolor\": \"white\", \"zerolinewidth\": 2}, \"yaxis\": {\"automargin\": true, \"gridcolor\": \"white\", \"linecolor\": \"white\", \"ticks\": \"\", \"title\": {\"standoff\": 15}, \"zerolinecolor\": \"white\", \"zerolinewidth\": 2}}}, \"title\": {\"text\": \"Polarity for all genes\"}, \"xaxis\": {\"title\": {\"text\": \"Length of gene(in codon)\"}}, \"yaxis\": {\"title\": {\"text\": \"Averaged polarity per gene\"}}},\n",
       "                        {\"responsive\": true}\n",
       "                    ).then(function(){\n",
       "                            \n",
       "var gd = document.getElementById('3ec94aa8-8e25-43ba-96af-585354f18f63');\n",
       "var x = new MutationObserver(function (mutations, observer) {{\n",
       "        var display = window.getComputedStyle(gd).display;\n",
       "        if (!display || display === 'none') {{\n",
       "            console.log([gd, 'removed!']);\n",
       "            Plotly.purge(gd);\n",
       "            observer.disconnect();\n",
       "        }}\n",
       "}});\n",
       "\n",
       "// Listen for the removal of the full notebook cells\n",
       "var notebookContainer = gd.closest('#notebook-container');\n",
       "if (notebookContainer) {{\n",
       "    x.observe(notebookContainer, {childList: true});\n",
       "}}\n",
       "\n",
       "// Listen for the clearing of the current output cell\n",
       "var outputEl = gd.closest('.output');\n",
       "if (outputEl) {{\n",
       "    x.observe(outputEl, {childList: true});\n",
       "}}\n",
       "\n",
       "                        })\n",
       "                };\n",
       "                });\n",
       "            </script>\n",
       "        </div>"
      ]
     },
     "metadata": {},
     "output_type": "display_data"
    }
   ],
   "source": [
    "fig = go.Figure()\n",
    "\n",
    "for t in range(len(times)):\n",
    "    fig.add_trace(go.Scatter(x=keys, y=values_list[t],\n",
    "                    mode='markers+lines',\n",
    "                    #mode='markers',\n",
    "                    name= times[t]))\n",
    "    \n",
    "# Set title\n",
    "fig.update_layout(\n",
    "    title_text=\"Polarity for all genes\",\n",
    "    xaxis_title=\"Length of gene(in codon)\",\n",
    "    yaxis_title=\"Averaged polarity per gene\"\n",
    ")\n",
    "\n",
    "fig.show()"
   ]
  },
  {
   "cell_type": "code",
   "execution_count": null,
   "metadata": {},
   "outputs": [],
   "source": []
  }
 ],
 "metadata": {
  "kernelspec": {
   "display_name": "Python 3",
   "language": "python",
   "name": "python3"
  },
  "language_info": {
   "codemirror_mode": {
    "name": "ipython",
    "version": 3
   },
   "file_extension": ".py",
   "mimetype": "text/x-python",
   "name": "python",
   "nbconvert_exporter": "python",
   "pygments_lexer": "ipython3",
   "version": "3.7.2"
  }
 },
 "nbformat": 4,
 "nbformat_minor": 2
}
